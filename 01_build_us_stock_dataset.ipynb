{
 "cells": [
  {
   "cell_type": "markdown",
   "metadata": {},
   "source": [
    "# Download historical equity data for NASDAQ stocks from yahoo finance"
   ]
  },
  {
   "cell_type": "code",
   "execution_count": 1,
   "metadata": {
    "ExecuteTime": {
     "end_time": "2021-02-24T03:35:10.028380Z",
     "start_time": "2021-02-24T03:35:10.026213Z"
    }
   },
   "outputs": [],
   "source": [
    "import warnings\n",
    "warnings.filterwarnings('ignore')"
   ]
  },
  {
   "cell_type": "code",
   "execution_count": 2,
   "metadata": {
    "ExecuteTime": {
     "end_time": "2021-02-24T03:35:10.259404Z",
     "start_time": "2021-02-24T03:35:10.030004Z"
    }
   },
   "outputs": [],
   "source": [
    "from time import time\n",
    "from tqdm import tqdm\n",
    "from pathlib import Path\n",
    "import pandas as pd\n",
    "\n",
    "from pandas_datareader.nasdaq_trader import get_nasdaq_symbols\n",
    "import yfinance as yf"
   ]
  },
  {
   "cell_type": "code",
   "execution_count": 3,
   "metadata": {
    "ExecuteTime": {
     "end_time": "2021-02-24T03:35:10.263767Z",
     "start_time": "2021-02-24T03:35:10.261678Z"
    }
   },
   "outputs": [],
   "source": [
    "idx = pd.IndexSlice"
   ]
  },
  {
   "cell_type": "code",
   "execution_count": 4,
   "metadata": {
    "ExecuteTime": {
     "end_time": "2021-02-24T03:35:10.273874Z",
     "start_time": "2021-02-24T03:35:10.264725Z"
    }
   },
   "outputs": [],
   "source": [
    "results_path = Path('results', 'asset_pricing')\n",
    "if not results_path.exists():\n",
    "    results_path.mkdir(parents=True)"
   ]
  },
  {
   "cell_type": "code",
   "execution_count": 5,
   "metadata": {
    "ExecuteTime": {
     "end_time": "2021-02-24T03:35:10.282293Z",
     "start_time": "2021-02-24T03:35:10.274735Z"
    }
   },
   "outputs": [],
   "source": [
    "def chunks(l, n): \n",
    "    for i in range(0, len(l), n):  \n",
    "        yield l[i:i + n] "
   ]
  },
  {
   "cell_type": "code",
   "execution_count": 6,
   "metadata": {
    "ExecuteTime": {
     "end_time": "2021-02-24T03:35:10.290666Z",
     "start_time": "2021-02-24T03:35:10.283784Z"
    }
   },
   "outputs": [],
   "source": [
    "def format_time(t):\n",
    "    \"\"\"Return a formatted time string 'HH:MM:SS\n",
    "    based on a numeric time() value\"\"\"\n",
    "    m, s = divmod(t, 60)\n",
    "    h, m = divmod(m, 60)\n",
    "    return f'{h:0>2.0f}:{m:0>2.0f}:{s:0>2.0f}'"
   ]
  },
  {
   "cell_type": "markdown",
   "metadata": {},
   "source": [
    "## Get NASDAQ symbols"
   ]
  },
  {
   "cell_type": "code",
   "execution_count": 17,
   "metadata": {
    "ExecuteTime": {
     "end_time": "2021-02-24T03:35:11.361462Z",
     "start_time": "2021-02-24T03:35:10.291640Z"
    }
   },
   "outputs": [],
   "source": [
    "traded_symbols = get_nasdaq_symbols()"
   ]
  },
  {
   "cell_type": "code",
   "execution_count": 19,
   "metadata": {},
   "outputs": [
    {
     "data": {
      "text/html": [
       "<div>\n",
       "<style scoped>\n",
       "    .dataframe tbody tr th:only-of-type {\n",
       "        vertical-align: middle;\n",
       "    }\n",
       "\n",
       "    .dataframe tbody tr th {\n",
       "        vertical-align: top;\n",
       "    }\n",
       "\n",
       "    .dataframe thead th {\n",
       "        text-align: right;\n",
       "    }\n",
       "</style>\n",
       "<table border=\"1\" class=\"dataframe\">\n",
       "  <thead>\n",
       "    <tr style=\"text-align: right;\">\n",
       "      <th></th>\n",
       "      <th>Nasdaq Traded</th>\n",
       "      <th>Security Name</th>\n",
       "      <th>Listing Exchange</th>\n",
       "      <th>Market Category</th>\n",
       "      <th>ETF</th>\n",
       "      <th>Round Lot Size</th>\n",
       "      <th>Test Issue</th>\n",
       "      <th>Financial Status</th>\n",
       "      <th>CQS Symbol</th>\n",
       "      <th>NASDAQ Symbol</th>\n",
       "      <th>NextShares</th>\n",
       "    </tr>\n",
       "    <tr>\n",
       "      <th>Symbol</th>\n",
       "      <th></th>\n",
       "      <th></th>\n",
       "      <th></th>\n",
       "      <th></th>\n",
       "      <th></th>\n",
       "      <th></th>\n",
       "      <th></th>\n",
       "      <th></th>\n",
       "      <th></th>\n",
       "      <th></th>\n",
       "      <th></th>\n",
       "    </tr>\n",
       "  </thead>\n",
       "  <tbody>\n",
       "    <tr>\n",
       "      <th>A</th>\n",
       "      <td>True</td>\n",
       "      <td>Agilent Technologies, Inc. Common Stock</td>\n",
       "      <td>N</td>\n",
       "      <td></td>\n",
       "      <td>False</td>\n",
       "      <td>100.0</td>\n",
       "      <td>False</td>\n",
       "      <td>NaN</td>\n",
       "      <td>A</td>\n",
       "      <td>A</td>\n",
       "      <td>False</td>\n",
       "    </tr>\n",
       "    <tr>\n",
       "      <th>AA</th>\n",
       "      <td>True</td>\n",
       "      <td>Alcoa Corporation Common Stock</td>\n",
       "      <td>N</td>\n",
       "      <td></td>\n",
       "      <td>False</td>\n",
       "      <td>100.0</td>\n",
       "      <td>False</td>\n",
       "      <td>NaN</td>\n",
       "      <td>AA</td>\n",
       "      <td>AA</td>\n",
       "      <td>False</td>\n",
       "    </tr>\n",
       "    <tr>\n",
       "      <th>AACG</th>\n",
       "      <td>True</td>\n",
       "      <td>ATA Creativity Global - American Depositary Sh...</td>\n",
       "      <td>Q</td>\n",
       "      <td>G</td>\n",
       "      <td>False</td>\n",
       "      <td>100.0</td>\n",
       "      <td>False</td>\n",
       "      <td>D</td>\n",
       "      <td>NaN</td>\n",
       "      <td>AACG</td>\n",
       "      <td>False</td>\n",
       "    </tr>\n",
       "    <tr>\n",
       "      <th>AACI</th>\n",
       "      <td>True</td>\n",
       "      <td>Armada Acquisition Corp. I - Common Stock</td>\n",
       "      <td>Q</td>\n",
       "      <td>G</td>\n",
       "      <td>False</td>\n",
       "      <td>100.0</td>\n",
       "      <td>False</td>\n",
       "      <td>N</td>\n",
       "      <td>NaN</td>\n",
       "      <td>AACI</td>\n",
       "      <td>False</td>\n",
       "    </tr>\n",
       "    <tr>\n",
       "      <th>AACIU</th>\n",
       "      <td>True</td>\n",
       "      <td>Armada Acquisition Corp. I - Unit</td>\n",
       "      <td>Q</td>\n",
       "      <td>G</td>\n",
       "      <td>False</td>\n",
       "      <td>100.0</td>\n",
       "      <td>False</td>\n",
       "      <td>N</td>\n",
       "      <td>NaN</td>\n",
       "      <td>AACIU</td>\n",
       "      <td>False</td>\n",
       "    </tr>\n",
       "    <tr>\n",
       "      <th>...</th>\n",
       "      <td>...</td>\n",
       "      <td>...</td>\n",
       "      <td>...</td>\n",
       "      <td>...</td>\n",
       "      <td>...</td>\n",
       "      <td>...</td>\n",
       "      <td>...</td>\n",
       "      <td>...</td>\n",
       "      <td>...</td>\n",
       "      <td>...</td>\n",
       "      <td>...</td>\n",
       "    </tr>\n",
       "    <tr>\n",
       "      <th>ZXIET</th>\n",
       "      <td>True</td>\n",
       "      <td>IEX Test Company Test Symbol Three for IEX</td>\n",
       "      <td>V</td>\n",
       "      <td></td>\n",
       "      <td>False</td>\n",
       "      <td>100.0</td>\n",
       "      <td>True</td>\n",
       "      <td>NaN</td>\n",
       "      <td>ZXIET</td>\n",
       "      <td>ZXIET</td>\n",
       "      <td>False</td>\n",
       "    </tr>\n",
       "    <tr>\n",
       "      <th>ZXYZ.A</th>\n",
       "      <td>True</td>\n",
       "      <td>Nasdaq Symbology Test Common Stock</td>\n",
       "      <td>Q</td>\n",
       "      <td>Q</td>\n",
       "      <td>False</td>\n",
       "      <td>100.0</td>\n",
       "      <td>True</td>\n",
       "      <td>N</td>\n",
       "      <td>NaN</td>\n",
       "      <td>ZXYZ.A</td>\n",
       "      <td>False</td>\n",
       "    </tr>\n",
       "    <tr>\n",
       "      <th>ZXZZT</th>\n",
       "      <td>True</td>\n",
       "      <td>NASDAQ TEST STOCK</td>\n",
       "      <td>Q</td>\n",
       "      <td>G</td>\n",
       "      <td>False</td>\n",
       "      <td>100.0</td>\n",
       "      <td>True</td>\n",
       "      <td>N</td>\n",
       "      <td>NaN</td>\n",
       "      <td>ZXZZT</td>\n",
       "      <td>False</td>\n",
       "    </tr>\n",
       "    <tr>\n",
       "      <th>ZYME</th>\n",
       "      <td>True</td>\n",
       "      <td>Zymeworks Inc. - Common Stock</td>\n",
       "      <td>Q</td>\n",
       "      <td>Q</td>\n",
       "      <td>False</td>\n",
       "      <td>100.0</td>\n",
       "      <td>False</td>\n",
       "      <td>N</td>\n",
       "      <td>NaN</td>\n",
       "      <td>ZYME</td>\n",
       "      <td>False</td>\n",
       "    </tr>\n",
       "    <tr>\n",
       "      <th>ZYXI</th>\n",
       "      <td>True</td>\n",
       "      <td>Zynex, Inc. - Common Stock</td>\n",
       "      <td>Q</td>\n",
       "      <td>Q</td>\n",
       "      <td>False</td>\n",
       "      <td>100.0</td>\n",
       "      <td>False</td>\n",
       "      <td>N</td>\n",
       "      <td>NaN</td>\n",
       "      <td>ZYXI</td>\n",
       "      <td>False</td>\n",
       "    </tr>\n",
       "  </tbody>\n",
       "</table>\n",
       "<p>7774 rows × 11 columns</p>\n",
       "</div>"
      ],
      "text/plain": [
       "        Nasdaq Traded                                      Security Name  \\\n",
       "Symbol                                                                     \n",
       "A                True            Agilent Technologies, Inc. Common Stock   \n",
       "AA               True                    Alcoa Corporation Common Stock    \n",
       "AACG             True  ATA Creativity Global - American Depositary Sh...   \n",
       "AACI             True          Armada Acquisition Corp. I - Common Stock   \n",
       "AACIU            True                  Armada Acquisition Corp. I - Unit   \n",
       "...               ...                                                ...   \n",
       "ZXIET            True         IEX Test Company Test Symbol Three for IEX   \n",
       "ZXYZ.A           True                 Nasdaq Symbology Test Common Stock   \n",
       "ZXZZT            True                                  NASDAQ TEST STOCK   \n",
       "ZYME             True                      Zymeworks Inc. - Common Stock   \n",
       "ZYXI             True                         Zynex, Inc. - Common Stock   \n",
       "\n",
       "       Listing Exchange Market Category    ETF  Round Lot Size  Test Issue  \\\n",
       "Symbol                                                                       \n",
       "A                     N                  False           100.0       False   \n",
       "AA                    N                  False           100.0       False   \n",
       "AACG                  Q               G  False           100.0       False   \n",
       "AACI                  Q               G  False           100.0       False   \n",
       "AACIU                 Q               G  False           100.0       False   \n",
       "...                 ...             ...    ...             ...         ...   \n",
       "ZXIET                 V                  False           100.0        True   \n",
       "ZXYZ.A                Q               Q  False           100.0        True   \n",
       "ZXZZT                 Q               G  False           100.0        True   \n",
       "ZYME                  Q               Q  False           100.0       False   \n",
       "ZYXI                  Q               Q  False           100.0       False   \n",
       "\n",
       "       Financial Status CQS Symbol NASDAQ Symbol  NextShares  \n",
       "Symbol                                                        \n",
       "A                   NaN          A             A       False  \n",
       "AA                  NaN         AA            AA       False  \n",
       "AACG                  D        NaN          AACG       False  \n",
       "AACI                  N        NaN          AACI       False  \n",
       "AACIU                 N        NaN         AACIU       False  \n",
       "...                 ...        ...           ...         ...  \n",
       "ZXIET               NaN      ZXIET         ZXIET       False  \n",
       "ZXYZ.A                N        NaN        ZXYZ.A       False  \n",
       "ZXZZT                 N        NaN         ZXZZT       False  \n",
       "ZYME                  N        NaN          ZYME       False  \n",
       "ZYXI                  N        NaN          ZYXI       False  \n",
       "\n",
       "[7774 rows x 11 columns]"
      ]
     },
     "execution_count": 19,
     "metadata": {},
     "output_type": "execute_result"
    }
   ],
   "source": [
    "traded_symbols[~traded_symbols.ETF]\n"
   ]
  },
  {
   "cell_type": "code",
   "execution_count": 8,
   "metadata": {
    "ExecuteTime": {
     "end_time": "2021-02-24T03:35:11.391531Z",
     "start_time": "2021-02-24T03:35:11.362436Z"
    }
   },
   "outputs": [
    {
     "name": "stdout",
     "output_type": "stream",
     "text": [
      "<class 'pandas.core.frame.DataFrame'>\n",
      "Index: 11145 entries, A to ZZZ\n",
      "Data columns (total 11 columns):\n",
      " #   Column            Non-Null Count  Dtype   \n",
      "---  ------            --------------  -----   \n",
      " 0   Nasdaq Traded     11145 non-null  bool    \n",
      " 1   Security Name     11145 non-null  object  \n",
      " 2   Listing Exchange  11145 non-null  category\n",
      " 3   Market Category   11145 non-null  object  \n",
      " 4   ETF               11145 non-null  bool    \n",
      " 5   Round Lot Size    11145 non-null  float64 \n",
      " 6   Test Issue        11145 non-null  bool    \n",
      " 7   Financial Status  4982 non-null   category\n",
      " 8   CQS Symbol        6163 non-null   object  \n",
      " 9   NASDAQ Symbol     11144 non-null  object  \n",
      " 10  NextShares        11145 non-null  bool    \n",
      "dtypes: bool(4), category(2), float64(1), object(4)\n",
      "memory usage: 588.1+ KB\n"
     ]
    }
   ],
   "source": [
    "traded_symbols.info()"
   ]
  },
  {
   "cell_type": "markdown",
   "metadata": {},
   "source": [
    "## Download metadata from yahoo finance"
   ]
  },
  {
   "cell_type": "markdown",
   "metadata": {},
   "source": [
    "### NASDAQ symbols"
   ]
  },
  {
   "cell_type": "code",
   "execution_count": 9,
   "metadata": {
    "ExecuteTime": {
     "end_time": "2021-02-24T03:35:11.396401Z",
     "start_time": "2021-02-24T03:35:11.392356Z"
    }
   },
   "outputs": [
    {
     "name": "stdout",
     "output_type": "stream",
     "text": [
      "# Symbols: 7,774\n"
     ]
    }
   ],
   "source": [
    "all_symbols = traded_symbols[~traded_symbols.ETF].index.unique().to_list()\n",
    "n = len(all_symbols)\n",
    "print(f'# Symbols: {n:,.0f}')"
   ]
  },
  {
   "cell_type": "code",
   "execution_count": 10,
   "metadata": {},
   "outputs": [],
   "source": [
    "all_symbols = [item for item in all_symbols if not isinstance(item, float)]"
   ]
  },
  {
   "cell_type": "code",
   "execution_count": 12,
   "metadata": {
    "ExecuteTime": {
     "end_time": "2021-02-24T03:35:30.818647Z",
     "start_time": "2021-02-24T03:35:11.397335Z"
    }
   },
   "outputs": [],
   "source": [
    "yf_symbols = yf.Tickers(all_symbols)"
   ]
  },
  {
   "cell_type": "code",
   "execution_count": 41,
   "metadata": {
    "ExecuteTime": {
     "end_time": "2021-02-24T09:46:13.912300Z",
     "start_time": "2021-02-24T03:35:30.819542Z"
    },
    "scrolled": false
   },
   "outputs": [
    {
     "name": "stderr",
     "output_type": "stream",
     "text": [
      "  0%|          | 7/7775 [00:00<13:26,  9.63it/s]404 Client Error: Not Found for url: https://query2.finance.yahoo.com/v10/finance/quoteSummary/AACT.U?modules=financialData%2CquoteType%2CdefaultKeyStatistics%2CassetProfile%2CsummaryDetail&corsDomain=finance.yahoo.com&formatted=false&symbol=AACT.U&crumb=Vn1kjkpqGe7\n",
      "404 Client Error: Not Found for url: https://query2.finance.yahoo.com/v10/finance/quoteSummary/AACT.W?modules=financialData%2CquoteType%2CdefaultKeyStatistics%2CassetProfile%2CsummaryDetail&corsDomain=finance.yahoo.com&formatted=false&symbol=AACT.W&crumb=Vn1kjkpqGe7\n",
      "  1%|          | 39/7775 [00:04<10:12, 12.63it/s]404 Client Error: Not Found for url: https://query2.finance.yahoo.com/v10/finance/quoteSummary/ABR$D?modules=financialData%2CquoteType%2CdefaultKeyStatistics%2CassetProfile%2CsummaryDetail&corsDomain=finance.yahoo.com&formatted=false&symbol=ABR%24D&crumb=Vn1kjkpqGe7\n",
      "  1%|          | 41/7775 [00:05<23:39,  5.45it/s]404 Client Error: Not Found for url: https://query2.finance.yahoo.com/v10/finance/quoteSummary/ABR$E?modules=financialData%2CquoteType%2CdefaultKeyStatistics%2CassetProfile%2CsummaryDetail&corsDomain=finance.yahoo.com&formatted=false&symbol=ABR%24E&crumb=Vn1kjkpqGe7\n",
      "  1%|          | 42/7775 [00:06<35:46,  3.60it/s]404 Client Error: Not Found for url: https://query2.finance.yahoo.com/v10/finance/quoteSummary/ABR$F?modules=financialData%2CquoteType%2CdefaultKeyStatistics%2CassetProfile%2CsummaryDetail&corsDomain=finance.yahoo.com&formatted=false&symbol=ABR%24F&crumb=Vn1kjkpqGe7\n",
      "  1%|          | 75/7775 [00:10<11:15, 11.40it/s]404 Client Error: Not Found for url: https://query2.finance.yahoo.com/v10/finance/quoteSummary/ACHR.W?modules=financialData%2CquoteType%2CdefaultKeyStatistics%2CassetProfile%2CsummaryDetail&corsDomain=finance.yahoo.com&formatted=false&symbol=ACHR.W&crumb=Vn1kjkpqGe7\n",
      "  1%|          | 93/7775 [00:12<11:08, 11.49it/s]404 Client Error: Not Found for url: https://query2.finance.yahoo.com/v10/finance/quoteSummary/ACP$A?modules=financialData%2CquoteType%2CdefaultKeyStatistics%2CassetProfile%2CsummaryDetail&corsDomain=finance.yahoo.com&formatted=false&symbol=ACP%24A&crumb=Vn1kjkpqGe7\n",
      "  1%|          | 95/7775 [00:13<28:47,  4.45it/s]404 Client Error: Not Found for url: https://query2.finance.yahoo.com/v10/finance/quoteSummary/ACR$C?modules=financialData%2CquoteType%2CdefaultKeyStatistics%2CassetProfile%2CsummaryDetail&corsDomain=finance.yahoo.com&formatted=false&symbol=ACR%24C&crumb=Vn1kjkpqGe7\n",
      "  1%|          | 96/7775 [00:13<36:30,  3.51it/s]404 Client Error: Not Found for url: https://query2.finance.yahoo.com/v10/finance/quoteSummary/ACR$D?modules=financialData%2CquoteType%2CdefaultKeyStatistics%2CassetProfile%2CsummaryDetail&corsDomain=finance.yahoo.com&formatted=false&symbol=ACR%24D&crumb=Vn1kjkpqGe7\n",
      "  1%|▏         | 111/7775 [00:15<12:22, 10.33it/s]404 Client Error: Not Found for url: https://query2.finance.yahoo.com/v10/finance/quoteSummary/ADC$A?modules=financialData%2CquoteType%2CdefaultKeyStatistics%2CassetProfile%2CsummaryDetail&corsDomain=finance.yahoo.com&formatted=false&symbol=ADC%24A&crumb=Vn1kjkpqGe7\n",
      "  2%|▏         | 129/7775 [00:17<11:12, 11.37it/s]404 Client Error: Not Found for url: https://query2.finance.yahoo.com/v10/finance/quoteSummary/ADRT.U?modules=financialData%2CquoteType%2CdefaultKeyStatistics%2CassetProfile%2CsummaryDetail&corsDomain=finance.yahoo.com&formatted=false&symbol=ADRT.U&crumb=Vn1kjkpqGe7\n",
      "  2%|▏         | 157/7775 [00:20<10:15, 12.37it/s]404 Client Error: Not Found for url: https://query2.finance.yahoo.com/v10/finance/quoteSummary/AEL$A?modules=financialData%2CquoteType%2CdefaultKeyStatistics%2CassetProfile%2CsummaryDetail&corsDomain=finance.yahoo.com&formatted=false&symbol=AEL%24A&crumb=Vn1kjkpqGe7\n",
      "404 Client Error: Not Found for url: https://query2.finance.yahoo.com/v10/finance/quoteSummary/AEL$B?modules=financialData%2CquoteType%2CdefaultKeyStatistics%2CassetProfile%2CsummaryDetail&corsDomain=finance.yahoo.com&formatted=false&symbol=AEL%24B&crumb=Vn1kjkpqGe7\n",
      "  2%|▏         | 165/7775 [00:22<20:07,  6.30it/s]404 Client Error: Not Found for url: https://query2.finance.yahoo.com/v10/finance/quoteSummary/AEON.W?modules=financialData%2CquoteType%2CdefaultKeyStatistics%2CassetProfile%2CsummaryDetail&corsDomain=finance.yahoo.com&formatted=false&symbol=AEON.W&crumb=Vn1kjkpqGe7\n",
      "  2%|▏         | 174/7775 [00:24<14:30,  8.73it/s]404 Client Error: Not Found for url: https://query2.finance.yahoo.com/v10/finance/quoteSummary/AEVA.W?modules=financialData%2CquoteType%2CdefaultKeyStatistics%2CassetProfile%2CsummaryDetail&corsDomain=finance.yahoo.com&formatted=false&symbol=AEVA.W&crumb=Vn1kjkpqGe7\n",
      "  3%|▎         | 212/7775 [00:27<11:03, 11.41it/s]404 Client Error: Not Found for url: https://query2.finance.yahoo.com/v10/finance/quoteSummary/AGM$C?modules=financialData%2CquoteType%2CdefaultKeyStatistics%2CassetProfile%2CsummaryDetail&corsDomain=finance.yahoo.com&formatted=false&symbol=AGM%24C&crumb=Vn1kjkpqGe7\n",
      "  3%|▎         | 214/7775 [00:29<34:31,  3.65it/s]404 Client Error: Not Found for url: https://query2.finance.yahoo.com/v10/finance/quoteSummary/AGM$D?modules=financialData%2CquoteType%2CdefaultKeyStatistics%2CassetProfile%2CsummaryDetail&corsDomain=finance.yahoo.com&formatted=false&symbol=AGM%24D&crumb=Vn1kjkpqGe7\n",
      "  3%|▎         | 215/7775 [00:29<43:32,  2.89it/s]404 Client Error: Not Found for url: https://query2.finance.yahoo.com/v10/finance/quoteSummary/AGM$E?modules=financialData%2CquoteType%2CdefaultKeyStatistics%2CassetProfile%2CsummaryDetail&corsDomain=finance.yahoo.com&formatted=false&symbol=AGM%24E&crumb=Vn1kjkpqGe7\n",
      "  3%|▎         | 216/7775 [00:30<51:01,  2.47it/s]404 Client Error: Not Found for url: https://query2.finance.yahoo.com/v10/finance/quoteSummary/AGM$F?modules=financialData%2CquoteType%2CdefaultKeyStatistics%2CassetProfile%2CsummaryDetail&corsDomain=finance.yahoo.com&formatted=false&symbol=AGM%24F&crumb=Vn1kjkpqGe7\n",
      "  3%|▎         | 217/7775 [00:30<55:48,  2.26it/s]404 Client Error: Not Found for url: https://query2.finance.yahoo.com/v10/finance/quoteSummary/AGM$G?modules=financialData%2CquoteType%2CdefaultKeyStatistics%2CassetProfile%2CsummaryDetail&corsDomain=finance.yahoo.com&formatted=false&symbol=AGM%24G&crumb=Vn1kjkpqGe7\n",
      "  3%|▎         | 218/7775 [00:31<1:01:17,  2.06it/s]404 Client Error: Not Found for url: https://query2.finance.yahoo.com/v10/finance/quoteSummary/AGM.A?modules=financialData%2CquoteType%2CdefaultKeyStatistics%2CassetProfile%2CsummaryDetail&corsDomain=finance.yahoo.com&formatted=false&symbol=AGM.A&crumb=Vn1kjkpqGe7\n",
      "  3%|▎         | 239/7775 [00:33<10:55, 11.51it/s]  404 Client Error: Not Found for url: https://query2.finance.yahoo.com/v10/finance/quoteSummary/AHH$A?modules=financialData%2CquoteType%2CdefaultKeyStatistics%2CassetProfile%2CsummaryDetail&corsDomain=finance.yahoo.com&formatted=false&symbol=AHH%24A&crumb=Vn1kjkpqGe7\n",
      "  3%|▎         | 241/7775 [00:34<21:46,  5.77it/s]404 Client Error: Not Found for url: https://query2.finance.yahoo.com/v10/finance/quoteSummary/AHL$C?modules=financialData%2CquoteType%2CdefaultKeyStatistics%2CassetProfile%2CsummaryDetail&corsDomain=finance.yahoo.com&formatted=false&symbol=AHL%24C&crumb=Vn1kjkpqGe7\n",
      "  3%|▎         | 242/7775 [00:35<32:09,  3.90it/s]404 Client Error: Not Found for url: https://query2.finance.yahoo.com/v10/finance/quoteSummary/AHL$D?modules=financialData%2CquoteType%2CdefaultKeyStatistics%2CassetProfile%2CsummaryDetail&corsDomain=finance.yahoo.com&formatted=false&symbol=AHL%24D&crumb=Vn1kjkpqGe7\n",
      "  3%|▎         | 243/7775 [00:36<45:24,  2.76it/s]404 Client Error: Not Found for url: https://query2.finance.yahoo.com/v10/finance/quoteSummary/AHL$E?modules=financialData%2CquoteType%2CdefaultKeyStatistics%2CassetProfile%2CsummaryDetail&corsDomain=finance.yahoo.com&formatted=false&symbol=AHL%24E&crumb=Vn1kjkpqGe7\n",
      "  3%|▎         | 244/7775 [00:36<1:00:24,  2.08it/s]404 Client Error: Not Found for url: https://query2.finance.yahoo.com/v10/finance/quoteSummary/AHT$D?modules=financialData%2CquoteType%2CdefaultKeyStatistics%2CassetProfile%2CsummaryDetail&corsDomain=finance.yahoo.com&formatted=false&symbol=AHT%24D&crumb=Vn1kjkpqGe7\n",
      "  3%|▎         | 246/7775 [00:37<57:35,  2.18it/s]  404 Client Error: Not Found for url: https://query2.finance.yahoo.com/v10/finance/quoteSummary/AHT$F?modules=financialData%2CquoteType%2CdefaultKeyStatistics%2CassetProfile%2CsummaryDetail&corsDomain=finance.yahoo.com&formatted=false&symbol=AHT%24F&crumb=Vn1kjkpqGe7\n",
      "  3%|▎         | 247/7775 [00:38<1:03:35,  1.97it/s]404 Client Error: Not Found for url: https://query2.finance.yahoo.com/v10/finance/quoteSummary/AHT$G?modules=financialData%2CquoteType%2CdefaultKeyStatistics%2CassetProfile%2CsummaryDetail&corsDomain=finance.yahoo.com&formatted=false&symbol=AHT%24G&crumb=Vn1kjkpqGe7\n",
      "  3%|▎         | 248/7775 [00:39<1:07:23,  1.86it/s]404 Client Error: Not Found for url: https://query2.finance.yahoo.com/v10/finance/quoteSummary/AHT$H?modules=financialData%2CquoteType%2CdefaultKeyStatistics%2CassetProfile%2CsummaryDetail&corsDomain=finance.yahoo.com&formatted=false&symbol=AHT%24H&crumb=Vn1kjkpqGe7\n",
      "  3%|▎         | 249/7775 [00:39<1:09:18,  1.81it/s]404 Client Error: Not Found for url: https://query2.finance.yahoo.com/v10/finance/quoteSummary/AHT$I?modules=financialData%2CquoteType%2CdefaultKeyStatistics%2CassetProfile%2CsummaryDetail&corsDomain=finance.yahoo.com&formatted=false&symbol=AHT%24I&crumb=Vn1kjkpqGe7\n",
      "  3%|▎         | 255/7775 [00:40<26:10,  4.79it/s]  404 Client Error: Not Found for url: https://query2.finance.yahoo.com/v10/finance/quoteSummary/AIG$A?modules=financialData%2CquoteType%2CdefaultKeyStatistics%2CassetProfile%2CsummaryDetail&corsDomain=finance.yahoo.com&formatted=false&symbol=AIG%24A&crumb=Vn1kjkpqGe7\n",
      "  4%|▍         | 295/7775 [00:44<09:44, 12.81it/s]404 Client Error: Not Found for url: https://query2.finance.yahoo.com/v10/finance/quoteSummary/AKO.A?modules=financialData%2CquoteType%2CdefaultKeyStatistics%2CassetProfile%2CsummaryDetail&corsDomain=finance.yahoo.com&formatted=false&symbol=AKO.A&crumb=Vn1kjkpqGe7\n",
      "  4%|▍         | 297/7775 [00:45<22:21,  5.58it/s]404 Client Error: Not Found for url: https://query2.finance.yahoo.com/v10/finance/quoteSummary/AKO.B?modules=financialData%2CquoteType%2CdefaultKeyStatistics%2CassetProfile%2CsummaryDetail&corsDomain=finance.yahoo.com&formatted=false&symbol=AKO.B&crumb=Vn1kjkpqGe7\n",
      "  4%|▍         | 304/7775 [00:46<16:04,  7.74it/s]404 Client Error: Not Found for url: https://query2.finance.yahoo.com/v10/finance/quoteSummary/AL$A?modules=financialData%2CquoteType%2CdefaultKeyStatistics%2CassetProfile%2CsummaryDetail&corsDomain=finance.yahoo.com&formatted=false&symbol=AL%24A&crumb=Vn1kjkpqGe7\n",
      "  4%|▍         | 331/7775 [00:49<09:29, 13.06it/s]404 Client Error: Not Found for url: https://query2.finance.yahoo.com/v10/finance/quoteSummary/ALL$B?modules=financialData%2CquoteType%2CdefaultKeyStatistics%2CassetProfile%2CsummaryDetail&corsDomain=finance.yahoo.com&formatted=false&symbol=ALL%24B&crumb=Vn1kjkpqGe7\n",
      "404 Client Error: Not Found for url: https://query2.finance.yahoo.com/v10/finance/quoteSummary/ALL$H?modules=financialData%2CquoteType%2CdefaultKeyStatistics%2CassetProfile%2CsummaryDetail&corsDomain=finance.yahoo.com&formatted=false&symbol=ALL%24H&crumb=Vn1kjkpqGe7\n",
      "  4%|▍         | 333/7775 [00:50<30:15,  4.10it/s]404 Client Error: Not Found for url: https://query2.finance.yahoo.com/v10/finance/quoteSummary/ALL$I?modules=financialData%2CquoteType%2CdefaultKeyStatistics%2CassetProfile%2CsummaryDetail&corsDomain=finance.yahoo.com&formatted=false&symbol=ALL%24I&crumb=Vn1kjkpqGe7\n",
      "  4%|▍         | 334/7775 [00:51<43:11,  2.87it/s]404 Client Error: Not Found for url: https://query2.finance.yahoo.com/v10/finance/quoteSummary/ALL$J?modules=financialData%2CquoteType%2CdefaultKeyStatistics%2CassetProfile%2CsummaryDetail&corsDomain=finance.yahoo.com&formatted=false&symbol=ALL%24J&crumb=Vn1kjkpqGe7\n",
      "  5%|▍         | 356/7775 [00:53<10:07, 12.22it/s]404 Client Error: Not Found for url: https://query2.finance.yahoo.com/v10/finance/quoteSummary/ALTG$A?modules=financialData%2CquoteType%2CdefaultKeyStatistics%2CassetProfile%2CsummaryDetail&corsDomain=finance.yahoo.com&formatted=false&symbol=ALTG%24A&crumb=Vn1kjkpqGe7\n",
      "  5%|▍         | 366/7775 [00:55<12:15, 10.08it/s]404 Client Error: Not Found for url: https://query2.finance.yahoo.com/v10/finance/quoteSummary/ALUR.W?modules=financialData%2CquoteType%2CdefaultKeyStatistics%2CassetProfile%2CsummaryDetail&corsDomain=finance.yahoo.com&formatted=false&symbol=ALUR.W&crumb=Vn1kjkpqGe7\n",
      "  5%|▍         | 382/7775 [00:57<11:10, 11.03it/s]404 Client Error: Not Found for url: https://query2.finance.yahoo.com/v10/finance/quoteSummary/AMBI.W?modules=financialData%2CquoteType%2CdefaultKeyStatistics%2CassetProfile%2CsummaryDetail&corsDomain=finance.yahoo.com&formatted=false&symbol=AMBI.W&crumb=Vn1kjkpqGe7\n",
      "  5%|▍         | 384/7775 [00:57<21:02,  5.85it/s]404 Client Error: Not Found for url: https://query2.finance.yahoo.com/v10/finance/quoteSummary/AMBP.W?modules=financialData%2CquoteType%2CdefaultKeyStatistics%2CassetProfile%2CsummaryDetail&corsDomain=finance.yahoo.com&formatted=false&symbol=AMBP.W&crumb=Vn1kjkpqGe7\n",
      "  5%|▌         | 396/7775 [00:59<12:09, 10.12it/s]404 Client Error: Not Found for url: https://query2.finance.yahoo.com/v10/finance/quoteSummary/AMH$G?modules=financialData%2CquoteType%2CdefaultKeyStatistics%2CassetProfile%2CsummaryDetail&corsDomain=finance.yahoo.com&formatted=false&symbol=AMH%24G&crumb=Vn1kjkpqGe7\n",
      "404 Client Error: Not Found for url: https://query2.finance.yahoo.com/v10/finance/quoteSummary/AMH$H?modules=financialData%2CquoteType%2CdefaultKeyStatistics%2CassetProfile%2CsummaryDetail&corsDomain=finance.yahoo.com&formatted=false&symbol=AMH%24H&crumb=Vn1kjkpqGe7\n",
      "  5%|▌         | 413/7775 [01:02<15:38,  7.85it/s]404 Client Error: Not Found for url: https://query2.finance.yahoo.com/v10/finance/quoteSummary/AMPX.W?modules=financialData%2CquoteType%2CdefaultKeyStatistics%2CassetProfile%2CsummaryDetail&corsDomain=finance.yahoo.com&formatted=false&symbol=AMPX.W&crumb=Vn1kjkpqGe7\n",
      "  6%|▌         | 471/7775 [01:08<09:42, 12.54it/s]404 Client Error: Not Found for url: https://query2.finance.yahoo.com/v10/finance/quoteSummary/AP.W?modules=financialData%2CquoteType%2CdefaultKeyStatistics%2CassetProfile%2CsummaryDetail&corsDomain=finance.yahoo.com&formatted=false&symbol=AP.W&crumb=Vn1kjkpqGe7\n",
      "  6%|▌         | 477/7775 [01:09<15:50,  7.68it/s]404 Client Error: Not Found for url: https://query2.finance.yahoo.com/v10/finance/quoteSummary/APCA.U?modules=financialData%2CquoteType%2CdefaultKeyStatistics%2CassetProfile%2CsummaryDetail&corsDomain=finance.yahoo.com&formatted=false&symbol=APCA.U&crumb=Vn1kjkpqGe7\n",
      "  6%|▌         | 479/7775 [01:10<23:54,  5.09it/s]404 Client Error: Not Found for url: https://query2.finance.yahoo.com/v10/finance/quoteSummary/APCA.W?modules=financialData%2CquoteType%2CdefaultKeyStatistics%2CassetProfile%2CsummaryDetail&corsDomain=finance.yahoo.com&formatted=false&symbol=APCA.W&crumb=Vn1kjkpqGe7\n",
      "  6%|▋         | 496/7775 [01:12<10:11, 11.90it/s]404 Client Error: Not Found for url: https://query2.finance.yahoo.com/v10/finance/quoteSummary/APO$A?modules=financialData%2CquoteType%2CdefaultKeyStatistics%2CassetProfile%2CsummaryDetail&corsDomain=finance.yahoo.com&formatted=false&symbol=APO%24A&crumb=Vn1kjkpqGe7\n",
      "  7%|▋         | 548/7775 [01:16<10:13, 11.77it/s]404 Client Error: Not Found for url: https://query2.finance.yahoo.com/v10/finance/quoteSummary/ARGO$A?modules=financialData%2CquoteType%2CdefaultKeyStatistics%2CassetProfile%2CsummaryDetail&corsDomain=finance.yahoo.com&formatted=false&symbol=ARGO%24A&crumb=Vn1kjkpqGe7\n",
      "  7%|▋         | 574/7775 [01:19<09:52, 12.16it/s]404 Client Error: Not Found for url: https://query2.finance.yahoo.com/v10/finance/quoteSummary/ARR$C?modules=financialData%2CquoteType%2CdefaultKeyStatistics%2CassetProfile%2CsummaryDetail&corsDomain=finance.yahoo.com&formatted=false&symbol=ARR%24C&crumb=Vn1kjkpqGe7\n",
      "  8%|▊         | 592/7775 [01:21<09:38, 12.41it/s]404 Client Error: Not Found for url: https://query2.finance.yahoo.com/v10/finance/quoteSummary/ASB$E?modules=financialData%2CquoteType%2CdefaultKeyStatistics%2CassetProfile%2CsummaryDetail&corsDomain=finance.yahoo.com&formatted=false&symbol=ASB%24E&crumb=Vn1kjkpqGe7\n",
      "404 Client Error: Not Found for url: https://query2.finance.yahoo.com/v10/finance/quoteSummary/ASB$F?modules=financialData%2CquoteType%2CdefaultKeyStatistics%2CassetProfile%2CsummaryDetail&corsDomain=finance.yahoo.com&formatted=false&symbol=ASB%24F&crumb=Vn1kjkpqGe7\n",
      "  8%|▊         | 638/7775 [01:26<08:46, 13.56it/s]404 Client Error: Not Found for url: https://query2.finance.yahoo.com/v10/finance/quoteSummary/ATCO$D?modules=financialData%2CquoteType%2CdefaultKeyStatistics%2CassetProfile%2CsummaryDetail&corsDomain=finance.yahoo.com&formatted=false&symbol=ATCO%24D&crumb=Vn1kjkpqGe7\n",
      "404 Client Error: Not Found for url: https://query2.finance.yahoo.com/v10/finance/quoteSummary/ATCO$H?modules=financialData%2CquoteType%2CdefaultKeyStatistics%2CassetProfile%2CsummaryDetail&corsDomain=finance.yahoo.com&formatted=false&symbol=ATCO%24H&crumb=Vn1kjkpqGe7\n",
      "  8%|▊         | 643/7775 [01:28<22:12,  5.35it/s]404 Client Error: Not Found for url: https://query2.finance.yahoo.com/v10/finance/quoteSummary/ATEK.U?modules=financialData%2CquoteType%2CdefaultKeyStatistics%2CassetProfile%2CsummaryDetail&corsDomain=finance.yahoo.com&formatted=false&symbol=ATEK.U&crumb=Vn1kjkpqGe7\n",
      "404 Client Error: Not Found for url: https://query2.finance.yahoo.com/v10/finance/quoteSummary/ATEK.W?modules=financialData%2CquoteType%2CdefaultKeyStatistics%2CassetProfile%2CsummaryDetail&corsDomain=finance.yahoo.com&formatted=false&symbol=ATEK.W&crumb=Vn1kjkpqGe7\n",
      "  8%|▊         | 648/7775 [01:29<25:50,  4.60it/s]404 Client Error: Not Found for url: https://query2.finance.yahoo.com/v10/finance/quoteSummary/ATEST.A?modules=financialData%2CquoteType%2CdefaultKeyStatistics%2CassetProfile%2CsummaryDetail&corsDomain=finance.yahoo.com&formatted=false&symbol=ATEST.A&crumb=Vn1kjkpqGe7\n",
      "  8%|▊         | 649/7775 [01:31<56:29,  2.10it/s]404 Client Error: Not Found for url: https://query2.finance.yahoo.com/v10/finance/quoteSummary/ATEST.B?modules=financialData%2CquoteType%2CdefaultKeyStatistics%2CassetProfile%2CsummaryDetail&corsDomain=finance.yahoo.com&formatted=false&symbol=ATEST.B&crumb=Vn1kjkpqGe7\n",
      "  8%|▊         | 650/7775 [01:32<1:05:59,  1.80it/s]404 Client Error: Not Found for url: https://query2.finance.yahoo.com/v10/finance/quoteSummary/ATEST.C?modules=financialData%2CquoteType%2CdefaultKeyStatistics%2CassetProfile%2CsummaryDetail&corsDomain=finance.yahoo.com&formatted=false&symbol=ATEST.C&crumb=Vn1kjkpqGe7\n",
      "  8%|▊         | 653/7775 [01:32<43:48,  2.71it/s]  404 Client Error: Not Found for url: https://query2.finance.yahoo.com/v10/finance/quoteSummary/ATH$A?modules=financialData%2CquoteType%2CdefaultKeyStatistics%2CassetProfile%2CsummaryDetail&corsDomain=finance.yahoo.com&formatted=false&symbol=ATH%24A&crumb=Vn1kjkpqGe7\n",
      "  8%|▊         | 655/7775 [01:33<44:25,  2.67it/s]404 Client Error: Not Found for url: https://query2.finance.yahoo.com/v10/finance/quoteSummary/ATH$B?modules=financialData%2CquoteType%2CdefaultKeyStatistics%2CassetProfile%2CsummaryDetail&corsDomain=finance.yahoo.com&formatted=false&symbol=ATH%24B&crumb=Vn1kjkpqGe7\n",
      "  8%|▊         | 656/7775 [01:34<51:34,  2.30it/s]404 Client Error: Not Found for url: https://query2.finance.yahoo.com/v10/finance/quoteSummary/ATH$C?modules=financialData%2CquoteType%2CdefaultKeyStatistics%2CassetProfile%2CsummaryDetail&corsDomain=finance.yahoo.com&formatted=false&symbol=ATH%24C&crumb=Vn1kjkpqGe7\n",
      "  8%|▊         | 657/7775 [01:34<56:07,  2.11it/s]404 Client Error: Not Found for url: https://query2.finance.yahoo.com/v10/finance/quoteSummary/ATH$D?modules=financialData%2CquoteType%2CdefaultKeyStatistics%2CassetProfile%2CsummaryDetail&corsDomain=finance.yahoo.com&formatted=false&symbol=ATH%24D&crumb=Vn1kjkpqGe7\n",
      "  8%|▊         | 658/7775 [01:35<1:03:06,  1.88it/s]404 Client Error: Not Found for url: https://query2.finance.yahoo.com/v10/finance/quoteSummary/ATH$E?modules=financialData%2CquoteType%2CdefaultKeyStatistics%2CassetProfile%2CsummaryDetail&corsDomain=finance.yahoo.com&formatted=false&symbol=ATH%24E&crumb=Vn1kjkpqGe7\n",
      "  9%|▉         | 701/7775 [01:39<10:11, 11.58it/s]  404 Client Error: Not Found for url: https://query2.finance.yahoo.com/v10/finance/quoteSummary/AUB$A?modules=financialData%2CquoteType%2CdefaultKeyStatistics%2CassetProfile%2CsummaryDetail&corsDomain=finance.yahoo.com&formatted=false&symbol=AUB%24A&crumb=Vn1kjkpqGe7\n",
      "  9%|▉         | 707/7775 [01:40<15:33,  7.57it/s]404 Client Error: Not Found for url: https://query2.finance.yahoo.com/v10/finance/quoteSummary/AULT$D?modules=financialData%2CquoteType%2CdefaultKeyStatistics%2CassetProfile%2CsummaryDetail&corsDomain=finance.yahoo.com&formatted=false&symbol=AULT%24D&crumb=Vn1kjkpqGe7\n",
      " 10%|▉         | 765/7775 [01:46<09:07, 12.81it/s]404 Client Error: Not Found for url: https://query2.finance.yahoo.com/v10/finance/quoteSummary/AXS$E?modules=financialData%2CquoteType%2CdefaultKeyStatistics%2CassetProfile%2CsummaryDetail&corsDomain=finance.yahoo.com&formatted=false&symbol=AXS%24E&crumb=Vn1kjkpqGe7\n",
      " 10%|█         | 787/7775 [01:49<10:50, 10.75it/s]404 Client Error: Not Found for url: https://query2.finance.yahoo.com/v10/finance/quoteSummary/BAC$B?modules=financialData%2CquoteType%2CdefaultKeyStatistics%2CassetProfile%2CsummaryDetail&corsDomain=finance.yahoo.com&formatted=false&symbol=BAC%24B&crumb=Vn1kjkpqGe7\n",
      " 10%|█         | 789/7775 [01:50<24:41,  4.71it/s]404 Client Error: Not Found for url: https://query2.finance.yahoo.com/v10/finance/quoteSummary/BAC$E?modules=financialData%2CquoteType%2CdefaultKeyStatistics%2CassetProfile%2CsummaryDetail&corsDomain=finance.yahoo.com&formatted=false&symbol=BAC%24E&crumb=Vn1kjkpqGe7\n",
      " 10%|█         | 790/7775 [01:51<35:44,  3.26it/s]404 Client Error: Not Found for url: https://query2.finance.yahoo.com/v10/finance/quoteSummary/BAC$K?modules=financialData%2CquoteType%2CdefaultKeyStatistics%2CassetProfile%2CsummaryDetail&corsDomain=finance.yahoo.com&formatted=false&symbol=BAC%24K&crumb=Vn1kjkpqGe7\n",
      " 10%|█         | 791/7775 [01:51<44:24,  2.62it/s]404 Client Error: Not Found for url: https://query2.finance.yahoo.com/v10/finance/quoteSummary/BAC$L?modules=financialData%2CquoteType%2CdefaultKeyStatistics%2CassetProfile%2CsummaryDetail&corsDomain=finance.yahoo.com&formatted=false&symbol=BAC%24L&crumb=Vn1kjkpqGe7\n",
      " 10%|█         | 792/7775 [01:52<55:10,  2.11it/s]404 Client Error: Not Found for url: https://query2.finance.yahoo.com/v10/finance/quoteSummary/BAC$M?modules=financialData%2CquoteType%2CdefaultKeyStatistics%2CassetProfile%2CsummaryDetail&corsDomain=finance.yahoo.com&formatted=false&symbol=BAC%24M&crumb=Vn1kjkpqGe7\n",
      " 10%|█         | 793/7775 [01:53<1:03:59,  1.82it/s]404 Client Error: Not Found for url: https://query2.finance.yahoo.com/v10/finance/quoteSummary/BAC$N?modules=financialData%2CquoteType%2CdefaultKeyStatistics%2CassetProfile%2CsummaryDetail&corsDomain=finance.yahoo.com&formatted=false&symbol=BAC%24N&crumb=Vn1kjkpqGe7\n",
      " 10%|█         | 794/7775 [01:54<1:08:46,  1.69it/s]404 Client Error: Not Found for url: https://query2.finance.yahoo.com/v10/finance/quoteSummary/BAC$O?modules=financialData%2CquoteType%2CdefaultKeyStatistics%2CassetProfile%2CsummaryDetail&corsDomain=finance.yahoo.com&formatted=false&symbol=BAC%24O&crumb=Vn1kjkpqGe7\n",
      " 10%|█         | 795/7775 [01:54<1:18:02,  1.49it/s]404 Client Error: Not Found for url: https://query2.finance.yahoo.com/v10/finance/quoteSummary/BAC$P?modules=financialData%2CquoteType%2CdefaultKeyStatistics%2CassetProfile%2CsummaryDetail&corsDomain=finance.yahoo.com&formatted=false&symbol=BAC%24P&crumb=Vn1kjkpqGe7\n",
      " 10%|█         | 796/7775 [01:55<1:22:20,  1.41it/s]404 Client Error: Not Found for url: https://query2.finance.yahoo.com/v10/finance/quoteSummary/BAC$Q?modules=financialData%2CquoteType%2CdefaultKeyStatistics%2CassetProfile%2CsummaryDetail&corsDomain=finance.yahoo.com&formatted=false&symbol=BAC%24Q&crumb=Vn1kjkpqGe7\n",
      " 10%|█         | 797/7775 [01:56<1:19:34,  1.46it/s]404 Client Error: Not Found for url: https://query2.finance.yahoo.com/v10/finance/quoteSummary/BAC$S?modules=financialData%2CquoteType%2CdefaultKeyStatistics%2CassetProfile%2CsummaryDetail&corsDomain=finance.yahoo.com&formatted=false&symbol=BAC%24S&crumb=Vn1kjkpqGe7\n",
      " 10%|█         | 809/7775 [01:58<15:05,  7.69it/s]  404 Client Error: Not Found for url: https://query2.finance.yahoo.com/v10/finance/quoteSummary/BANC$F?modules=financialData%2CquoteType%2CdefaultKeyStatistics%2CassetProfile%2CsummaryDetail&corsDomain=finance.yahoo.com&formatted=false&symbol=BANC%24F&crumb=Vn1kjkpqGe7\n",
      " 11%|█         | 819/7775 [01:59<13:04,  8.87it/s]404 Client Error: Not Found for url: https://query2.finance.yahoo.com/v10/finance/quoteSummary/BARK.W?modules=financialData%2CquoteType%2CdefaultKeyStatistics%2CassetProfile%2CsummaryDetail&corsDomain=finance.yahoo.com&formatted=false&symbol=BARK.W&crumb=Vn1kjkpqGe7\n",
      " 11%|█         | 831/7775 [02:01<11:06, 10.43it/s]404 Client Error: Not Found for url: https://query2.finance.yahoo.com/v10/finance/quoteSummary/BBAI.W?modules=financialData%2CquoteType%2CdefaultKeyStatistics%2CassetProfile%2CsummaryDetail&corsDomain=finance.yahoo.com&formatted=false&symbol=BBAI.W&crumb=Vn1kjkpqGe7\n",
      " 11%|█         | 849/7775 [02:03<10:11, 11.33it/s]404 Client Error: Not Found for url: https://query2.finance.yahoo.com/v10/finance/quoteSummary/BC$A?modules=financialData%2CquoteType%2CdefaultKeyStatistics%2CassetProfile%2CsummaryDetail&corsDomain=finance.yahoo.com&formatted=false&symbol=BC%24A&crumb=Vn1kjkpqGe7\n",
      " 11%|█         | 851/7775 [02:04<19:06,  6.04it/s]404 Client Error: Not Found for url: https://query2.finance.yahoo.com/v10/finance/quoteSummary/BC$B?modules=financialData%2CquoteType%2CdefaultKeyStatistics%2CassetProfile%2CsummaryDetail&corsDomain=finance.yahoo.com&formatted=false&symbol=BC%24B&crumb=Vn1kjkpqGe7\n",
      " 11%|█         | 852/7775 [02:05<34:49,  3.31it/s]404 Client Error: Not Found for url: https://query2.finance.yahoo.com/v10/finance/quoteSummary/BC$C?modules=financialData%2CquoteType%2CdefaultKeyStatistics%2CassetProfile%2CsummaryDetail&corsDomain=finance.yahoo.com&formatted=false&symbol=BC%24C&crumb=Vn1kjkpqGe7\n",
      " 11%|█▏        | 879/7775 [02:08<11:29, 10.00it/s]404 Client Error: Not Found for url: https://query2.finance.yahoo.com/v10/finance/quoteSummary/BCV$A?modules=financialData%2CquoteType%2CdefaultKeyStatistics%2CassetProfile%2CsummaryDetail&corsDomain=finance.yahoo.com&formatted=false&symbol=BCV%24A&crumb=Vn1kjkpqGe7\n",
      " 12%|█▏        | 906/7775 [02:12<10:43, 10.68it/s]404 Client Error: Not Found for url: https://query2.finance.yahoo.com/v10/finance/quoteSummary/BEP$A?modules=financialData%2CquoteType%2CdefaultKeyStatistics%2CassetProfile%2CsummaryDetail&corsDomain=finance.yahoo.com&formatted=false&symbol=BEP%24A&crumb=Vn1kjkpqGe7\n",
      " 12%|█▏        | 918/7775 [02:14<11:32,  9.90it/s]404 Client Error: Not Found for url: https://query2.finance.yahoo.com/v10/finance/quoteSummary/BFAC.U?modules=financialData%2CquoteType%2CdefaultKeyStatistics%2CassetProfile%2CsummaryDetail&corsDomain=finance.yahoo.com&formatted=false&symbol=BFAC.U&crumb=Vn1kjkpqGe7\n",
      " 12%|█▏        | 920/7775 [02:14<20:06,  5.68it/s]404 Client Error: Not Found for url: https://query2.finance.yahoo.com/v10/finance/quoteSummary/BFAC.W?modules=financialData%2CquoteType%2CdefaultKeyStatistics%2CassetProfile%2CsummaryDetail&corsDomain=finance.yahoo.com&formatted=false&symbol=BFAC.W&crumb=Vn1kjkpqGe7\n",
      " 12%|█▏        | 929/7775 [02:16<13:41,  8.34it/s]404 Client Error: Not Found for url: https://query2.finance.yahoo.com/v10/finance/quoteSummary/BFLY.W?modules=financialData%2CquoteType%2CdefaultKeyStatistics%2CassetProfile%2CsummaryDetail&corsDomain=finance.yahoo.com&formatted=false&symbol=BFLY.W&crumb=Vn1kjkpqGe7\n",
      " 12%|█▏        | 935/7775 [02:17<14:29,  7.86it/s]404 Client Error: Not Found for url: https://query2.finance.yahoo.com/v10/finance/quoteSummary/BFS$D?modules=financialData%2CquoteType%2CdefaultKeyStatistics%2CassetProfile%2CsummaryDetail&corsDomain=finance.yahoo.com&formatted=false&symbol=BFS%24D&crumb=Vn1kjkpqGe7\n",
      "404 Client Error: Not Found for url: https://query2.finance.yahoo.com/v10/finance/quoteSummary/BFS$E?modules=financialData%2CquoteType%2CdefaultKeyStatistics%2CassetProfile%2CsummaryDetail&corsDomain=finance.yahoo.com&formatted=false&symbol=BFS%24E&crumb=Vn1kjkpqGe7\n",
      " 12%|█▏        | 955/7775 [02:19<09:40, 11.74it/s]404 Client Error: Not Found for url: https://query2.finance.yahoo.com/v10/finance/quoteSummary/BH.A?modules=financialData%2CquoteType%2CdefaultKeyStatistics%2CassetProfile%2CsummaryDetail&corsDomain=finance.yahoo.com&formatted=false&symbol=BH.A&crumb=Vn1kjkpqGe7\n",
      " 13%|█▎        | 977/7775 [02:22<08:58, 12.64it/s]404 Client Error: Not Found for url: https://query2.finance.yahoo.com/v10/finance/quoteSummary/BHR$B?modules=financialData%2CquoteType%2CdefaultKeyStatistics%2CassetProfile%2CsummaryDetail&corsDomain=finance.yahoo.com&formatted=false&symbol=BHR%24B&crumb=Vn1kjkpqGe7\n",
      "404 Client Error: Not Found for url: https://query2.finance.yahoo.com/v10/finance/quoteSummary/BHR$D?modules=financialData%2CquoteType%2CdefaultKeyStatistics%2CassetProfile%2CsummaryDetail&corsDomain=finance.yahoo.com&formatted=false&symbol=BHR%24D&crumb=Vn1kjkpqGe7\n",
      " 13%|█▎        | 997/7775 [02:25<09:15, 12.20it/s]404 Client Error: Not Found for url: https://query2.finance.yahoo.com/v10/finance/quoteSummary/BIP$A?modules=financialData%2CquoteType%2CdefaultKeyStatistics%2CassetProfile%2CsummaryDetail&corsDomain=finance.yahoo.com&formatted=false&symbol=BIP%24A&crumb=Vn1kjkpqGe7\n",
      " 13%|█▎        | 999/7775 [02:25<20:28,  5.52it/s]404 Client Error: Not Found for url: https://query2.finance.yahoo.com/v10/finance/quoteSummary/BIP$B?modules=financialData%2CquoteType%2CdefaultKeyStatistics%2CassetProfile%2CsummaryDetail&corsDomain=finance.yahoo.com&formatted=false&symbol=BIP%24B&crumb=Vn1kjkpqGe7\n",
      " 13%|█▎        | 1006/7775 [02:27<15:37,  7.22it/s]404 Client Error: Not Found for url: https://query2.finance.yahoo.com/v10/finance/quoteSummary/BITE.U?modules=financialData%2CquoteType%2CdefaultKeyStatistics%2CassetProfile%2CsummaryDetail&corsDomain=finance.yahoo.com&formatted=false&symbol=BITE.U&crumb=Vn1kjkpqGe7\n",
      " 13%|█▎        | 1008/7775 [02:27<23:32,  4.79it/s]404 Client Error: Not Found for url: https://query2.finance.yahoo.com/v10/finance/quoteSummary/BITE.W?modules=financialData%2CquoteType%2CdefaultKeyStatistics%2CassetProfile%2CsummaryDetail&corsDomain=finance.yahoo.com&formatted=false&symbol=BITE.W&crumb=Vn1kjkpqGe7\n",
      " 13%|█▎        | 1021/7775 [02:29<11:58,  9.41it/s]404 Client Error: Not Found for url: https://query2.finance.yahoo.com/v10/finance/quoteSummary/BKKT.W?modules=financialData%2CquoteType%2CdefaultKeyStatistics%2CassetProfile%2CsummaryDetail&corsDomain=finance.yahoo.com&formatted=false&symbol=BKKT.W&crumb=Vn1kjkpqGe7\n",
      " 13%|█▎        | 1025/7775 [02:30<18:35,  6.05it/s]404 Client Error: Not Found for url: https://query2.finance.yahoo.com/v10/finance/quoteSummary/BKSY.W?modules=financialData%2CquoteType%2CdefaultKeyStatistics%2CassetProfile%2CsummaryDetail&corsDomain=finance.yahoo.com&formatted=false&symbol=BKSY.W&crumb=Vn1kjkpqGe7\n",
      " 14%|█▎        | 1059/7775 [02:33<08:49, 12.68it/s]404 Client Error: Not Found for url: https://query2.finance.yahoo.com/v10/finance/quoteSummary/BLUA.U?modules=financialData%2CquoteType%2CdefaultKeyStatistics%2CassetProfile%2CsummaryDetail&corsDomain=finance.yahoo.com&formatted=false&symbol=BLUA.U&crumb=Vn1kjkpqGe7\n",
      " 14%|█▎        | 1061/7775 [02:34<18:52,  5.93it/s]404 Client Error: Not Found for url: https://query2.finance.yahoo.com/v10/finance/quoteSummary/BLUA.W?modules=financialData%2CquoteType%2CdefaultKeyStatistics%2CassetProfile%2CsummaryDetail&corsDomain=finance.yahoo.com&formatted=false&symbol=BLUA.W&crumb=Vn1kjkpqGe7\n",
      " 14%|█▍        | 1072/7775 [02:35<11:43,  9.52it/s]404 Client Error: Not Found for url: https://query2.finance.yahoo.com/v10/finance/quoteSummary/BML$G?modules=financialData%2CquoteType%2CdefaultKeyStatistics%2CassetProfile%2CsummaryDetail&corsDomain=finance.yahoo.com&formatted=false&symbol=BML%24G&crumb=Vn1kjkpqGe7\n",
      "404 Client Error: Not Found for url: https://query2.finance.yahoo.com/v10/finance/quoteSummary/BML$H?modules=financialData%2CquoteType%2CdefaultKeyStatistics%2CassetProfile%2CsummaryDetail&corsDomain=finance.yahoo.com&formatted=false&symbol=BML%24H&crumb=Vn1kjkpqGe7\n",
      " 14%|█▍        | 1074/7775 [02:37<32:07,  3.48it/s]404 Client Error: Not Found for url: https://query2.finance.yahoo.com/v10/finance/quoteSummary/BML$J?modules=financialData%2CquoteType%2CdefaultKeyStatistics%2CassetProfile%2CsummaryDetail&corsDomain=finance.yahoo.com&formatted=false&symbol=BML%24J&crumb=Vn1kjkpqGe7\n",
      " 14%|█▍        | 1075/7775 [02:38<40:05,  2.79it/s]404 Client Error: Not Found for url: https://query2.finance.yahoo.com/v10/finance/quoteSummary/BML$L?modules=financialData%2CquoteType%2CdefaultKeyStatistics%2CassetProfile%2CsummaryDetail&corsDomain=finance.yahoo.com&formatted=false&symbol=BML%24L&crumb=Vn1kjkpqGe7\n",
      " 14%|█▍        | 1083/7775 [02:39<16:13,  6.88it/s]404 Client Error: Not Found for url: https://query2.finance.yahoo.com/v10/finance/quoteSummary/BMTX.W?modules=financialData%2CquoteType%2CdefaultKeyStatistics%2CassetProfile%2CsummaryDetail&corsDomain=finance.yahoo.com&formatted=false&symbol=BMTX.W&crumb=Vn1kjkpqGe7\n",
      " 14%|█▍        | 1099/7775 [02:41<09:34, 11.61it/s]404 Client Error: Not Found for url: https://query2.finance.yahoo.com/v10/finance/quoteSummary/BNRE.A?modules=financialData%2CquoteType%2CdefaultKeyStatistics%2CassetProfile%2CsummaryDetail&corsDomain=finance.yahoo.com&formatted=false&symbol=BNRE.A&crumb=Vn1kjkpqGe7\n",
      " 14%|█▍        | 1115/7775 [02:42<08:58, 12.37it/s]404 Client Error: Not Found for url: https://query2.finance.yahoo.com/v10/finance/quoteSummary/BOH$A?modules=financialData%2CquoteType%2CdefaultKeyStatistics%2CassetProfile%2CsummaryDetail&corsDomain=finance.yahoo.com&formatted=false&symbol=BOH%24A&crumb=Vn1kjkpqGe7\n",
      " 16%|█▌        | 1237/7775 [02:53<09:53, 11.02it/s]404 Client Error: Not Found for url: https://query2.finance.yahoo.com/v10/finance/quoteSummary/BW$A?modules=financialData%2CquoteType%2CdefaultKeyStatistics%2CassetProfile%2CsummaryDetail&corsDomain=finance.yahoo.com&formatted=false&symbol=BW%24A&crumb=Vn1kjkpqGe7\n",
      " 16%|█▋        | 1279/7775 [02:57<08:24, 12.88it/s]404 Client Error: Not Found for url: https://query2.finance.yahoo.com/v10/finance/quoteSummary/C$J?modules=financialData%2CquoteType%2CdefaultKeyStatistics%2CassetProfile%2CsummaryDetail&corsDomain=finance.yahoo.com&formatted=false&symbol=C%24J&crumb=Vn1kjkpqGe7\n",
      "404 Client Error: Not Found for url: https://query2.finance.yahoo.com/v10/finance/quoteSummary/C$N?modules=financialData%2CquoteType%2CdefaultKeyStatistics%2CassetProfile%2CsummaryDetail&corsDomain=finance.yahoo.com&formatted=false&symbol=C%24N&crumb=Vn1kjkpqGe7\n",
      " 17%|█▋        | 1289/7775 [02:59<13:17,  8.13it/s]404 Client Error: Not Found for url: https://query2.finance.yahoo.com/v10/finance/quoteSummary/CADE$A?modules=financialData%2CquoteType%2CdefaultKeyStatistics%2CassetProfile%2CsummaryDetail&corsDomain=finance.yahoo.com&formatted=false&symbol=CADE%24A&crumb=Vn1kjkpqGe7\n",
      " 17%|█▋        | 1343/7775 [03:04<08:36, 12.45it/s]404 Client Error: Not Found for url: https://query2.finance.yahoo.com/v10/finance/quoteSummary/CBO?modules=financialData%2CquoteType%2CdefaultKeyStatistics%2CassetProfile%2CsummaryDetail&corsDomain=finance.yahoo.com&formatted=false&symbol=CBO&crumb=Vn1kjkpqGe7\n",
      " 17%|█▋        | 1353/7775 [03:05<10:50,  9.88it/s]404 Client Error: Not Found for url: https://query2.finance.yahoo.com/v10/finance/quoteSummary/CBX?modules=financialData%2CquoteType%2CdefaultKeyStatistics%2CassetProfile%2CsummaryDetail&corsDomain=finance.yahoo.com&formatted=false&symbol=CBX&crumb=Vn1kjkpqGe7\n",
      " 18%|█▊        | 1404/7775 [03:10<08:12, 12.94it/s]404 Client Error: Not Found for url: https://query2.finance.yahoo.com/v10/finance/quoteSummary/CDR$B?modules=financialData%2CquoteType%2CdefaultKeyStatistics%2CassetProfile%2CsummaryDetail&corsDomain=finance.yahoo.com&formatted=false&symbol=CDR%24B&crumb=Vn1kjkpqGe7\n",
      "404 Client Error: Not Found for url: https://query2.finance.yahoo.com/v10/finance/quoteSummary/CDR$C?modules=financialData%2CquoteType%2CdefaultKeyStatistics%2CassetProfile%2CsummaryDetail&corsDomain=finance.yahoo.com&formatted=false&symbol=CDR%24C&crumb=Vn1kjkpqGe7\n",
      " 18%|█▊        | 1426/7775 [03:13<08:47, 12.03it/s]404 Client Error: Not Found for url: https://query2.finance.yahoo.com/v10/finance/quoteSummary/CELG.R?modules=financialData%2CquoteType%2CdefaultKeyStatistics%2CassetProfile%2CsummaryDetail&corsDomain=finance.yahoo.com&formatted=false&symbol=CELG.R&crumb=Vn1kjkpqGe7\n",
      " 19%|█▉        | 1458/7775 [03:17<11:28,  9.17it/s]404 Client Error: Not Found for url: https://query2.finance.yahoo.com/v10/finance/quoteSummary/CFG$D?modules=financialData%2CquoteType%2CdefaultKeyStatistics%2CassetProfile%2CsummaryDetail&corsDomain=finance.yahoo.com&formatted=false&symbol=CFG%24D&crumb=Vn1kjkpqGe7\n",
      " 19%|█▉        | 1459/7775 [03:18<29:46,  3.53it/s]404 Client Error: Not Found for url: https://query2.finance.yahoo.com/v10/finance/quoteSummary/CFG$E?modules=financialData%2CquoteType%2CdefaultKeyStatistics%2CassetProfile%2CsummaryDetail&corsDomain=finance.yahoo.com&formatted=false&symbol=CFG%24E&crumb=Vn1kjkpqGe7\n",
      " 19%|█▉        | 1462/7775 [03:19<33:53,  3.10it/s]404 Client Error: Not Found for url: https://query2.finance.yahoo.com/v10/finance/quoteSummary/CFR$B?modules=financialData%2CquoteType%2CdefaultKeyStatistics%2CassetProfile%2CsummaryDetail&corsDomain=finance.yahoo.com&formatted=false&symbol=CFR%24B&crumb=Vn1kjkpqGe7\n",
      " 19%|█▉        | 1498/7775 [03:23<08:44, 11.97it/s]404 Client Error: Not Found for url: https://query2.finance.yahoo.com/v10/finance/quoteSummary/CHMI$A?modules=financialData%2CquoteType%2CdefaultKeyStatistics%2CassetProfile%2CsummaryDetail&corsDomain=finance.yahoo.com&formatted=false&symbol=CHMI%24A&crumb=Vn1kjkpqGe7\n",
      "404 Client Error: Not Found for url: https://query2.finance.yahoo.com/v10/finance/quoteSummary/CHMI$B?modules=financialData%2CquoteType%2CdefaultKeyStatistics%2CassetProfile%2CsummaryDetail&corsDomain=finance.yahoo.com&formatted=false&symbol=CHMI%24B&crumb=Vn1kjkpqGe7\n",
      " 20%|█▉        | 1527/7775 [03:27<11:00,  9.46it/s]404 Client Error: Not Found for url: https://query2.finance.yahoo.com/v10/finance/quoteSummary/CIG.C?modules=financialData%2CquoteType%2CdefaultKeyStatistics%2CassetProfile%2CsummaryDetail&corsDomain=finance.yahoo.com&formatted=false&symbol=CIG.C&crumb=Vn1kjkpqGe7\n",
      " 20%|█▉        | 1532/7775 [03:28<17:25,  5.97it/s]404 Client Error: Not Found for url: https://query2.finance.yahoo.com/v10/finance/quoteSummary/CIM$A?modules=financialData%2CquoteType%2CdefaultKeyStatistics%2CassetProfile%2CsummaryDetail&corsDomain=finance.yahoo.com&formatted=false&symbol=CIM%24A&crumb=Vn1kjkpqGe7\n",
      " 20%|█▉        | 1534/7775 [03:29<24:20,  4.27it/s]404 Client Error: Not Found for url: https://query2.finance.yahoo.com/v10/finance/quoteSummary/CIM$B?modules=financialData%2CquoteType%2CdefaultKeyStatistics%2CassetProfile%2CsummaryDetail&corsDomain=finance.yahoo.com&formatted=false&symbol=CIM%24B&crumb=Vn1kjkpqGe7\n",
      " 20%|█▉        | 1535/7775 [03:30<31:37,  3.29it/s]404 Client Error: Not Found for url: https://query2.finance.yahoo.com/v10/finance/quoteSummary/CIM$C?modules=financialData%2CquoteType%2CdefaultKeyStatistics%2CassetProfile%2CsummaryDetail&corsDomain=finance.yahoo.com&formatted=false&symbol=CIM%24C&crumb=Vn1kjkpqGe7\n",
      " 20%|█▉        | 1536/7775 [03:31<41:37,  2.50it/s]404 Client Error: Not Found for url: https://query2.finance.yahoo.com/v10/finance/quoteSummary/CIM$D?modules=financialData%2CquoteType%2CdefaultKeyStatistics%2CassetProfile%2CsummaryDetail&corsDomain=finance.yahoo.com&formatted=false&symbol=CIM%24D&crumb=Vn1kjkpqGe7\n",
      " 20%|█▉        | 1541/7775 [03:32<23:25,  4.43it/s]404 Client Error: Not Found for url: https://query2.finance.yahoo.com/v10/finance/quoteSummary/CIO$A?modules=financialData%2CquoteType%2CdefaultKeyStatistics%2CassetProfile%2CsummaryDetail&corsDomain=finance.yahoo.com&formatted=false&symbol=CIO%24A&crumb=Vn1kjkpqGe7\n",
      " 20%|██        | 1561/7775 [03:34<09:52, 10.49it/s]404 Client Error: Not Found for url: https://query2.finance.yahoo.com/v10/finance/quoteSummary/CLBR.U?modules=financialData%2CquoteType%2CdefaultKeyStatistics%2CassetProfile%2CsummaryDetail&corsDomain=finance.yahoo.com&formatted=false&symbol=CLBR.U&crumb=Vn1kjkpqGe7\n",
      "404 Client Error: Not Found for url: https://query2.finance.yahoo.com/v10/finance/quoteSummary/CLBR.W?modules=financialData%2CquoteType%2CdefaultKeyStatistics%2CassetProfile%2CsummaryDetail&corsDomain=finance.yahoo.com&formatted=false&symbol=CLBR.W&crumb=Vn1kjkpqGe7\n",
      " 20%|██        | 1567/7775 [03:35<17:44,  5.83it/s]404 Client Error: Not Found for url: https://query2.finance.yahoo.com/v10/finance/quoteSummary/CLDI.W?modules=financialData%2CquoteType%2CdefaultKeyStatistics%2CassetProfile%2CsummaryDetail&corsDomain=finance.yahoo.com&formatted=false&symbol=CLDI.W&crumb=Vn1kjkpqGe7\n",
      " 20%|██        | 1569/7775 [03:36<22:38,  4.57it/s]404 Client Error: Not Found for url: https://query2.finance.yahoo.com/v10/finance/quoteSummary/CLDT$A?modules=financialData%2CquoteType%2CdefaultKeyStatistics%2CassetProfile%2CsummaryDetail&corsDomain=finance.yahoo.com&formatted=false&symbol=CLDT%24A&crumb=Vn1kjkpqGe7\n",
      " 21%|██        | 1604/7775 [03:39<07:59, 12.86it/s]404 Client Error: Not Found for url: https://query2.finance.yahoo.com/v10/finance/quoteSummary/CLVT$A?modules=financialData%2CquoteType%2CdefaultKeyStatistics%2CassetProfile%2CsummaryDetail&corsDomain=finance.yahoo.com&formatted=false&symbol=CLVT%24A&crumb=Vn1kjkpqGe7\n",
      " 21%|██        | 1634/7775 [03:42<08:00, 12.77it/s]404 Client Error: Not Found for url: https://query2.finance.yahoo.com/v10/finance/quoteSummary/CMRE$B?modules=financialData%2CquoteType%2CdefaultKeyStatistics%2CassetProfile%2CsummaryDetail&corsDomain=finance.yahoo.com&formatted=false&symbol=CMRE%24B&crumb=Vn1kjkpqGe7\n",
      " 21%|██        | 1636/7775 [03:43<16:21,  6.25it/s]404 Client Error: Not Found for url: https://query2.finance.yahoo.com/v10/finance/quoteSummary/CMRE$C?modules=financialData%2CquoteType%2CdefaultKeyStatistics%2CassetProfile%2CsummaryDetail&corsDomain=finance.yahoo.com&formatted=false&symbol=CMRE%24C&crumb=Vn1kjkpqGe7\n",
      " 21%|██        | 1637/7775 [03:44<26:32,  3.85it/s]404 Client Error: Not Found for url: https://query2.finance.yahoo.com/v10/finance/quoteSummary/CMRE$D?modules=financialData%2CquoteType%2CdefaultKeyStatistics%2CassetProfile%2CsummaryDetail&corsDomain=finance.yahoo.com&formatted=false&symbol=CMRE%24D&crumb=Vn1kjkpqGe7\n",
      " 21%|██        | 1638/7775 [03:45<34:20,  2.98it/s]404 Client Error: Not Found for url: https://query2.finance.yahoo.com/v10/finance/quoteSummary/CMRE$E?modules=financialData%2CquoteType%2CdefaultKeyStatistics%2CassetProfile%2CsummaryDetail&corsDomain=finance.yahoo.com&formatted=false&symbol=CMRE%24E&crumb=Vn1kjkpqGe7\n",
      " 21%|██        | 1641/7775 [03:45<28:22,  3.60it/s]404 Client Error: Not Found for url: https://query2.finance.yahoo.com/v10/finance/quoteSummary/CMS$B?modules=financialData%2CquoteType%2CdefaultKeyStatistics%2CassetProfile%2CsummaryDetail&corsDomain=finance.yahoo.com&formatted=false&symbol=CMS%24B&crumb=Vn1kjkpqGe7\n",
      " 21%|██        | 1642/7775 [03:46<38:01,  2.69it/s]404 Client Error: Not Found for url: https://query2.finance.yahoo.com/v10/finance/quoteSummary/CMS$C?modules=financialData%2CquoteType%2CdefaultKeyStatistics%2CassetProfile%2CsummaryDetail&corsDomain=finance.yahoo.com&formatted=false&symbol=CMS%24C&crumb=Vn1kjkpqGe7\n",
      " 21%|██▏       | 1653/7775 [03:48<13:03,  7.81it/s]404 Client Error: Not Found for url: https://query2.finance.yahoo.com/v10/finance/quoteSummary/CNDA.U?modules=financialData%2CquoteType%2CdefaultKeyStatistics%2CassetProfile%2CsummaryDetail&corsDomain=finance.yahoo.com&formatted=false&symbol=CNDA.U&crumb=Vn1kjkpqGe7\n",
      "404 Client Error: Not Found for url: https://query2.finance.yahoo.com/v10/finance/quoteSummary/CNDA.W?modules=financialData%2CquoteType%2CdefaultKeyStatistics%2CassetProfile%2CsummaryDetail&corsDomain=finance.yahoo.com&formatted=false&symbol=CNDA.W&crumb=Vn1kjkpqGe7\n",
      " 21%|██▏       | 1655/7775 [03:49<33:03,  3.08it/s]404 Client Error: Not Found for url: https://query2.finance.yahoo.com/v10/finance/quoteSummary/CNDB.U?modules=financialData%2CquoteType%2CdefaultKeyStatistics%2CassetProfile%2CsummaryDetail&corsDomain=finance.yahoo.com&formatted=false&symbol=CNDB.U&crumb=Vn1kjkpqGe7\n",
      " 21%|██▏       | 1657/7775 [03:50<34:07,  2.99it/s]404 Client Error: Not Found for url: https://query2.finance.yahoo.com/v10/finance/quoteSummary/CNDB.W?modules=financialData%2CquoteType%2CdefaultKeyStatistics%2CassetProfile%2CsummaryDetail&corsDomain=finance.yahoo.com&formatted=false&symbol=CNDB.W&crumb=Vn1kjkpqGe7\n",
      " 22%|██▏       | 1673/7775 [03:52<10:00, 10.16it/s]404 Client Error: Not Found for url: https://query2.finance.yahoo.com/v10/finance/quoteSummary/CNO$A?modules=financialData%2CquoteType%2CdefaultKeyStatistics%2CassetProfile%2CsummaryDetail&corsDomain=finance.yahoo.com&formatted=false&symbol=CNO%24A&crumb=Vn1kjkpqGe7\n",
      " 22%|██▏       | 1697/7775 [03:54<08:05, 12.51it/s]404 Client Error: Not Found for url: https://query2.finance.yahoo.com/v10/finance/quoteSummary/CODI$A?modules=financialData%2CquoteType%2CdefaultKeyStatistics%2CassetProfile%2CsummaryDetail&corsDomain=finance.yahoo.com&formatted=false&symbol=CODI%24A&crumb=Vn1kjkpqGe7\n",
      " 22%|██▏       | 1699/7775 [03:55<15:56,  6.36it/s]404 Client Error: Not Found for url: https://query2.finance.yahoo.com/v10/finance/quoteSummary/CODI$B?modules=financialData%2CquoteType%2CdefaultKeyStatistics%2CassetProfile%2CsummaryDetail&corsDomain=finance.yahoo.com&formatted=false&symbol=CODI%24B&crumb=Vn1kjkpqGe7\n",
      " 22%|██▏       | 1700/7775 [03:56<23:58,  4.22it/s]404 Client Error: Not Found for url: https://query2.finance.yahoo.com/v10/finance/quoteSummary/CODI$C?modules=financialData%2CquoteType%2CdefaultKeyStatistics%2CassetProfile%2CsummaryDetail&corsDomain=finance.yahoo.com&formatted=false&symbol=CODI%24C&crumb=Vn1kjkpqGe7\n",
      " 22%|██▏       | 1705/7775 [03:57<18:40,  5.41it/s]404 Client Error: Not Found for url: https://query2.finance.yahoo.com/v10/finance/quoteSummary/COF$I?modules=financialData%2CquoteType%2CdefaultKeyStatistics%2CassetProfile%2CsummaryDetail&corsDomain=finance.yahoo.com&formatted=false&symbol=COF%24I&crumb=Vn1kjkpqGe7\n",
      " 22%|██▏       | 1707/7775 [03:57<23:46,  4.25it/s]404 Client Error: Not Found for url: https://query2.finance.yahoo.com/v10/finance/quoteSummary/COF$J?modules=financialData%2CquoteType%2CdefaultKeyStatistics%2CassetProfile%2CsummaryDetail&corsDomain=finance.yahoo.com&formatted=false&symbol=COF%24J&crumb=Vn1kjkpqGe7\n",
      " 22%|██▏       | 1708/7775 [03:58<30:58,  3.27it/s]404 Client Error: Not Found for url: https://query2.finance.yahoo.com/v10/finance/quoteSummary/COF$K?modules=financialData%2CquoteType%2CdefaultKeyStatistics%2CassetProfile%2CsummaryDetail&corsDomain=finance.yahoo.com&formatted=false&symbol=COF%24K&crumb=Vn1kjkpqGe7\n",
      " 22%|██▏       | 1709/7775 [03:59<37:44,  2.68it/s]404 Client Error: Not Found for url: https://query2.finance.yahoo.com/v10/finance/quoteSummary/COF$L?modules=financialData%2CquoteType%2CdefaultKeyStatistics%2CassetProfile%2CsummaryDetail&corsDomain=finance.yahoo.com&formatted=false&symbol=COF%24L&crumb=Vn1kjkpqGe7\n",
      " 22%|██▏       | 1710/7775 [03:59<43:04,  2.35it/s]404 Client Error: Not Found for url: https://query2.finance.yahoo.com/v10/finance/quoteSummary/COF$N?modules=financialData%2CquoteType%2CdefaultKeyStatistics%2CassetProfile%2CsummaryDetail&corsDomain=finance.yahoo.com&formatted=false&symbol=COF%24N&crumb=Vn1kjkpqGe7\n",
      " 23%|██▎       | 1768/7775 [04:04<08:10, 12.24it/s]404 Client Error: Not Found for url: https://query2.finance.yahoo.com/v10/finance/quoteSummary/CPTK.U?modules=financialData%2CquoteType%2CdefaultKeyStatistics%2CassetProfile%2CsummaryDetail&corsDomain=finance.yahoo.com&formatted=false&symbol=CPTK.U&crumb=Vn1kjkpqGe7\n",
      " 24%|██▎       | 1838/7775 [04:11<08:05, 12.23it/s]404 Client Error: Not Found for url: https://query2.finance.yahoo.com/v10/finance/quoteSummary/CSR$C?modules=financialData%2CquoteType%2CdefaultKeyStatistics%2CassetProfile%2CsummaryDetail&corsDomain=finance.yahoo.com&formatted=false&symbol=CSR%24C&crumb=Vn1kjkpqGe7\n",
      " 24%|██▍       | 1853/7775 [04:13<09:36, 10.27it/s]404 Client Error: Not Found for url: https://query2.finance.yahoo.com/v10/finance/quoteSummary/CTA$A?modules=financialData%2CquoteType%2CdefaultKeyStatistics%2CassetProfile%2CsummaryDetail&corsDomain=finance.yahoo.com&formatted=false&symbol=CTA%24A&crumb=Vn1kjkpqGe7\n",
      "404 Client Error: Not Found for url: https://query2.finance.yahoo.com/v10/finance/quoteSummary/CTA$B?modules=financialData%2CquoteType%2CdefaultKeyStatistics%2CassetProfile%2CsummaryDetail&corsDomain=finance.yahoo.com&formatted=false&symbol=CTA%24B&crumb=Vn1kjkpqGe7\n",
      " 24%|██▍       | 1861/7775 [04:15<14:42,  6.70it/s]404 Client Error: Not Found for url: https://query2.finance.yahoo.com/v10/finance/quoteSummary/CTEST.E?modules=financialData%2CquoteType%2CdefaultKeyStatistics%2CassetProfile%2CsummaryDetail&corsDomain=finance.yahoo.com&formatted=false&symbol=CTEST.E&crumb=Vn1kjkpqGe7\n",
      " 24%|██▍       | 1863/7775 [04:15<20:29,  4.81it/s]404 Client Error: Not Found for url: https://query2.finance.yahoo.com/v10/finance/quoteSummary/CTEST.G?modules=financialData%2CquoteType%2CdefaultKeyStatistics%2CassetProfile%2CsummaryDetail&corsDomain=finance.yahoo.com&formatted=false&symbol=CTEST.G&crumb=Vn1kjkpqGe7\n",
      " 24%|██▍       | 1864/7775 [04:16<27:22,  3.60it/s]404 Client Error: Not Found for url: https://query2.finance.yahoo.com/v10/finance/quoteSummary/CTEST.L?modules=financialData%2CquoteType%2CdefaultKeyStatistics%2CassetProfile%2CsummaryDetail&corsDomain=finance.yahoo.com&formatted=false&symbol=CTEST.L&crumb=Vn1kjkpqGe7\n",
      " 24%|██▍       | 1865/7775 [04:17<39:02,  2.52it/s]404 Client Error: Not Found for url: https://query2.finance.yahoo.com/v10/finance/quoteSummary/CTEST.O?modules=financialData%2CquoteType%2CdefaultKeyStatistics%2CassetProfile%2CsummaryDetail&corsDomain=finance.yahoo.com&formatted=false&symbol=CTEST.O&crumb=Vn1kjkpqGe7\n",
      " 24%|██▍       | 1866/7775 [04:18<44:44,  2.20it/s]404 Client Error: Not Found for url: https://query2.finance.yahoo.com/v10/finance/quoteSummary/CTEST.S?modules=financialData%2CquoteType%2CdefaultKeyStatistics%2CassetProfile%2CsummaryDetail&corsDomain=finance.yahoo.com&formatted=false&symbol=CTEST.S&crumb=Vn1kjkpqGe7\n",
      " 24%|██▍       | 1867/7775 [04:18<51:20,  1.92it/s]404 Client Error: Not Found for url: https://query2.finance.yahoo.com/v10/finance/quoteSummary/CTEST.V?modules=financialData%2CquoteType%2CdefaultKeyStatistics%2CassetProfile%2CsummaryDetail&corsDomain=finance.yahoo.com&formatted=false&symbol=CTEST.V&crumb=Vn1kjkpqGe7\n",
      " 24%|██▍       | 1876/7775 [04:20<14:45,  6.66it/s]404 Client Error: Not Found for url: https://query2.finance.yahoo.com/v10/finance/quoteSummary/CTO$A?modules=financialData%2CquoteType%2CdefaultKeyStatistics%2CassetProfile%2CsummaryDetail&corsDomain=finance.yahoo.com&formatted=false&symbol=CTO%24A&crumb=Vn1kjkpqGe7\n",
      " 24%|██▍       | 1878/7775 [04:20<22:03,  4.46it/s]404 Client Error: Not Found for url: https://query2.finance.yahoo.com/v10/finance/quoteSummary/CTOS.W?modules=financialData%2CquoteType%2CdefaultKeyStatistics%2CassetProfile%2CsummaryDetail&corsDomain=finance.yahoo.com&formatted=false&symbol=CTOS.W&crumb=Vn1kjkpqGe7\n",
      " 24%|██▍       | 1888/7775 [04:22<12:43,  7.71it/s]404 Client Error: Not Found for url: https://query2.finance.yahoo.com/v10/finance/quoteSummary/CTV.W?modules=financialData%2CquoteType%2CdefaultKeyStatistics%2CassetProfile%2CsummaryDetail&corsDomain=finance.yahoo.com&formatted=false&symbol=CTV.W&crumb=Vn1kjkpqGe7\n",
      " 24%|██▍       | 1896/7775 [04:23<11:38,  8.42it/s]404 Client Error: Not Found for url: https://query2.finance.yahoo.com/v10/finance/quoteSummary/CUBI$E?modules=financialData%2CquoteType%2CdefaultKeyStatistics%2CassetProfile%2CsummaryDetail&corsDomain=finance.yahoo.com&formatted=false&symbol=CUBI%24E&crumb=Vn1kjkpqGe7\n",
      "404 Client Error: Not Found for url: https://query2.finance.yahoo.com/v10/finance/quoteSummary/CUBI$F?modules=financialData%2CquoteType%2CdefaultKeyStatistics%2CassetProfile%2CsummaryDetail&corsDomain=finance.yahoo.com&formatted=false&symbol=CUBI%24F&crumb=Vn1kjkpqGe7\n",
      " 25%|██▍       | 1913/7775 [04:27<13:10,  7.41it/s]404 Client Error: Not Found for url: https://query2.finance.yahoo.com/v10/finance/quoteSummary/CVE.W?modules=financialData%2CquoteType%2CdefaultKeyStatistics%2CassetProfile%2CsummaryDetail&corsDomain=finance.yahoo.com&formatted=false&symbol=CVE.W&crumb=Vn1kjkpqGe7\n",
      " 25%|██▍       | 1919/7775 [04:28<15:48,  6.18it/s]404 Client Error: Not Found for url: https://query2.finance.yahoo.com/v10/finance/quoteSummary/CVII.U?modules=financialData%2CquoteType%2CdefaultKeyStatistics%2CassetProfile%2CsummaryDetail&corsDomain=finance.yahoo.com&formatted=false&symbol=CVII.U&crumb=Vn1kjkpqGe7\n",
      " 25%|██▍       | 1920/7775 [04:29<32:25,  3.01it/s]404 Client Error: Not Found for url: https://query2.finance.yahoo.com/v10/finance/quoteSummary/CVII.W?modules=financialData%2CquoteType%2CdefaultKeyStatistics%2CassetProfile%2CsummaryDetail&corsDomain=finance.yahoo.com&formatted=false&symbol=CVII.W&crumb=Vn1kjkpqGe7\n",
      " 25%|██▍       | 1939/7775 [04:32<09:59,  9.74it/s]404 Client Error: Not Found for url: https://query2.finance.yahoo.com/v10/finance/quoteSummary/CWEN.A?modules=financialData%2CquoteType%2CdefaultKeyStatistics%2CassetProfile%2CsummaryDetail&corsDomain=finance.yahoo.com&formatted=false&symbol=CWEN.A&crumb=Vn1kjkpqGe7\n",
      " 26%|██▌       | 1997/7775 [04:38<08:41, 11.08it/s]404 Client Error: Not Found for url: https://query2.finance.yahoo.com/v10/finance/quoteSummary/DBRG$H?modules=financialData%2CquoteType%2CdefaultKeyStatistics%2CassetProfile%2CsummaryDetail&corsDomain=finance.yahoo.com&formatted=false&symbol=DBRG%24H&crumb=Vn1kjkpqGe7\n",
      " 26%|██▌       | 1999/7775 [04:38<16:25,  5.86it/s]404 Client Error: Not Found for url: https://query2.finance.yahoo.com/v10/finance/quoteSummary/DBRG$I?modules=financialData%2CquoteType%2CdefaultKeyStatistics%2CassetProfile%2CsummaryDetail&corsDomain=finance.yahoo.com&formatted=false&symbol=DBRG%24I&crumb=Vn1kjkpqGe7\n",
      " 26%|██▌       | 2000/7775 [04:39<24:50,  3.87it/s]404 Client Error: Not Found for url: https://query2.finance.yahoo.com/v10/finance/quoteSummary/DBRG$J?modules=financialData%2CquoteType%2CdefaultKeyStatistics%2CassetProfile%2CsummaryDetail&corsDomain=finance.yahoo.com&formatted=false&symbol=DBRG%24J&crumb=Vn1kjkpqGe7\n",
      " 26%|██▌       | 2004/7775 [04:40<20:45,  4.63it/s]404 Client Error: Not Found for url: https://query2.finance.yahoo.com/v10/finance/quoteSummary/DC.W?modules=financialData%2CquoteType%2CdefaultKeyStatistics%2CassetProfile%2CsummaryDetail&corsDomain=finance.yahoo.com&formatted=false&symbol=DC.W&crumb=Vn1kjkpqGe7\n",
      " 27%|██▋       | 2089/7775 [04:47<08:08, 11.64it/s]404 Client Error: Not Found for url: https://query2.finance.yahoo.com/v10/finance/quoteSummary/DLNG$A?modules=financialData%2CquoteType%2CdefaultKeyStatistics%2CassetProfile%2CsummaryDetail&corsDomain=finance.yahoo.com&formatted=false&symbol=DLNG%24A&crumb=Vn1kjkpqGe7\n",
      "404 Client Error: Not Found for url: https://query2.finance.yahoo.com/v10/finance/quoteSummary/DLNG$B?modules=financialData%2CquoteType%2CdefaultKeyStatistics%2CassetProfile%2CsummaryDetail&corsDomain=finance.yahoo.com&formatted=false&symbol=DLNG%24B&crumb=Vn1kjkpqGe7\n",
      " 27%|██▋       | 2093/7775 [04:49<20:33,  4.61it/s]404 Client Error: Not Found for url: https://query2.finance.yahoo.com/v10/finance/quoteSummary/DLR$J?modules=financialData%2CquoteType%2CdefaultKeyStatistics%2CassetProfile%2CsummaryDetail&corsDomain=finance.yahoo.com&formatted=false&symbol=DLR%24J&crumb=Vn1kjkpqGe7\n",
      " 27%|██▋       | 2095/7775 [04:50<28:03,  3.37it/s]404 Client Error: Not Found for url: https://query2.finance.yahoo.com/v10/finance/quoteSummary/DLR$K?modules=financialData%2CquoteType%2CdefaultKeyStatistics%2CassetProfile%2CsummaryDetail&corsDomain=finance.yahoo.com&formatted=false&symbol=DLR%24K&crumb=Vn1kjkpqGe7\n",
      " 27%|██▋       | 2096/7775 [04:51<37:58,  2.49it/s]404 Client Error: Not Found for url: https://query2.finance.yahoo.com/v10/finance/quoteSummary/DLR$L?modules=financialData%2CquoteType%2CdefaultKeyStatistics%2CassetProfile%2CsummaryDetail&corsDomain=finance.yahoo.com&formatted=false&symbol=DLR%24L&crumb=Vn1kjkpqGe7\n",
      " 27%|██▋       | 2113/7775 [04:53<10:24,  9.07it/s]404 Client Error: Not Found for url: https://query2.finance.yahoo.com/v10/finance/quoteSummary/DMYY.U?modules=financialData%2CquoteType%2CdefaultKeyStatistics%2CassetProfile%2CsummaryDetail&corsDomain=finance.yahoo.com&formatted=false&symbol=DMYY.U&crumb=Vn1kjkpqGe7\n",
      " 27%|██▋       | 2115/7775 [04:54<20:45,  4.55it/s]404 Client Error: Not Found for url: https://query2.finance.yahoo.com/v10/finance/quoteSummary/DMYY.W?modules=financialData%2CquoteType%2CdefaultKeyStatistics%2CassetProfile%2CsummaryDetail&corsDomain=finance.yahoo.com&formatted=false&symbol=DMYY.W&crumb=Vn1kjkpqGe7\n",
      " 27%|██▋       | 2116/7775 [04:55<30:12,  3.12it/s]404 Client Error: Not Found for url: https://query2.finance.yahoo.com/v10/finance/quoteSummary/DNA.W?modules=financialData%2CquoteType%2CdefaultKeyStatistics%2CassetProfile%2CsummaryDetail&corsDomain=finance.yahoo.com&formatted=false&symbol=DNA.W&crumb=Vn1kjkpqGe7\n",
      " 28%|██▊       | 2154/7775 [04:58<08:40, 10.81it/s]404 Client Error: Not Found for url: https://query2.finance.yahoo.com/v10/finance/quoteSummary/DRH$A?modules=financialData%2CquoteType%2CdefaultKeyStatistics%2CassetProfile%2CsummaryDetail&corsDomain=finance.yahoo.com&formatted=false&symbol=DRH%24A&crumb=Vn1kjkpqGe7\n",
      " 28%|██▊       | 2168/7775 [05:00<09:02, 10.34it/s]404 Client Error: Not Found for url: https://query2.finance.yahoo.com/v10/finance/quoteSummary/DSAQ.U?modules=financialData%2CquoteType%2CdefaultKeyStatistics%2CassetProfile%2CsummaryDetail&corsDomain=finance.yahoo.com&formatted=false&symbol=DSAQ.U&crumb=Vn1kjkpqGe7\n",
      " 28%|██▊       | 2180/7775 [05:02<09:17, 10.04it/s]404 Client Error: Not Found for url: https://query2.finance.yahoo.com/v10/finance/quoteSummary/DSX$B?modules=financialData%2CquoteType%2CdefaultKeyStatistics%2CassetProfile%2CsummaryDetail&corsDomain=finance.yahoo.com&formatted=false&symbol=DSX%24B&crumb=Vn1kjkpqGe7\n",
      "404 Client Error: Not Found for url: https://query2.finance.yahoo.com/v10/finance/quoteSummary/DSX.W?modules=financialData%2CquoteType%2CdefaultKeyStatistics%2CassetProfile%2CsummaryDetail&corsDomain=finance.yahoo.com&formatted=false&symbol=DSX.W&crumb=Vn1kjkpqGe7\n",
      " 28%|██▊       | 2200/7775 [05:04<08:15, 11.26it/s]404 Client Error: Not Found for url: https://query2.finance.yahoo.com/v10/finance/quoteSummary/DUK$A?modules=financialData%2CquoteType%2CdefaultKeyStatistics%2CassetProfile%2CsummaryDetail&corsDomain=finance.yahoo.com&formatted=false&symbol=DUK%24A&crumb=Vn1kjkpqGe7\n",
      " 28%|██▊       | 2214/7775 [05:06<09:29,  9.76it/s]404 Client Error: Not Found for url: https://query2.finance.yahoo.com/v10/finance/quoteSummary/DX$C?modules=financialData%2CquoteType%2CdefaultKeyStatistics%2CassetProfile%2CsummaryDetail&corsDomain=finance.yahoo.com&formatted=false&symbol=DX%24C&crumb=Vn1kjkpqGe7\n",
      " 29%|██▉       | 2246/7775 [05:09<07:16, 12.67it/s]404 Client Error: Not Found for url: https://query2.finance.yahoo.com/v10/finance/quoteSummary/EBR.B?modules=financialData%2CquoteType%2CdefaultKeyStatistics%2CassetProfile%2CsummaryDetail&corsDomain=finance.yahoo.com&formatted=false&symbol=EBR.B&crumb=Vn1kjkpqGe7\n",
      " 29%|██▉       | 2254/7775 [05:11<10:04,  9.14it/s]404 Client Error: Not Found for url: https://query2.finance.yahoo.com/v10/finance/quoteSummary/ECC$D?modules=financialData%2CquoteType%2CdefaultKeyStatistics%2CassetProfile%2CsummaryDetail&corsDomain=finance.yahoo.com&formatted=false&symbol=ECC%24D&crumb=Vn1kjkpqGe7\n",
      " 29%|██▉       | 2262/7775 [05:12<10:43,  8.56it/s]404 Client Error: Not Found for url: https://query2.finance.yahoo.com/v10/finance/quoteSummary/ECF$A?modules=financialData%2CquoteType%2CdefaultKeyStatistics%2CassetProfile%2CsummaryDetail&corsDomain=finance.yahoo.com&formatted=false&symbol=ECF%24A&crumb=Vn1kjkpqGe7\n",
      " 29%|██▉       | 2290/7775 [05:15<07:23, 12.36it/s]404 Client Error: Not Found for url: https://query2.finance.yahoo.com/v10/finance/quoteSummary/EFC$A?modules=financialData%2CquoteType%2CdefaultKeyStatistics%2CassetProfile%2CsummaryDetail&corsDomain=finance.yahoo.com&formatted=false&symbol=EFC%24A&crumb=Vn1kjkpqGe7\n",
      "404 Client Error: Not Found for url: https://query2.finance.yahoo.com/v10/finance/quoteSummary/EFC$B?modules=financialData%2CquoteType%2CdefaultKeyStatistics%2CassetProfile%2CsummaryDetail&corsDomain=finance.yahoo.com&formatted=false&symbol=EFC%24B&crumb=Vn1kjkpqGe7\n",
      " 29%|██▉       | 2292/7775 [05:16<24:29,  3.73it/s]404 Client Error: Not Found for url: https://query2.finance.yahoo.com/v10/finance/quoteSummary/EFC$C?modules=financialData%2CquoteType%2CdefaultKeyStatistics%2CassetProfile%2CsummaryDetail&corsDomain=finance.yahoo.com&formatted=false&symbol=EFC%24C&crumb=Vn1kjkpqGe7\n",
      " 29%|██▉       | 2293/7775 [05:17<33:46,  2.70it/s]404 Client Error: Not Found for url: https://query2.finance.yahoo.com/v10/finance/quoteSummary/EFC$D?modules=financialData%2CquoteType%2CdefaultKeyStatistics%2CassetProfile%2CsummaryDetail&corsDomain=finance.yahoo.com&formatted=false&symbol=EFC%24D&crumb=Vn1kjkpqGe7\n",
      " 30%|██▉       | 2294/7775 [05:18<39:35,  2.31it/s]404 Client Error: Not Found for url: https://query2.finance.yahoo.com/v10/finance/quoteSummary/EFC$E?modules=financialData%2CquoteType%2CdefaultKeyStatistics%2CassetProfile%2CsummaryDetail&corsDomain=finance.yahoo.com&formatted=false&symbol=EFC%24E&crumb=Vn1kjkpqGe7\n",
      " 31%|███       | 2413/7775 [05:29<09:03,  9.87it/s]404 Client Error: Not Found for url: https://query2.finance.yahoo.com/v10/finance/quoteSummary/EP$C?modules=financialData%2CquoteType%2CdefaultKeyStatistics%2CassetProfile%2CsummaryDetail&corsDomain=finance.yahoo.com&formatted=false&symbol=EP%24C&crumb=Vn1kjkpqGe7\n",
      " 31%|███       | 2421/7775 [05:30<10:46,  8.29it/s]404 Client Error: Not Found for url: https://query2.finance.yahoo.com/v10/finance/quoteSummary/EPR$C?modules=financialData%2CquoteType%2CdefaultKeyStatistics%2CassetProfile%2CsummaryDetail&corsDomain=finance.yahoo.com&formatted=false&symbol=EPR%24C&crumb=Vn1kjkpqGe7\n",
      " 31%|███       | 2423/7775 [05:31<17:47,  5.02it/s]404 Client Error: Not Found for url: https://query2.finance.yahoo.com/v10/finance/quoteSummary/EPR$E?modules=financialData%2CquoteType%2CdefaultKeyStatistics%2CassetProfile%2CsummaryDetail&corsDomain=finance.yahoo.com&formatted=false&symbol=EPR%24E&crumb=Vn1kjkpqGe7\n",
      " 31%|███       | 2424/7775 [05:31<25:16,  3.53it/s]404 Client Error: Not Found for url: https://query2.finance.yahoo.com/v10/finance/quoteSummary/EPR$G?modules=financialData%2CquoteType%2CdefaultKeyStatistics%2CassetProfile%2CsummaryDetail&corsDomain=finance.yahoo.com&formatted=false&symbol=EPR%24G&crumb=Vn1kjkpqGe7\n",
      " 31%|███▏      | 2430/7775 [05:32<16:21,  5.45it/s]404 Client Error: Not Found for url: https://query2.finance.yahoo.com/v10/finance/quoteSummary/EQC$D?modules=financialData%2CquoteType%2CdefaultKeyStatistics%2CassetProfile%2CsummaryDetail&corsDomain=finance.yahoo.com&formatted=false&symbol=EQC%24D&crumb=Vn1kjkpqGe7\n",
      " 31%|███▏      | 2432/7775 [05:34<28:42,  3.10it/s]404 Client Error: Not Found for url: https://query2.finance.yahoo.com/v10/finance/quoteSummary/EQH$A?modules=financialData%2CquoteType%2CdefaultKeyStatistics%2CassetProfile%2CsummaryDetail&corsDomain=finance.yahoo.com&formatted=false&symbol=EQH%24A&crumb=Vn1kjkpqGe7\n",
      " 31%|███▏      | 2433/7775 [05:34<39:06,  2.28it/s]404 Client Error: Not Found for url: https://query2.finance.yahoo.com/v10/finance/quoteSummary/EQH$C?modules=financialData%2CquoteType%2CdefaultKeyStatistics%2CassetProfile%2CsummaryDetail&corsDomain=finance.yahoo.com&formatted=false&symbol=EQH%24C&crumb=Vn1kjkpqGe7\n",
      " 32%|███▏      | 2481/7775 [05:40<08:57,  9.85it/s]404 Client Error: Not Found for url: https://query2.finance.yahoo.com/v10/finance/quoteSummary/ET$C?modules=financialData%2CquoteType%2CdefaultKeyStatistics%2CassetProfile%2CsummaryDetail&corsDomain=finance.yahoo.com&formatted=false&symbol=ET%24C&crumb=Vn1kjkpqGe7\n",
      " 32%|███▏      | 2483/7775 [05:41<17:03,  5.17it/s]404 Client Error: Not Found for url: https://query2.finance.yahoo.com/v10/finance/quoteSummary/ET$D?modules=financialData%2CquoteType%2CdefaultKeyStatistics%2CassetProfile%2CsummaryDetail&corsDomain=finance.yahoo.com&formatted=false&symbol=ET%24D&crumb=Vn1kjkpqGe7\n",
      " 32%|███▏      | 2484/7775 [05:42<23:41,  3.72it/s]404 Client Error: Not Found for url: https://query2.finance.yahoo.com/v10/finance/quoteSummary/ET$E?modules=financialData%2CquoteType%2CdefaultKeyStatistics%2CassetProfile%2CsummaryDetail&corsDomain=finance.yahoo.com&formatted=false&symbol=ET%24E&crumb=Vn1kjkpqGe7\n",
      " 32%|███▏      | 2485/7775 [05:42<31:57,  2.76it/s]404 Client Error: Not Found for url: https://query2.finance.yahoo.com/v10/finance/quoteSummary/ET$I?modules=financialData%2CquoteType%2CdefaultKeyStatistics%2CassetProfile%2CsummaryDetail&corsDomain=finance.yahoo.com&formatted=false&symbol=ET%24I&crumb=Vn1kjkpqGe7\n",
      " 32%|███▏      | 2489/7775 [05:43<22:36,  3.90it/s]404 Client Error: Not Found for url: https://query2.finance.yahoo.com/v10/finance/quoteSummary/ETI$?modules=financialData%2CquoteType%2CdefaultKeyStatistics%2CassetProfile%2CsummaryDetail&corsDomain=finance.yahoo.com&formatted=false&symbol=ETI%24&crumb=Vn1kjkpqGe7\n",
      " 32%|███▏      | 2501/7775 [05:45<10:39,  8.24it/s]404 Client Error: Not Found for url: https://query2.finance.yahoo.com/v10/finance/quoteSummary/ETWO.W?modules=financialData%2CquoteType%2CdefaultKeyStatistics%2CassetProfile%2CsummaryDetail&corsDomain=finance.yahoo.com&formatted=false&symbol=ETWO.W&crumb=Vn1kjkpqGe7\n",
      " 32%|███▏      | 2515/7775 [05:47<09:03,  9.68it/s]404 Client Error: Not Found for url: https://query2.finance.yahoo.com/v10/finance/quoteSummary/EVE.U?modules=financialData%2CquoteType%2CdefaultKeyStatistics%2CassetProfile%2CsummaryDetail&corsDomain=finance.yahoo.com&formatted=false&symbol=EVE.U&crumb=Vn1kjkpqGe7\n",
      " 32%|███▏      | 2517/7775 [05:48<15:53,  5.52it/s]404 Client Error: Not Found for url: https://query2.finance.yahoo.com/v10/finance/quoteSummary/EVE.W?modules=financialData%2CquoteType%2CdefaultKeyStatistics%2CassetProfile%2CsummaryDetail&corsDomain=finance.yahoo.com&formatted=false&symbol=EVE.W&crumb=Vn1kjkpqGe7\n",
      " 32%|███▏      | 2520/7775 [05:49<19:19,  4.53it/s]404 Client Error: Not Found for url: https://query2.finance.yahoo.com/v10/finance/quoteSummary/EVEX.W?modules=financialData%2CquoteType%2CdefaultKeyStatistics%2CassetProfile%2CsummaryDetail&corsDomain=finance.yahoo.com&formatted=false&symbol=EVEX.W&crumb=Vn1kjkpqGe7\n",
      " 33%|███▎      | 2543/7775 [05:51<07:56, 10.97it/s]404 Client Error: Not Found for url: https://query2.finance.yahoo.com/v10/finance/quoteSummary/EVTL.W?modules=financialData%2CquoteType%2CdefaultKeyStatistics%2CassetProfile%2CsummaryDetail&corsDomain=finance.yahoo.com&formatted=false&symbol=EVTL.W&crumb=Vn1kjkpqGe7\n",
      " 33%|███▎      | 2574/7775 [05:54<08:13, 10.54it/s]404 Client Error: Not Found for url: https://query2.finance.yahoo.com/v10/finance/quoteSummary/F$B?modules=financialData%2CquoteType%2CdefaultKeyStatistics%2CassetProfile%2CsummaryDetail&corsDomain=finance.yahoo.com&formatted=false&symbol=F%24B&crumb=Vn1kjkpqGe7\n",
      "404 Client Error: Not Found for url: https://query2.finance.yahoo.com/v10/finance/quoteSummary/F$C?modules=financialData%2CquoteType%2CdefaultKeyStatistics%2CassetProfile%2CsummaryDetail&corsDomain=finance.yahoo.com&formatted=false&symbol=F%24C&crumb=Vn1kjkpqGe7\n",
      " 33%|███▎      | 2576/7775 [05:56<29:28,  2.94it/s]404 Client Error: Not Found for url: https://query2.finance.yahoo.com/v10/finance/quoteSummary/F$D?modules=financialData%2CquoteType%2CdefaultKeyStatistics%2CassetProfile%2CsummaryDetail&corsDomain=finance.yahoo.com&formatted=false&symbol=F%24D&crumb=Vn1kjkpqGe7\n",
      " 34%|███▎      | 2605/7775 [05:59<06:56, 12.40it/s]404 Client Error: Not Found for url: https://query2.finance.yahoo.com/v10/finance/quoteSummary/FBRT$E?modules=financialData%2CquoteType%2CdefaultKeyStatistics%2CassetProfile%2CsummaryDetail&corsDomain=finance.yahoo.com&formatted=false&symbol=FBRT%24E&crumb=Vn1kjkpqGe7\n",
      " 34%|███▍      | 2677/7775 [06:06<07:02, 12.06it/s]404 Client Error: Not Found for url: https://query2.finance.yahoo.com/v10/finance/quoteSummary/FHN$B?modules=financialData%2CquoteType%2CdefaultKeyStatistics%2CassetProfile%2CsummaryDetail&corsDomain=finance.yahoo.com&formatted=false&symbol=FHN%24B&crumb=Vn1kjkpqGe7\n",
      "404 Client Error: Not Found for url: https://query2.finance.yahoo.com/v10/finance/quoteSummary/FHN$C?modules=financialData%2CquoteType%2CdefaultKeyStatistics%2CassetProfile%2CsummaryDetail&corsDomain=finance.yahoo.com&formatted=false&symbol=FHN%24C&crumb=Vn1kjkpqGe7\n",
      " 34%|███▍      | 2679/7775 [06:07<20:35,  4.12it/s]404 Client Error: Not Found for url: https://query2.finance.yahoo.com/v10/finance/quoteSummary/FHN$D?modules=financialData%2CquoteType%2CdefaultKeyStatistics%2CassetProfile%2CsummaryDetail&corsDomain=finance.yahoo.com&formatted=false&symbol=FHN%24D&crumb=Vn1kjkpqGe7\n",
      " 34%|███▍      | 2680/7775 [06:08<30:42,  2.77it/s]404 Client Error: Not Found for url: https://query2.finance.yahoo.com/v10/finance/quoteSummary/FHN$E?modules=financialData%2CquoteType%2CdefaultKeyStatistics%2CassetProfile%2CsummaryDetail&corsDomain=finance.yahoo.com&formatted=false&symbol=FHN%24E&crumb=Vn1kjkpqGe7\n",
      " 34%|███▍      | 2681/7775 [06:08<35:10,  2.41it/s]404 Client Error: Not Found for url: https://query2.finance.yahoo.com/v10/finance/quoteSummary/FHN$F?modules=financialData%2CquoteType%2CdefaultKeyStatistics%2CassetProfile%2CsummaryDetail&corsDomain=finance.yahoo.com&formatted=false&symbol=FHN%24F&crumb=Vn1kjkpqGe7\n",
      " 35%|███▌      | 2724/7775 [06:13<06:34, 12.81it/s]404 Client Error: Not Found for url: https://query2.finance.yahoo.com/v10/finance/quoteSummary/FLME.U?modules=financialData%2CquoteType%2CdefaultKeyStatistics%2CassetProfile%2CsummaryDetail&corsDomain=finance.yahoo.com&formatted=false&symbol=FLME.U&crumb=Vn1kjkpqGe7\n",
      " 35%|███▌      | 2726/7775 [06:13<14:39,  5.74it/s]404 Client Error: Not Found for url: https://query2.finance.yahoo.com/v10/finance/quoteSummary/FLME.W?modules=financialData%2CquoteType%2CdefaultKeyStatistics%2CassetProfile%2CsummaryDetail&corsDomain=finance.yahoo.com&formatted=false&symbol=FLME.W&crumb=Vn1kjkpqGe7\n",
      " 35%|███▌      | 2739/7775 [06:15<08:24,  9.98it/s]404 Client Error: Not Found for url: https://query2.finance.yahoo.com/v10/finance/quoteSummary/FLYX.W?modules=financialData%2CquoteType%2CdefaultKeyStatistics%2CassetProfile%2CsummaryDetail&corsDomain=finance.yahoo.com&formatted=false&symbol=FLYX.W&crumb=Vn1kjkpqGe7\n",
      " 35%|███▌      | 2753/7775 [06:17<08:26,  9.92it/s]404 Client Error: Not Found for url: https://query2.finance.yahoo.com/v10/finance/quoteSummary/FNB$E?modules=financialData%2CquoteType%2CdefaultKeyStatistics%2CassetProfile%2CsummaryDetail&corsDomain=finance.yahoo.com&formatted=false&symbol=FNB%24E&crumb=Vn1kjkpqGe7\n",
      " 36%|███▌      | 2771/7775 [06:19<07:15, 11.49it/s]404 Client Error: Not Found for url: https://query2.finance.yahoo.com/v10/finance/quoteSummary/FOA.W?modules=financialData%2CquoteType%2CdefaultKeyStatistics%2CassetProfile%2CsummaryDetail&corsDomain=finance.yahoo.com&formatted=false&symbol=FOA.W&crumb=Vn1kjkpqGe7\n",
      " 36%|███▌      | 2805/7775 [06:22<06:22, 12.98it/s]404 Client Error: Not Found for url: https://query2.finance.yahoo.com/v10/finance/quoteSummary/FREY.W?modules=financialData%2CquoteType%2CdefaultKeyStatistics%2CassetProfile%2CsummaryDetail&corsDomain=finance.yahoo.com&formatted=false&symbol=FREY.W&crumb=Vn1kjkpqGe7\n",
      " 36%|███▋      | 2823/7775 [06:24<06:30, 12.67it/s]404 Client Error: Not Found for url: https://query2.finance.yahoo.com/v10/finance/quoteSummary/FRT$C?modules=financialData%2CquoteType%2CdefaultKeyStatistics%2CassetProfile%2CsummaryDetail&corsDomain=finance.yahoo.com&formatted=false&symbol=FRT%24C&crumb=Vn1kjkpqGe7\n",
      " 37%|███▋      | 2889/7775 [06:30<06:17, 12.94it/s]404 Client Error: Not Found for url: https://query2.finance.yahoo.com/v10/finance/quoteSummary/GAB$G?modules=financialData%2CquoteType%2CdefaultKeyStatistics%2CassetProfile%2CsummaryDetail&corsDomain=finance.yahoo.com&formatted=false&symbol=GAB%24G&crumb=Vn1kjkpqGe7\n",
      "404 Client Error: Not Found for url: https://query2.finance.yahoo.com/v10/finance/quoteSummary/GAB$H?modules=financialData%2CquoteType%2CdefaultKeyStatistics%2CassetProfile%2CsummaryDetail&corsDomain=finance.yahoo.com&formatted=false&symbol=GAB%24H&crumb=Vn1kjkpqGe7\n",
      " 37%|███▋      | 2891/7775 [06:31<20:21,  4.00it/s]404 Client Error: Not Found for url: https://query2.finance.yahoo.com/v10/finance/quoteSummary/GAB$K?modules=financialData%2CquoteType%2CdefaultKeyStatistics%2CassetProfile%2CsummaryDetail&corsDomain=finance.yahoo.com&formatted=false&symbol=GAB%24K&crumb=Vn1kjkpqGe7\n",
      " 37%|███▋      | 2900/7775 [06:33<10:31,  7.72it/s]404 Client Error: Not Found for url: https://query2.finance.yahoo.com/v10/finance/quoteSummary/GAM$B?modules=financialData%2CquoteType%2CdefaultKeyStatistics%2CassetProfile%2CsummaryDetail&corsDomain=finance.yahoo.com&formatted=false&symbol=GAM%24B&crumb=Vn1kjkpqGe7\n",
      " 37%|███▋      | 2908/7775 [06:34<10:17,  7.88it/s]404 Client Error: Not Found for url: https://query2.finance.yahoo.com/v10/finance/quoteSummary/GAQ.U?modules=financialData%2CquoteType%2CdefaultKeyStatistics%2CassetProfile%2CsummaryDetail&corsDomain=finance.yahoo.com&formatted=false&symbol=GAQ.U&crumb=Vn1kjkpqGe7\n",
      " 37%|███▋      | 2910/7775 [06:35<17:05,  4.75it/s]404 Client Error: Not Found for url: https://query2.finance.yahoo.com/v10/finance/quoteSummary/GAQ.W?modules=financialData%2CquoteType%2CdefaultKeyStatistics%2CassetProfile%2CsummaryDetail&corsDomain=finance.yahoo.com&formatted=false&symbol=GAQ.W&crumb=Vn1kjkpqGe7\n",
      " 38%|███▊      | 2919/7775 [06:36<11:39,  6.94it/s]404 Client Error: Not Found for url: https://query2.finance.yahoo.com/v10/finance/quoteSummary/GB.W?modules=financialData%2CquoteType%2CdefaultKeyStatistics%2CassetProfile%2CsummaryDetail&corsDomain=finance.yahoo.com&formatted=false&symbol=GB.W&crumb=Vn1kjkpqGe7\n",
      " 38%|███▊      | 2948/7775 [06:40<06:58, 11.54it/s]404 Client Error: Not Found for url: https://query2.finance.yahoo.com/v10/finance/quoteSummary/GDL$C?modules=financialData%2CquoteType%2CdefaultKeyStatistics%2CassetProfile%2CsummaryDetail&corsDomain=finance.yahoo.com&formatted=false&symbol=GDL%24C&crumb=Vn1kjkpqGe7\n",
      " 38%|███▊      | 2960/7775 [06:42<11:29,  6.98it/s]404 Client Error: Not Found for url: https://query2.finance.yahoo.com/v10/finance/quoteSummary/GDV$H?modules=financialData%2CquoteType%2CdefaultKeyStatistics%2CassetProfile%2CsummaryDetail&corsDomain=finance.yahoo.com&formatted=false&symbol=GDV%24H&crumb=Vn1kjkpqGe7\n",
      " 38%|███▊      | 2961/7775 [06:43<27:02,  2.97it/s]404 Client Error: Not Found for url: https://query2.finance.yahoo.com/v10/finance/quoteSummary/GDV$K?modules=financialData%2CquoteType%2CdefaultKeyStatistics%2CassetProfile%2CsummaryDetail&corsDomain=finance.yahoo.com&formatted=false&symbol=GDV%24K&crumb=Vn1kjkpqGe7\n",
      " 39%|███▊      | 2999/7775 [06:47<06:25, 12.38it/s]404 Client Error: Not Found for url: https://query2.finance.yahoo.com/v10/finance/quoteSummary/GGN$B?modules=financialData%2CquoteType%2CdefaultKeyStatistics%2CassetProfile%2CsummaryDetail&corsDomain=finance.yahoo.com&formatted=false&symbol=GGN%24B&crumb=Vn1kjkpqGe7\n",
      " 39%|███▊      | 3003/7775 [06:48<11:24,  6.97it/s]404 Client Error: Not Found for url: https://query2.finance.yahoo.com/v10/finance/quoteSummary/GGT$E?modules=financialData%2CquoteType%2CdefaultKeyStatistics%2CassetProfile%2CsummaryDetail&corsDomain=finance.yahoo.com&formatted=false&symbol=GGT%24E&crumb=Vn1kjkpqGe7\n",
      " 39%|███▊      | 3004/7775 [06:49<21:25,  3.71it/s]404 Client Error: Not Found for url: https://query2.finance.yahoo.com/v10/finance/quoteSummary/GGT$G?modules=financialData%2CquoteType%2CdefaultKeyStatistics%2CassetProfile%2CsummaryDetail&corsDomain=finance.yahoo.com&formatted=false&symbol=GGT%24G&crumb=Vn1kjkpqGe7\n",
      " 39%|███▉      | 3037/7775 [06:52<06:19, 12.48it/s]404 Client Error: Not Found for url: https://query2.finance.yahoo.com/v10/finance/quoteSummary/GL$D?modules=financialData%2CquoteType%2CdefaultKeyStatistics%2CassetProfile%2CsummaryDetail&corsDomain=finance.yahoo.com&formatted=false&symbol=GL%24D&crumb=Vn1kjkpqGe7\n",
      " 39%|███▉      | 3057/7775 [06:54<07:26, 10.56it/s]404 Client Error: Not Found for url: https://query2.finance.yahoo.com/v10/finance/quoteSummary/GLOG$A?modules=financialData%2CquoteType%2CdefaultKeyStatistics%2CassetProfile%2CsummaryDetail&corsDomain=finance.yahoo.com&formatted=false&symbol=GLOG%24A&crumb=Vn1kjkpqGe7\n",
      " 39%|███▉      | 3059/7775 [06:55<16:59,  4.63it/s]404 Client Error: Not Found for url: https://query2.finance.yahoo.com/v10/finance/quoteSummary/GLOP$A?modules=financialData%2CquoteType%2CdefaultKeyStatistics%2CassetProfile%2CsummaryDetail&corsDomain=finance.yahoo.com&formatted=false&symbol=GLOP%24A&crumb=Vn1kjkpqGe7\n",
      " 39%|███▉      | 3060/7775 [06:56<24:50,  3.16it/s]404 Client Error: Not Found for url: https://query2.finance.yahoo.com/v10/finance/quoteSummary/GLOP$B?modules=financialData%2CquoteType%2CdefaultKeyStatistics%2CassetProfile%2CsummaryDetail&corsDomain=finance.yahoo.com&formatted=false&symbol=GLOP%24B&crumb=Vn1kjkpqGe7\n",
      " 39%|███▉      | 3061/7775 [06:57<31:19,  2.51it/s]404 Client Error: Not Found for url: https://query2.finance.yahoo.com/v10/finance/quoteSummary/GLOP$C?modules=financialData%2CquoteType%2CdefaultKeyStatistics%2CassetProfile%2CsummaryDetail&corsDomain=finance.yahoo.com&formatted=false&symbol=GLOP%24C&crumb=Vn1kjkpqGe7\n",
      " 39%|███▉      | 3062/7775 [06:58<36:21,  2.16it/s]404 Client Error: Not Found for url: https://query2.finance.yahoo.com/v10/finance/quoteSummary/GLP$A?modules=financialData%2CquoteType%2CdefaultKeyStatistics%2CassetProfile%2CsummaryDetail&corsDomain=finance.yahoo.com&formatted=false&symbol=GLP%24A&crumb=Vn1kjkpqGe7\n",
      " 39%|███▉      | 3064/7775 [06:58<33:59,  2.31it/s]404 Client Error: Not Found for url: https://query2.finance.yahoo.com/v10/finance/quoteSummary/GLP$B?modules=financialData%2CquoteType%2CdefaultKeyStatistics%2CassetProfile%2CsummaryDetail&corsDomain=finance.yahoo.com&formatted=false&symbol=GLP%24B&crumb=Vn1kjkpqGe7\n",
      " 40%|███▉      | 3077/7775 [07:00<08:25,  9.29it/s]404 Client Error: Not Found for url: https://query2.finance.yahoo.com/v10/finance/quoteSummary/GLU$A?modules=financialData%2CquoteType%2CdefaultKeyStatistics%2CassetProfile%2CsummaryDetail&corsDomain=finance.yahoo.com&formatted=false&symbol=GLU%24A&crumb=Vn1kjkpqGe7\n",
      "404 Client Error: Not Found for url: https://query2.finance.yahoo.com/v10/finance/quoteSummary/GLU$B?modules=financialData%2CquoteType%2CdefaultKeyStatistics%2CassetProfile%2CsummaryDetail&corsDomain=finance.yahoo.com&formatted=false&symbol=GLU%24B&crumb=Vn1kjkpqGe7\n",
      " 40%|███▉      | 3097/7775 [07:03<06:40, 11.67it/s]404 Client Error: Not Found for url: https://query2.finance.yahoo.com/v10/finance/quoteSummary/GMRE$A?modules=financialData%2CquoteType%2CdefaultKeyStatistics%2CassetProfile%2CsummaryDetail&corsDomain=finance.yahoo.com&formatted=false&symbol=GMRE%24A&crumb=Vn1kjkpqGe7\n",
      " 40%|███▉      | 3103/7775 [07:04<10:18,  7.56it/s]404 Client Error: Not Found for url: https://query2.finance.yahoo.com/v10/finance/quoteSummary/GNL$A?modules=financialData%2CquoteType%2CdefaultKeyStatistics%2CassetProfile%2CsummaryDetail&corsDomain=finance.yahoo.com&formatted=false&symbol=GNL%24A&crumb=Vn1kjkpqGe7\n",
      " 40%|███▉      | 3105/7775 [07:05<16:21,  4.76it/s]404 Client Error: Not Found for url: https://query2.finance.yahoo.com/v10/finance/quoteSummary/GNL$B?modules=financialData%2CquoteType%2CdefaultKeyStatistics%2CassetProfile%2CsummaryDetail&corsDomain=finance.yahoo.com&formatted=false&symbol=GNL%24B&crumb=Vn1kjkpqGe7\n",
      " 40%|███▉      | 3106/7775 [07:06<26:25,  2.95it/s]404 Client Error: Not Found for url: https://query2.finance.yahoo.com/v10/finance/quoteSummary/GNL$D?modules=financialData%2CquoteType%2CdefaultKeyStatistics%2CassetProfile%2CsummaryDetail&corsDomain=finance.yahoo.com&formatted=false&symbol=GNL%24D&crumb=Vn1kjkpqGe7\n",
      " 40%|███▉      | 3107/7775 [07:07<36:34,  2.13it/s]404 Client Error: Not Found for url: https://query2.finance.yahoo.com/v10/finance/quoteSummary/GNL$E?modules=financialData%2CquoteType%2CdefaultKeyStatistics%2CassetProfile%2CsummaryDetail&corsDomain=finance.yahoo.com&formatted=false&symbol=GNL%24E&crumb=Vn1kjkpqGe7\n",
      " 40%|████      | 3114/7775 [07:08<15:29,  5.02it/s]404 Client Error: Not Found for url: https://query2.finance.yahoo.com/v10/finance/quoteSummary/GNT$A?modules=financialData%2CquoteType%2CdefaultKeyStatistics%2CassetProfile%2CsummaryDetail&corsDomain=finance.yahoo.com&formatted=false&symbol=GNT%24A&crumb=Vn1kjkpqGe7\n",
      " 41%|████      | 3155/7775 [07:12<05:59, 12.86it/s]404 Client Error: Not Found for url: https://query2.finance.yahoo.com/v10/finance/quoteSummary/GPMT$A?modules=financialData%2CquoteType%2CdefaultKeyStatistics%2CassetProfile%2CsummaryDetail&corsDomain=finance.yahoo.com&formatted=false&symbol=GPMT%24A&crumb=Vn1kjkpqGe7\n",
      " 41%|████      | 3165/7775 [07:14<07:36, 10.10it/s]404 Client Error: Not Found for url: https://query2.finance.yahoo.com/v10/finance/quoteSummary/GRBK$A?modules=financialData%2CquoteType%2CdefaultKeyStatistics%2CassetProfile%2CsummaryDetail&corsDomain=finance.yahoo.com&formatted=false&symbol=GRBK%24A&crumb=Vn1kjkpqGe7\n",
      " 41%|████      | 3179/7775 [07:15<07:28, 10.25it/s]404 Client Error: Not Found for url: https://query2.finance.yahoo.com/v10/finance/quoteSummary/GRND.W?modules=financialData%2CquoteType%2CdefaultKeyStatistics%2CassetProfile%2CsummaryDetail&corsDomain=finance.yahoo.com&formatted=false&symbol=GRND.W&crumb=Vn1kjkpqGe7\n",
      " 41%|████      | 3187/7775 [07:17<08:46,  8.71it/s]404 Client Error: Not Found for url: https://query2.finance.yahoo.com/v10/finance/quoteSummary/GROY.W?modules=financialData%2CquoteType%2CdefaultKeyStatistics%2CassetProfile%2CsummaryDetail&corsDomain=finance.yahoo.com&formatted=false&symbol=GROY.W&crumb=Vn1kjkpqGe7\n",
      " 41%|████      | 3199/7775 [07:18<07:13, 10.55it/s]404 Client Error: Not Found for url: https://query2.finance.yahoo.com/v10/finance/quoteSummary/GS$A?modules=financialData%2CquoteType%2CdefaultKeyStatistics%2CassetProfile%2CsummaryDetail&corsDomain=finance.yahoo.com&formatted=false&symbol=GS%24A&crumb=Vn1kjkpqGe7\n",
      "404 Client Error: Not Found for url: https://query2.finance.yahoo.com/v10/finance/quoteSummary/GS$C?modules=financialData%2CquoteType%2CdefaultKeyStatistics%2CassetProfile%2CsummaryDetail&corsDomain=finance.yahoo.com&formatted=false&symbol=GS%24C&crumb=Vn1kjkpqGe7\n",
      " 41%|████      | 3201/7775 [07:19<20:09,  3.78it/s]404 Client Error: Not Found for url: https://query2.finance.yahoo.com/v10/finance/quoteSummary/GS$D?modules=financialData%2CquoteType%2CdefaultKeyStatistics%2CassetProfile%2CsummaryDetail&corsDomain=finance.yahoo.com&formatted=false&symbol=GS%24D&crumb=Vn1kjkpqGe7\n",
      " 41%|████      | 3202/7775 [07:20<25:42,  2.97it/s]404 Client Error: Not Found for url: https://query2.finance.yahoo.com/v10/finance/quoteSummary/GS$K?modules=financialData%2CquoteType%2CdefaultKeyStatistics%2CassetProfile%2CsummaryDetail&corsDomain=finance.yahoo.com&formatted=false&symbol=GS%24K&crumb=Vn1kjkpqGe7\n",
      " 41%|████▏     | 3213/7775 [07:22<09:01,  8.42it/s]404 Client Error: Not Found for url: https://query2.finance.yahoo.com/v10/finance/quoteSummary/GSL$B?modules=financialData%2CquoteType%2CdefaultKeyStatistics%2CassetProfile%2CsummaryDetail&corsDomain=finance.yahoo.com&formatted=false&symbol=GSL%24B&crumb=Vn1kjkpqGe7\n",
      " 42%|████▏     | 3231/7775 [07:23<06:10, 12.27it/s]404 Client Error: Not Found for url: https://query2.finance.yahoo.com/v10/finance/quoteSummary/GTLS$B?modules=financialData%2CquoteType%2CdefaultKeyStatistics%2CassetProfile%2CsummaryDetail&corsDomain=finance.yahoo.com&formatted=false&symbol=GTLS%24B&crumb=Vn1kjkpqGe7\n",
      " 42%|████▏     | 3233/7775 [07:24<12:12,  6.20it/s]404 Client Error: Not Found for url: https://query2.finance.yahoo.com/v10/finance/quoteSummary/GTN.A?modules=financialData%2CquoteType%2CdefaultKeyStatistics%2CassetProfile%2CsummaryDetail&corsDomain=finance.yahoo.com&formatted=false&symbol=GTN.A&crumb=Vn1kjkpqGe7\n",
      " 42%|████▏     | 3238/7775 [07:25<13:13,  5.72it/s]404 Client Error: Not Found for url: https://query2.finance.yahoo.com/v10/finance/quoteSummary/GUT$C?modules=financialData%2CquoteType%2CdefaultKeyStatistics%2CassetProfile%2CsummaryDetail&corsDomain=finance.yahoo.com&formatted=false&symbol=GUT%24C&crumb=Vn1kjkpqGe7\n",
      " 42%|████▏     | 3246/7775 [07:26<09:41,  7.79it/s]404 Client Error: Not Found for url: https://query2.finance.yahoo.com/v10/finance/quoteSummary/GWH.W?modules=financialData%2CquoteType%2CdefaultKeyStatistics%2CassetProfile%2CsummaryDetail&corsDomain=finance.yahoo.com&formatted=false&symbol=GWH.W&crumb=Vn1kjkpqGe7\n",
      " 43%|████▎     | 3314/7775 [07:32<05:50, 12.74it/s]404 Client Error: Not Found for url: https://query2.finance.yahoo.com/v10/finance/quoteSummary/HFRO$A?modules=financialData%2CquoteType%2CdefaultKeyStatistics%2CassetProfile%2CsummaryDetail&corsDomain=finance.yahoo.com&formatted=false&symbol=HFRO%24A&crumb=Vn1kjkpqGe7\n",
      " 43%|████▎     | 3322/7775 [07:34<08:39,  8.57it/s]404 Client Error: Not Found for url: https://query2.finance.yahoo.com/v10/finance/quoteSummary/HGTY.W?modules=financialData%2CquoteType%2CdefaultKeyStatistics%2CassetProfile%2CsummaryDetail&corsDomain=finance.yahoo.com&formatted=false&symbol=HGTY.W&crumb=Vn1kjkpqGe7\n",
      " 43%|████▎     | 3330/7775 [07:35<08:43,  8.49it/s]404 Client Error: Not Found for url: https://query2.finance.yahoo.com/v10/finance/quoteSummary/HHLA.U?modules=financialData%2CquoteType%2CdefaultKeyStatistics%2CassetProfile%2CsummaryDetail&corsDomain=finance.yahoo.com&formatted=false&symbol=HHLA.U&crumb=Vn1kjkpqGe7\n",
      "404 Client Error: Not Found for url: https://query2.finance.yahoo.com/v10/finance/quoteSummary/HHLA.W?modules=financialData%2CquoteType%2CdefaultKeyStatistics%2CassetProfile%2CsummaryDetail&corsDomain=finance.yahoo.com&formatted=false&symbol=HHLA.W&crumb=Vn1kjkpqGe7\n",
      " 43%|████▎     | 3338/7775 [07:37<11:25,  6.47it/s]404 Client Error: Not Found for url: https://query2.finance.yahoo.com/v10/finance/quoteSummary/HIG$G?modules=financialData%2CquoteType%2CdefaultKeyStatistics%2CassetProfile%2CsummaryDetail&corsDomain=finance.yahoo.com&formatted=false&symbol=HIG%24G&crumb=Vn1kjkpqGe7\n",
      " 43%|████▎     | 3344/7775 [07:38<11:33,  6.39it/s]404 Client Error: Not Found for url: https://query2.finance.yahoo.com/v10/finance/quoteSummary/HIPO.W?modules=financialData%2CquoteType%2CdefaultKeyStatistics%2CassetProfile%2CsummaryDetail&corsDomain=finance.yahoo.com&formatted=false&symbol=HIPO.W&crumb=Vn1kjkpqGe7\n",
      " 43%|████▎     | 3352/7775 [07:39<09:25,  7.82it/s]404 Client Error: Not Found for url: https://query2.finance.yahoo.com/v10/finance/quoteSummary/HL$B?modules=financialData%2CquoteType%2CdefaultKeyStatistics%2CassetProfile%2CsummaryDetail&corsDomain=finance.yahoo.com&formatted=false&symbol=HL%24B&crumb=Vn1kjkpqGe7\n",
      " 43%|████▎     | 3358/7775 [07:41<11:31,  6.39it/s]404 Client Error: Not Found for url: https://query2.finance.yahoo.com/v10/finance/quoteSummary/HLLY.W?modules=financialData%2CquoteType%2CdefaultKeyStatistics%2CassetProfile%2CsummaryDetail&corsDomain=finance.yahoo.com&formatted=false&symbol=HLLY.W&crumb=Vn1kjkpqGe7\n",
      " 43%|████▎     | 3376/7775 [07:42<06:08, 11.93it/s]404 Client Error: Not Found for url: https://query2.finance.yahoo.com/v10/finance/quoteSummary/HNRA.W?modules=financialData%2CquoteType%2CdefaultKeyStatistics%2CassetProfile%2CsummaryDetail&corsDomain=finance.yahoo.com&formatted=false&symbol=HNRA.W&crumb=Vn1kjkpqGe7\n",
      " 44%|████▍     | 3412/7775 [07:46<05:29, 13.25it/s]404 Client Error: Not Found for url: https://query2.finance.yahoo.com/v10/finance/quoteSummary/HPP$C?modules=financialData%2CquoteType%2CdefaultKeyStatistics%2CassetProfile%2CsummaryDetail&corsDomain=finance.yahoo.com&formatted=false&symbol=HPP%24C&crumb=Vn1kjkpqGe7\n",
      " 45%|████▍     | 3488/7775 [07:54<05:45, 12.40it/s]404 Client Error: Not Found for url: https://query2.finance.yahoo.com/v10/finance/quoteSummary/HVT.A?modules=financialData%2CquoteType%2CdefaultKeyStatistics%2CassetProfile%2CsummaryDetail&corsDomain=finance.yahoo.com&formatted=false&symbol=HVT.A&crumb=Vn1kjkpqGe7\n",
      " 45%|████▍     | 3496/7775 [07:55<07:20,  9.72it/s]404 Client Error: Not Found for url: https://query2.finance.yahoo.com/v10/finance/quoteSummary/HWM$?modules=financialData%2CquoteType%2CdefaultKeyStatistics%2CassetProfile%2CsummaryDetail&corsDomain=finance.yahoo.com&formatted=false&symbol=HWM%24&crumb=Vn1kjkpqGe7\n",
      " 45%|████▌     | 3500/7775 [07:56<10:36,  6.72it/s]404 Client Error: Not Found for url: https://query2.finance.yahoo.com/v10/finance/quoteSummary/HYAC.U?modules=financialData%2CquoteType%2CdefaultKeyStatistics%2CassetProfile%2CsummaryDetail&corsDomain=finance.yahoo.com&formatted=false&symbol=HYAC.U&crumb=Vn1kjkpqGe7\n",
      "404 Client Error: Not Found for url: https://query2.finance.yahoo.com/v10/finance/quoteSummary/HYAC.W?modules=financialData%2CquoteType%2CdefaultKeyStatistics%2CassetProfile%2CsummaryDetail&corsDomain=finance.yahoo.com&formatted=false&symbol=HYAC.W&crumb=Vn1kjkpqGe7\n",
      " 46%|████▌     | 3548/7775 [08:01<05:27, 12.91it/s]404 Client Error: Not Found for url: https://query2.finance.yahoo.com/v10/finance/quoteSummary/ICR$A?modules=financialData%2CquoteType%2CdefaultKeyStatistics%2CassetProfile%2CsummaryDetail&corsDomain=finance.yahoo.com&formatted=false&symbol=ICR%24A&crumb=Vn1kjkpqGe7\n",
      " 46%|████▌     | 3570/7775 [08:03<05:49, 12.05it/s]404 Client Error: Not Found for url: https://query2.finance.yahoo.com/v10/finance/quoteSummary/IFIN.U?modules=financialData%2CquoteType%2CdefaultKeyStatistics%2CassetProfile%2CsummaryDetail&corsDomain=finance.yahoo.com&formatted=false&symbol=IFIN.U&crumb=Vn1kjkpqGe7\n",
      " 46%|████▌     | 3586/7775 [08:05<06:15, 11.15it/s]404 Client Error: Not Found for url: https://query2.finance.yahoo.com/v10/finance/quoteSummary/IGZ?modules=financialData%2CquoteType%2CdefaultKeyStatistics%2CassetProfile%2CsummaryDetail&corsDomain=finance.yahoo.com&formatted=false&symbol=IGZ&crumb=Vn1kjkpqGe7\n",
      " 46%|████▋     | 3602/7775 [08:07<05:42, 12.19it/s]404 Client Error: Not Found for url: https://query2.finance.yahoo.com/v10/finance/quoteSummary/IIPR$A?modules=financialData%2CquoteType%2CdefaultKeyStatistics%2CassetProfile%2CsummaryDetail&corsDomain=finance.yahoo.com&formatted=false&symbol=IIPR%24A&crumb=Vn1kjkpqGe7\n",
      " 47%|████▋     | 3664/7775 [08:13<06:00, 11.40it/s]404 Client Error: Not Found for url: https://query2.finance.yahoo.com/v10/finance/quoteSummary/INN$E?modules=financialData%2CquoteType%2CdefaultKeyStatistics%2CassetProfile%2CsummaryDetail&corsDomain=finance.yahoo.com&formatted=false&symbol=INN%24E&crumb=Vn1kjkpqGe7\n",
      " 47%|████▋     | 3666/7775 [08:13<12:08,  5.64it/s]404 Client Error: Not Found for url: https://query2.finance.yahoo.com/v10/finance/quoteSummary/INN$F?modules=financialData%2CquoteType%2CdefaultKeyStatistics%2CassetProfile%2CsummaryDetail&corsDomain=finance.yahoo.com&formatted=false&symbol=INN%24F&crumb=Vn1kjkpqGe7\n",
      " 48%|████▊     | 3700/7775 [08:17<06:19, 10.74it/s]404 Client Error: Not Found for url: https://query2.finance.yahoo.com/v10/finance/quoteSummary/IONQ.W?modules=financialData%2CquoteType%2CdefaultKeyStatistics%2CassetProfile%2CsummaryDetail&corsDomain=finance.yahoo.com&formatted=false&symbol=IONQ.W&crumb=Vn1kjkpqGe7\n",
      " 48%|████▊     | 3739/7775 [08:22<07:39,  8.79it/s]404 Client Error: Not Found for url: https://query2.finance.yahoo.com/v10/finance/quoteSummary/IRRX.U?modules=financialData%2CquoteType%2CdefaultKeyStatistics%2CassetProfile%2CsummaryDetail&corsDomain=finance.yahoo.com&formatted=false&symbol=IRRX.U&crumb=Vn1kjkpqGe7\n",
      " 48%|████▊     | 3740/7775 [08:23<16:53,  3.98it/s]404 Client Error: Not Found for url: https://query2.finance.yahoo.com/v10/finance/quoteSummary/IRRX.W?modules=financialData%2CquoteType%2CdefaultKeyStatistics%2CassetProfile%2CsummaryDetail&corsDomain=finance.yahoo.com&formatted=false&symbol=IRRX.W&crumb=Vn1kjkpqGe7\n",
      " 48%|████▊     | 3741/7775 [08:23<24:26,  2.75it/s]404 Client Error: Not Found for url: https://query2.finance.yahoo.com/v10/finance/quoteSummary/IRS.W?modules=financialData%2CquoteType%2CdefaultKeyStatistics%2CassetProfile%2CsummaryDetail&corsDomain=finance.yahoo.com&formatted=false&symbol=IRS.W&crumb=Vn1kjkpqGe7\n",
      " 49%|████▊     | 3788/7775 [08:29<06:51,  9.69it/s]404 Client Error: Not Found for url: https://query2.finance.yahoo.com/v10/finance/quoteSummary/IVR$B?modules=financialData%2CquoteType%2CdefaultKeyStatistics%2CassetProfile%2CsummaryDetail&corsDomain=finance.yahoo.com&formatted=false&symbol=IVR%24B&crumb=Vn1kjkpqGe7\n",
      " 49%|████▊     | 3789/7775 [08:30<16:35,  4.00it/s]404 Client Error: Not Found for url: https://query2.finance.yahoo.com/v10/finance/quoteSummary/IVR$C?modules=financialData%2CquoteType%2CdefaultKeyStatistics%2CassetProfile%2CsummaryDetail&corsDomain=finance.yahoo.com&formatted=false&symbol=IVR%24C&crumb=Vn1kjkpqGe7\n",
      " 50%|████▉     | 3851/7775 [08:36<06:05, 10.75it/s]404 Client Error: Not Found for url: https://query2.finance.yahoo.com/v10/finance/quoteSummary/JOBY.W?modules=financialData%2CquoteType%2CdefaultKeyStatistics%2CassetProfile%2CsummaryDetail&corsDomain=finance.yahoo.com&formatted=false&symbol=JOBY.W&crumb=Vn1kjkpqGe7\n",
      " 50%|████▉     | 3858/7775 [08:38<10:05,  6.47it/s]404 Client Error: Not Found for url: https://query2.finance.yahoo.com/v10/finance/quoteSummary/JPM$C?modules=financialData%2CquoteType%2CdefaultKeyStatistics%2CassetProfile%2CsummaryDetail&corsDomain=finance.yahoo.com&formatted=false&symbol=JPM%24C&crumb=Vn1kjkpqGe7\n",
      " 50%|████▉     | 3859/7775 [08:39<17:38,  3.70it/s]404 Client Error: Not Found for url: https://query2.finance.yahoo.com/v10/finance/quoteSummary/JPM$D?modules=financialData%2CquoteType%2CdefaultKeyStatistics%2CassetProfile%2CsummaryDetail&corsDomain=finance.yahoo.com&formatted=false&symbol=JPM%24D&crumb=Vn1kjkpqGe7\n",
      " 50%|████▉     | 3860/7775 [08:39<23:55,  2.73it/s]404 Client Error: Not Found for url: https://query2.finance.yahoo.com/v10/finance/quoteSummary/JPM$J?modules=financialData%2CquoteType%2CdefaultKeyStatistics%2CassetProfile%2CsummaryDetail&corsDomain=finance.yahoo.com&formatted=false&symbol=JPM%24J&crumb=Vn1kjkpqGe7\n",
      " 50%|████▉     | 3861/7775 [08:40<30:02,  2.17it/s]404 Client Error: Not Found for url: https://query2.finance.yahoo.com/v10/finance/quoteSummary/JPM$K?modules=financialData%2CquoteType%2CdefaultKeyStatistics%2CassetProfile%2CsummaryDetail&corsDomain=finance.yahoo.com&formatted=false&symbol=JPM%24K&crumb=Vn1kjkpqGe7\n",
      " 50%|████▉     | 3862/7775 [08:41<34:26,  1.89it/s]404 Client Error: Not Found for url: https://query2.finance.yahoo.com/v10/finance/quoteSummary/JPM$L?modules=financialData%2CquoteType%2CdefaultKeyStatistics%2CassetProfile%2CsummaryDetail&corsDomain=finance.yahoo.com&formatted=false&symbol=JPM%24L&crumb=Vn1kjkpqGe7\n",
      " 50%|████▉     | 3863/7775 [08:41<37:23,  1.74it/s]404 Client Error: Not Found for url: https://query2.finance.yahoo.com/v10/finance/quoteSummary/JPM$M?modules=financialData%2CquoteType%2CdefaultKeyStatistics%2CassetProfile%2CsummaryDetail&corsDomain=finance.yahoo.com&formatted=false&symbol=JPM%24M&crumb=Vn1kjkpqGe7\n",
      " 50%|████▉     | 3880/7775 [08:44<07:29,  8.67it/s]404 Client Error: Not Found for url: https://query2.finance.yahoo.com/v10/finance/quoteSummary/JWSM.U?modules=financialData%2CquoteType%2CdefaultKeyStatistics%2CassetProfile%2CsummaryDetail&corsDomain=finance.yahoo.com&formatted=false&symbol=JWSM.U&crumb=Vn1kjkpqGe7\n",
      " 50%|████▉     | 3882/7775 [08:45<16:20,  3.97it/s]404 Client Error: Not Found for url: https://query2.finance.yahoo.com/v10/finance/quoteSummary/JWSM.W?modules=financialData%2CquoteType%2CdefaultKeyStatistics%2CassetProfile%2CsummaryDetail&corsDomain=finance.yahoo.com&formatted=false&symbol=JWSM.W&crumb=Vn1kjkpqGe7\n",
      " 50%|████▉     | 3885/7775 [08:45<15:46,  4.11it/s]404 Client Error: Not Found for url: https://query2.finance.yahoo.com/v10/finance/quoteSummary/JXN$A?modules=financialData%2CquoteType%2CdefaultKeyStatistics%2CassetProfile%2CsummaryDetail&corsDomain=finance.yahoo.com&formatted=false&symbol=JXN%24A&crumb=Vn1kjkpqGe7\n",
      " 50%|█████     | 3909/7775 [08:49<06:02, 10.67it/s]404 Client Error: Not Found for url: https://query2.finance.yahoo.com/v10/finance/quoteSummary/KCGI.U?modules=financialData%2CquoteType%2CdefaultKeyStatistics%2CassetProfile%2CsummaryDetail&corsDomain=finance.yahoo.com&formatted=false&symbol=KCGI.U&crumb=Vn1kjkpqGe7\n",
      "404 Client Error: Not Found for url: https://query2.finance.yahoo.com/v10/finance/quoteSummary/KCGI.W?modules=financialData%2CquoteType%2CdefaultKeyStatistics%2CassetProfile%2CsummaryDetail&corsDomain=finance.yahoo.com&formatted=false&symbol=KCGI.W&crumb=Vn1kjkpqGe7\n",
      " 50%|█████     | 3923/7775 [08:51<07:19,  8.76it/s]404 Client Error: Not Found for url: https://query2.finance.yahoo.com/v10/finance/quoteSummary/KEY$I?modules=financialData%2CquoteType%2CdefaultKeyStatistics%2CassetProfile%2CsummaryDetail&corsDomain=finance.yahoo.com&formatted=false&symbol=KEY%24I&crumb=Vn1kjkpqGe7\n",
      "404 Client Error: Not Found for url: https://query2.finance.yahoo.com/v10/finance/quoteSummary/KEY$J?modules=financialData%2CquoteType%2CdefaultKeyStatistics%2CassetProfile%2CsummaryDetail&corsDomain=finance.yahoo.com&formatted=false&symbol=KEY%24J&crumb=Vn1kjkpqGe7\n",
      " 50%|█████     | 3925/7775 [08:53<19:23,  3.31it/s]404 Client Error: Not Found for url: https://query2.finance.yahoo.com/v10/finance/quoteSummary/KEY$K?modules=financialData%2CquoteType%2CdefaultKeyStatistics%2CassetProfile%2CsummaryDetail&corsDomain=finance.yahoo.com&formatted=false&symbol=KEY%24K&crumb=Vn1kjkpqGe7\n",
      " 50%|█████     | 3926/7775 [08:53<26:03,  2.46it/s]404 Client Error: Not Found for url: https://query2.finance.yahoo.com/v10/finance/quoteSummary/KEY$L?modules=financialData%2CquoteType%2CdefaultKeyStatistics%2CassetProfile%2CsummaryDetail&corsDomain=finance.yahoo.com&formatted=false&symbol=KEY%24L&crumb=Vn1kjkpqGe7\n",
      " 51%|█████     | 3938/7775 [08:55<07:52,  8.11it/s]404 Client Error: Not Found for url: https://query2.finance.yahoo.com/v10/finance/quoteSummary/KIM$L?modules=financialData%2CquoteType%2CdefaultKeyStatistics%2CassetProfile%2CsummaryDetail&corsDomain=finance.yahoo.com&formatted=false&symbol=KIM%24L&crumb=Vn1kjkpqGe7\n",
      " 51%|█████     | 3940/7775 [08:56<15:14,  4.20it/s]404 Client Error: Not Found for url: https://query2.finance.yahoo.com/v10/finance/quoteSummary/KIM$M?modules=financialData%2CquoteType%2CdefaultKeyStatistics%2CassetProfile%2CsummaryDetail&corsDomain=finance.yahoo.com&formatted=false&symbol=KIM%24M&crumb=Vn1kjkpqGe7\n",
      " 51%|█████     | 3941/7775 [08:57<21:05,  3.03it/s]404 Client Error: Not Found for url: https://query2.finance.yahoo.com/v10/finance/quoteSummary/KIM$N?modules=financialData%2CquoteType%2CdefaultKeyStatistics%2CassetProfile%2CsummaryDetail&corsDomain=finance.yahoo.com&formatted=false&symbol=KIM%24N&crumb=Vn1kjkpqGe7\n",
      " 51%|█████▏    | 3988/7775 [09:03<06:05, 10.37it/s]404 Client Error: Not Found for url: https://query2.finance.yahoo.com/v10/finance/quoteSummary/KREF$A?modules=financialData%2CquoteType%2CdefaultKeyStatistics%2CassetProfile%2CsummaryDetail&corsDomain=finance.yahoo.com&formatted=false&symbol=KREF%24A&crumb=Vn1kjkpqGe7\n",
      " 52%|█████▏    | 4058/7775 [09:11<06:07, 10.11it/s]404 Client Error: Not Found for url: https://query2.finance.yahoo.com/v10/finance/quoteSummary/LANV.W?modules=financialData%2CquoteType%2CdefaultKeyStatistics%2CassetProfile%2CsummaryDetail&corsDomain=finance.yahoo.com&formatted=false&symbol=LANV.W&crumb=Vn1kjkpqGe7\n",
      " 53%|█████▎    | 4098/7775 [09:15<05:43, 10.71it/s]404 Client Error: Not Found for url: https://query2.finance.yahoo.com/v10/finance/quoteSummary/LCW.U?modules=financialData%2CquoteType%2CdefaultKeyStatistics%2CassetProfile%2CsummaryDetail&corsDomain=finance.yahoo.com&formatted=false&symbol=LCW.U&crumb=Vn1kjkpqGe7\n",
      "404 Client Error: Not Found for url: https://query2.finance.yahoo.com/v10/finance/quoteSummary/LCW.W?modules=financialData%2CquoteType%2CdefaultKeyStatistics%2CassetProfile%2CsummaryDetail&corsDomain=finance.yahoo.com&formatted=false&symbol=LCW.W&crumb=Vn1kjkpqGe7\n",
      " 53%|█████▎    | 4121/7775 [09:19<06:02, 10.07it/s]404 Client Error: Not Found for url: https://query2.finance.yahoo.com/v10/finance/quoteSummary/LEV.A?modules=financialData%2CquoteType%2CdefaultKeyStatistics%2CassetProfile%2CsummaryDetail&corsDomain=finance.yahoo.com&formatted=false&symbol=LEV.A&crumb=Vn1kjkpqGe7\n",
      "404 Client Error: Not Found for url: https://query2.finance.yahoo.com/v10/finance/quoteSummary/LEV.W?modules=financialData%2CquoteType%2CdefaultKeyStatistics%2CassetProfile%2CsummaryDetail&corsDomain=finance.yahoo.com&formatted=false&symbol=LEV.W&crumb=Vn1kjkpqGe7\n",
      " 53%|█████▎    | 4133/7775 [09:23<08:32,  7.11it/s]404 Client Error: Not Found for url: https://query2.finance.yahoo.com/v10/finance/quoteSummary/LFT$A?modules=financialData%2CquoteType%2CdefaultKeyStatistics%2CassetProfile%2CsummaryDetail&corsDomain=finance.yahoo.com&formatted=false&symbol=LFT%24A&crumb=Vn1kjkpqGe7\n",
      " 53%|█████▎    | 4143/7775 [09:24<06:57,  8.69it/s]404 Client Error: Not Found for url: https://query2.finance.yahoo.com/v10/finance/quoteSummary/LGL.W?modules=financialData%2CquoteType%2CdefaultKeyStatistics%2CassetProfile%2CsummaryDetail&corsDomain=finance.yahoo.com&formatted=false&symbol=LGL.W&crumb=Vn1kjkpqGe7\n",
      " 54%|█████▍    | 4193/7775 [09:30<05:52, 10.16it/s]404 Client Error: Not Found for url: https://query2.finance.yahoo.com/v10/finance/quoteSummary/LLAP.W?modules=financialData%2CquoteType%2CdefaultKeyStatistics%2CassetProfile%2CsummaryDetail&corsDomain=finance.yahoo.com&formatted=false&symbol=LLAP.W&crumb=Vn1kjkpqGe7\n",
      " 54%|█████▍    | 4202/7775 [09:31<06:56,  8.58it/s]404 Client Error: Not Found for url: https://query2.finance.yahoo.com/v10/finance/quoteSummary/LMND.W?modules=financialData%2CquoteType%2CdefaultKeyStatistics%2CassetProfile%2CsummaryDetail&corsDomain=finance.yahoo.com&formatted=false&symbol=LMND.W&crumb=Vn1kjkpqGe7\n",
      " 54%|█████▍    | 4206/7775 [09:32<11:14,  5.29it/s]404 Client Error: Not Found for url: https://query2.finance.yahoo.com/v10/finance/quoteSummary/LNC$D?modules=financialData%2CquoteType%2CdefaultKeyStatistics%2CassetProfile%2CsummaryDetail&corsDomain=finance.yahoo.com&formatted=false&symbol=LNC%24D&crumb=Vn1kjkpqGe7\n",
      " 55%|█████▌    | 4287/7775 [09:40<04:53, 11.88it/s]404 Client Error: Not Found for url: https://query2.finance.yahoo.com/v10/finance/quoteSummary/LVWR.W?modules=financialData%2CquoteType%2CdefaultKeyStatistics%2CassetProfile%2CsummaryDetail&corsDomain=finance.yahoo.com&formatted=false&symbol=LVWR.W&crumb=Vn1kjkpqGe7\n",
      " 55%|█████▌    | 4296/7775 [09:42<06:19,  9.17it/s]404 Client Error: Not Found for url: https://query2.finance.yahoo.com/v10/finance/quoteSummary/LXP$C?modules=financialData%2CquoteType%2CdefaultKeyStatistics%2CassetProfile%2CsummaryDetail&corsDomain=finance.yahoo.com&formatted=false&symbol=LXP%24C&crumb=Vn1kjkpqGe7\n",
      " 55%|█████▌    | 4310/7775 [09:43<05:25, 10.66it/s]404 Client Error: Not Found for url: https://query2.finance.yahoo.com/v10/finance/quoteSummary/LZM.W?modules=financialData%2CquoteType%2CdefaultKeyStatistics%2CassetProfile%2CsummaryDetail&corsDomain=finance.yahoo.com&formatted=false&symbol=LZM.W&crumb=Vn1kjkpqGe7\n",
      " 55%|█████▌    | 4314/7775 [09:44<08:06,  7.11it/s]404 Client Error: Not Found for url: https://query2.finance.yahoo.com/v10/finance/quoteSummary/MAA$I?modules=financialData%2CquoteType%2CdefaultKeyStatistics%2CassetProfile%2CsummaryDetail&corsDomain=finance.yahoo.com&formatted=false&symbol=MAA%24I&crumb=Vn1kjkpqGe7\n",
      " 57%|█████▋    | 4418/7775 [09:53<05:04, 11.02it/s]404 Client Error: Not Found for url: https://query2.finance.yahoo.com/v10/finance/quoteSummary/MDV$A?modules=financialData%2CquoteType%2CdefaultKeyStatistics%2CassetProfile%2CsummaryDetail&corsDomain=finance.yahoo.com&formatted=false&symbol=MDV%24A&crumb=Vn1kjkpqGe7\n",
      " 57%|█████▋    | 4436/7775 [09:55<04:41, 11.85it/s]404 Client Error: Not Found for url: https://query2.finance.yahoo.com/v10/finance/quoteSummary/MER$K?modules=financialData%2CquoteType%2CdefaultKeyStatistics%2CassetProfile%2CsummaryDetail&corsDomain=finance.yahoo.com&formatted=false&symbol=MER%24K&crumb=Vn1kjkpqGe7\n",
      " 57%|█████▋    | 4440/7775 [09:56<07:50,  7.08it/s]404 Client Error: Not Found for url: https://query2.finance.yahoo.com/v10/finance/quoteSummary/MET$A?modules=financialData%2CquoteType%2CdefaultKeyStatistics%2CassetProfile%2CsummaryDetail&corsDomain=finance.yahoo.com&formatted=false&symbol=MET%24A&crumb=Vn1kjkpqGe7\n",
      " 57%|█████▋    | 4442/7775 [09:57<11:50,  4.69it/s]404 Client Error: Not Found for url: https://query2.finance.yahoo.com/v10/finance/quoteSummary/MET$E?modules=financialData%2CquoteType%2CdefaultKeyStatistics%2CassetProfile%2CsummaryDetail&corsDomain=finance.yahoo.com&formatted=false&symbol=MET%24E&crumb=Vn1kjkpqGe7\n",
      " 57%|█████▋    | 4443/7775 [09:58<15:42,  3.54it/s]404 Client Error: Not Found for url: https://query2.finance.yahoo.com/v10/finance/quoteSummary/MET$F?modules=financialData%2CquoteType%2CdefaultKeyStatistics%2CassetProfile%2CsummaryDetail&corsDomain=finance.yahoo.com&formatted=false&symbol=MET%24F&crumb=Vn1kjkpqGe7\n",
      " 57%|█████▋    | 4448/7775 [09:59<11:01,  5.03it/s]404 Client Error: Not Found for url: https://query2.finance.yahoo.com/v10/finance/quoteSummary/MFA$B?modules=financialData%2CquoteType%2CdefaultKeyStatistics%2CassetProfile%2CsummaryDetail&corsDomain=finance.yahoo.com&formatted=false&symbol=MFA%24B&crumb=Vn1kjkpqGe7\n",
      " 57%|█████▋    | 4450/7775 [09:59<13:46,  4.02it/s]404 Client Error: Not Found for url: https://query2.finance.yahoo.com/v10/finance/quoteSummary/MFA$C?modules=financialData%2CquoteType%2CdefaultKeyStatistics%2CassetProfile%2CsummaryDetail&corsDomain=finance.yahoo.com&formatted=false&symbol=MFA%24C&crumb=Vn1kjkpqGe7\n",
      " 58%|█████▊    | 4503/7775 [10:04<04:18, 12.64it/s]404 Client Error: Not Found for url: https://query2.finance.yahoo.com/v10/finance/quoteSummary/MIR.W?modules=financialData%2CquoteType%2CdefaultKeyStatistics%2CassetProfile%2CsummaryDetail&corsDomain=finance.yahoo.com&formatted=false&symbol=MIR.W&crumb=Vn1kjkpqGe7\n",
      " 58%|█████▊    | 4514/7775 [10:06<07:43,  7.04it/s]404 Client Error: Not Found for url: https://query2.finance.yahoo.com/v10/finance/quoteSummary/MITT$A?modules=financialData%2CquoteType%2CdefaultKeyStatistics%2CassetProfile%2CsummaryDetail&corsDomain=finance.yahoo.com&formatted=false&symbol=MITT%24A&crumb=Vn1kjkpqGe7\n",
      " 58%|█████▊    | 4515/7775 [10:07<16:30,  3.29it/s]404 Client Error: Not Found for url: https://query2.finance.yahoo.com/v10/finance/quoteSummary/MITT$B?modules=financialData%2CquoteType%2CdefaultKeyStatistics%2CassetProfile%2CsummaryDetail&corsDomain=finance.yahoo.com&formatted=false&symbol=MITT%24B&crumb=Vn1kjkpqGe7\n",
      " 58%|█████▊    | 4516/7775 [10:08<23:52,  2.28it/s]404 Client Error: Not Found for url: https://query2.finance.yahoo.com/v10/finance/quoteSummary/MITT$C?modules=financialData%2CquoteType%2CdefaultKeyStatistics%2CassetProfile%2CsummaryDetail&corsDomain=finance.yahoo.com&formatted=false&symbol=MITT%24C&crumb=Vn1kjkpqGe7\n",
      " 58%|█████▊    | 4519/7775 [10:09<18:35,  2.92it/s]404 Client Error: Not Found for url: https://query2.finance.yahoo.com/v10/finance/quoteSummary/MKC.V?modules=financialData%2CquoteType%2CdefaultKeyStatistics%2CassetProfile%2CsummaryDetail&corsDomain=finance.yahoo.com&formatted=false&symbol=MKC.V&crumb=Vn1kjkpqGe7\n",
      " 58%|█████▊    | 4521/7775 [10:10<19:03,  2.85it/s]404 Client Error: Not Found for url: https://query2.finance.yahoo.com/v10/finance/quoteSummary/MKFG.W?modules=financialData%2CquoteType%2CdefaultKeyStatistics%2CassetProfile%2CsummaryDetail&corsDomain=finance.yahoo.com&formatted=false&symbol=MKFG.W&crumb=Vn1kjkpqGe7\n",
      " 58%|█████▊    | 4527/7775 [10:11<10:36,  5.10it/s]404 Client Error: Not Found for url: https://query2.finance.yahoo.com/v10/finance/quoteSummary/ML.W?modules=financialData%2CquoteType%2CdefaultKeyStatistics%2CassetProfile%2CsummaryDetail&corsDomain=finance.yahoo.com&formatted=false&symbol=ML.W&crumb=Vn1kjkpqGe7\n",
      " 59%|█████▉    | 4571/7775 [10:15<04:16, 12.47it/s]404 Client Error: Not Found for url: https://query2.finance.yahoo.com/v10/finance/quoteSummary/MNTN.U?modules=financialData%2CquoteType%2CdefaultKeyStatistics%2CassetProfile%2CsummaryDetail&corsDomain=finance.yahoo.com&formatted=false&symbol=MNTN.U&crumb=Vn1kjkpqGe7\n",
      "404 Client Error: Not Found for url: https://query2.finance.yahoo.com/v10/finance/quoteSummary/MNTN.W?modules=financialData%2CquoteType%2CdefaultKeyStatistics%2CassetProfile%2CsummaryDetail&corsDomain=finance.yahoo.com&formatted=false&symbol=MNTN.W&crumb=Vn1kjkpqGe7\n",
      " 59%|█████▉    | 4589/7775 [10:18<05:11, 10.24it/s]404 Client Error: Not Found for url: https://query2.finance.yahoo.com/v10/finance/quoteSummary/MOG.B?modules=financialData%2CquoteType%2CdefaultKeyStatistics%2CassetProfile%2CsummaryDetail&corsDomain=finance.yahoo.com&formatted=false&symbol=MOG.B&crumb=Vn1kjkpqGe7\n",
      " 60%|█████▉    | 4627/7775 [10:21<04:20, 12.09it/s]404 Client Error: Not Found for url: https://query2.finance.yahoo.com/v10/finance/quoteSummary/MRDB.W?modules=financialData%2CquoteType%2CdefaultKeyStatistics%2CassetProfile%2CsummaryDetail&corsDomain=finance.yahoo.com&formatted=false&symbol=MRDB.W&crumb=Vn1kjkpqGe7\n",
      " 60%|█████▉    | 4643/7775 [10:23<04:28, 11.65it/s]404 Client Error: Not Found for url: https://query2.finance.yahoo.com/v10/finance/quoteSummary/MS$A?modules=financialData%2CquoteType%2CdefaultKeyStatistics%2CassetProfile%2CsummaryDetail&corsDomain=finance.yahoo.com&formatted=false&symbol=MS%24A&crumb=Vn1kjkpqGe7\n",
      " 60%|█████▉    | 4645/7775 [10:24<09:18,  5.61it/s]404 Client Error: Not Found for url: https://query2.finance.yahoo.com/v10/finance/quoteSummary/MS$E?modules=financialData%2CquoteType%2CdefaultKeyStatistics%2CassetProfile%2CsummaryDetail&corsDomain=finance.yahoo.com&formatted=false&symbol=MS%24E&crumb=Vn1kjkpqGe7\n",
      " 60%|█████▉    | 4646/7775 [10:25<15:30,  3.36it/s]404 Client Error: Not Found for url: https://query2.finance.yahoo.com/v10/finance/quoteSummary/MS$F?modules=financialData%2CquoteType%2CdefaultKeyStatistics%2CassetProfile%2CsummaryDetail&corsDomain=finance.yahoo.com&formatted=false&symbol=MS%24F&crumb=Vn1kjkpqGe7\n",
      " 60%|█████▉    | 4647/7775 [10:25<18:41,  2.79it/s]404 Client Error: Not Found for url: https://query2.finance.yahoo.com/v10/finance/quoteSummary/MS$I?modules=financialData%2CquoteType%2CdefaultKeyStatistics%2CassetProfile%2CsummaryDetail&corsDomain=finance.yahoo.com&formatted=false&symbol=MS%24I&crumb=Vn1kjkpqGe7\n",
      " 60%|█████▉    | 4648/7775 [10:26<24:24,  2.13it/s]404 Client Error: Not Found for url: https://query2.finance.yahoo.com/v10/finance/quoteSummary/MS$K?modules=financialData%2CquoteType%2CdefaultKeyStatistics%2CassetProfile%2CsummaryDetail&corsDomain=finance.yahoo.com&formatted=false&symbol=MS%24K&crumb=Vn1kjkpqGe7\n",
      " 60%|█████▉    | 4649/7775 [10:27<26:25,  1.97it/s]404 Client Error: Not Found for url: https://query2.finance.yahoo.com/v10/finance/quoteSummary/MS$L?modules=financialData%2CquoteType%2CdefaultKeyStatistics%2CassetProfile%2CsummaryDetail&corsDomain=finance.yahoo.com&formatted=false&symbol=MS%24L&crumb=Vn1kjkpqGe7\n",
      " 60%|█████▉    | 4650/7775 [10:27<28:05,  1.85it/s]404 Client Error: Not Found for url: https://query2.finance.yahoo.com/v10/finance/quoteSummary/MS$O?modules=financialData%2CquoteType%2CdefaultKeyStatistics%2CassetProfile%2CsummaryDetail&corsDomain=finance.yahoo.com&formatted=false&symbol=MS%24O&crumb=Vn1kjkpqGe7\n",
      " 60%|█████▉    | 4651/7775 [10:28<31:04,  1.68it/s]404 Client Error: Not Found for url: https://query2.finance.yahoo.com/v10/finance/quoteSummary/MS$P?modules=financialData%2CquoteType%2CdefaultKeyStatistics%2CassetProfile%2CsummaryDetail&corsDomain=finance.yahoo.com&formatted=false&symbol=MS%24P&crumb=Vn1kjkpqGe7\n",
      " 60%|██████    | 4677/7775 [10:31<04:05, 12.62it/s]404 Client Error: Not Found for url: https://query2.finance.yahoo.com/v10/finance/quoteSummary/MTAL.W?modules=financialData%2CquoteType%2CdefaultKeyStatistics%2CassetProfile%2CsummaryDetail&corsDomain=finance.yahoo.com&formatted=false&symbol=MTAL.W&crumb=Vn1kjkpqGe7\n",
      " 60%|██████    | 4679/7775 [10:32<13:19,  3.87it/s]404 Client Error: Not Found for url: https://query2.finance.yahoo.com/v10/finance/quoteSummary/MTB$H?modules=financialData%2CquoteType%2CdefaultKeyStatistics%2CassetProfile%2CsummaryDetail&corsDomain=finance.yahoo.com&formatted=false&symbol=MTB%24H&crumb=Vn1kjkpqGe7\n",
      " 62%|██████▏   | 4801/7775 [10:42<03:47, 13.05it/s]404 Client Error: Not Found for url: https://query2.finance.yahoo.com/v10/finance/quoteSummary/NCV$A?modules=financialData%2CquoteType%2CdefaultKeyStatistics%2CassetProfile%2CsummaryDetail&corsDomain=finance.yahoo.com&formatted=false&symbol=NCV%24A&crumb=Vn1kjkpqGe7\n",
      " 62%|██████▏   | 4803/7775 [10:43<09:24,  5.26it/s]404 Client Error: Not Found for url: https://query2.finance.yahoo.com/v10/finance/quoteSummary/NCZ$A?modules=financialData%2CquoteType%2CdefaultKeyStatistics%2CassetProfile%2CsummaryDetail&corsDomain=finance.yahoo.com&formatted=false&symbol=NCZ%24A&crumb=Vn1kjkpqGe7\n",
      " 62%|██████▏   | 4811/7775 [10:44<06:18,  7.82it/s]404 Client Error: Not Found for url: https://query2.finance.yahoo.com/v10/finance/quoteSummary/NE.A?modules=financialData%2CquoteType%2CdefaultKeyStatistics%2CassetProfile%2CsummaryDetail&corsDomain=finance.yahoo.com&formatted=false&symbol=NE.A&crumb=Vn1kjkpqGe7\n",
      "404 Client Error: Not Found for url: https://query2.finance.yahoo.com/v10/finance/quoteSummary/NE.W?modules=financialData%2CquoteType%2CdefaultKeyStatistics%2CassetProfile%2CsummaryDetail&corsDomain=finance.yahoo.com&formatted=false&symbol=NE.W&crumb=Vn1kjkpqGe7\n",
      " 62%|██████▏   | 4815/7775 [10:46<12:40,  3.89it/s]404 Client Error: Not Found for url: https://query2.finance.yahoo.com/v10/finance/quoteSummary/NEE$N?modules=financialData%2CquoteType%2CdefaultKeyStatistics%2CassetProfile%2CsummaryDetail&corsDomain=finance.yahoo.com&formatted=false&symbol=NEE%24N&crumb=Vn1kjkpqGe7\n",
      " 62%|██████▏   | 4817/7775 [10:47<13:55,  3.54it/s]404 Client Error: Not Found for url: https://query2.finance.yahoo.com/v10/finance/quoteSummary/NEE$R?modules=financialData%2CquoteType%2CdefaultKeyStatistics%2CassetProfile%2CsummaryDetail&corsDomain=finance.yahoo.com&formatted=false&symbol=NEE%24R&crumb=Vn1kjkpqGe7\n",
      " 62%|██████▏   | 4850/7775 [10:50<03:49, 12.77it/s]404 Client Error: Not Found for url: https://query2.finance.yahoo.com/v10/finance/quoteSummary/NFYS.U?modules=financialData%2CquoteType%2CdefaultKeyStatistics%2CassetProfile%2CsummaryDetail&corsDomain=finance.yahoo.com&formatted=false&symbol=NFYS.U&crumb=Vn1kjkpqGe7\n",
      " 62%|██████▏   | 4852/7775 [10:52<14:18,  3.40it/s]404 Client Error: Not Found for url: https://query2.finance.yahoo.com/v10/finance/quoteSummary/NFYS.W?modules=financialData%2CquoteType%2CdefaultKeyStatistics%2CassetProfile%2CsummaryDetail&corsDomain=finance.yahoo.com&formatted=false&symbol=NFYS.W&crumb=Vn1kjkpqGe7\n",
      " 62%|██████▏   | 4857/7775 [10:53<10:32,  4.62it/s]404 Client Error: Not Found for url: https://query2.finance.yahoo.com/v10/finance/quoteSummary/NGL$B?modules=financialData%2CquoteType%2CdefaultKeyStatistics%2CassetProfile%2CsummaryDetail&corsDomain=finance.yahoo.com&formatted=false&symbol=NGL%24B&crumb=Vn1kjkpqGe7\n",
      " 62%|██████▏   | 4858/7775 [10:53<15:06,  3.22it/s]404 Client Error: Not Found for url: https://query2.finance.yahoo.com/v10/finance/quoteSummary/NGL$C?modules=financialData%2CquoteType%2CdefaultKeyStatistics%2CassetProfile%2CsummaryDetail&corsDomain=finance.yahoo.com&formatted=false&symbol=NGL%24C&crumb=Vn1kjkpqGe7\n",
      " 63%|██████▎   | 4871/7775 [10:55<05:04,  9.52it/s]404 Client Error: Not Found for url: https://query2.finance.yahoo.com/v10/finance/quoteSummary/NI$B?modules=financialData%2CquoteType%2CdefaultKeyStatistics%2CassetProfile%2CsummaryDetail&corsDomain=finance.yahoo.com&formatted=false&symbol=NI%24B&crumb=Vn1kjkpqGe7\n",
      " 63%|██████▎   | 4895/7775 [10:58<03:48, 12.62it/s]404 Client Error: Not Found for url: https://query2.finance.yahoo.com/v10/finance/quoteSummary/NLY$F?modules=financialData%2CquoteType%2CdefaultKeyStatistics%2CassetProfile%2CsummaryDetail&corsDomain=finance.yahoo.com&formatted=false&symbol=NLY%24F&crumb=Vn1kjkpqGe7\n",
      " 63%|██████▎   | 4897/7775 [10:58<08:15,  5.80it/s]404 Client Error: Not Found for url: https://query2.finance.yahoo.com/v10/finance/quoteSummary/NLY$G?modules=financialData%2CquoteType%2CdefaultKeyStatistics%2CassetProfile%2CsummaryDetail&corsDomain=finance.yahoo.com&formatted=false&symbol=NLY%24G&crumb=Vn1kjkpqGe7\n",
      " 63%|██████▎   | 4898/7775 [10:59<12:18,  3.90it/s]404 Client Error: Not Found for url: https://query2.finance.yahoo.com/v10/finance/quoteSummary/NLY$I?modules=financialData%2CquoteType%2CdefaultKeyStatistics%2CassetProfile%2CsummaryDetail&corsDomain=finance.yahoo.com&formatted=false&symbol=NLY%24I&crumb=Vn1kjkpqGe7\n",
      " 63%|██████▎   | 4899/7775 [11:00<18:33,  2.58it/s]404 Client Error: Not Found for url: https://query2.finance.yahoo.com/v10/finance/quoteSummary/NM$G?modules=financialData%2CquoteType%2CdefaultKeyStatistics%2CassetProfile%2CsummaryDetail&corsDomain=finance.yahoo.com&formatted=false&symbol=NM%24G&crumb=Vn1kjkpqGe7\n",
      " 63%|██████▎   | 4900/7775 [11:01<23:10,  2.07it/s]404 Client Error: Not Found for url: https://query2.finance.yahoo.com/v10/finance/quoteSummary/NM$H?modules=financialData%2CquoteType%2CdefaultKeyStatistics%2CassetProfile%2CsummaryDetail&corsDomain=finance.yahoo.com&formatted=false&symbol=NM%24H&crumb=Vn1kjkpqGe7\n",
      " 64%|██████▎   | 4939/7775 [11:04<04:03, 11.66it/s]404 Client Error: Not Found for url: https://query2.finance.yahoo.com/v10/finance/quoteSummary/NOTE.W?modules=financialData%2CquoteType%2CdefaultKeyStatistics%2CassetProfile%2CsummaryDetail&corsDomain=finance.yahoo.com&formatted=false&symbol=NOTE.W&crumb=Vn1kjkpqGe7\n",
      " 64%|██████▍   | 4959/7775 [11:07<03:53, 12.06it/s]404 Client Error: Not Found for url: https://query2.finance.yahoo.com/v10/finance/quoteSummary/NPWR.W?modules=financialData%2CquoteType%2CdefaultKeyStatistics%2CassetProfile%2CsummaryDetail&corsDomain=finance.yahoo.com&formatted=false&symbol=NPWR.W&crumb=Vn1kjkpqGe7\n",
      " 64%|██████▍   | 4969/7775 [11:08<05:17,  8.85it/s]404 Client Error: Not Found for url: https://query2.finance.yahoo.com/v10/finance/quoteSummary/NREF$A?modules=financialData%2CquoteType%2CdefaultKeyStatistics%2CassetProfile%2CsummaryDetail&corsDomain=finance.yahoo.com&formatted=false&symbol=NREF%24A&crumb=Vn1kjkpqGe7\n",
      " 64%|██████▍   | 4988/7775 [11:10<04:04, 11.39it/s]404 Client Error: Not Found for url: https://query2.finance.yahoo.com/v10/finance/quoteSummary/NS$A?modules=financialData%2CquoteType%2CdefaultKeyStatistics%2CassetProfile%2CsummaryDetail&corsDomain=finance.yahoo.com&formatted=false&symbol=NS%24A&crumb=Vn1kjkpqGe7\n",
      "404 Client Error: Not Found for url: https://query2.finance.yahoo.com/v10/finance/quoteSummary/NS$B?modules=financialData%2CquoteType%2CdefaultKeyStatistics%2CassetProfile%2CsummaryDetail&corsDomain=finance.yahoo.com&formatted=false&symbol=NS%24B&crumb=Vn1kjkpqGe7\n",
      " 64%|██████▍   | 4990/7775 [11:13<18:28,  2.51it/s]404 Client Error: Not Found for url: https://query2.finance.yahoo.com/v10/finance/quoteSummary/NS$C?modules=financialData%2CquoteType%2CdefaultKeyStatistics%2CassetProfile%2CsummaryDetail&corsDomain=finance.yahoo.com&formatted=false&symbol=NS%24C&crumb=Vn1kjkpqGe7\n",
      " 64%|██████▍   | 4992/7775 [11:14<20:16,  2.29it/s]404 Client Error: Not Found for url: https://query2.finance.yahoo.com/v10/finance/quoteSummary/NSA$A?modules=financialData%2CquoteType%2CdefaultKeyStatistics%2CassetProfile%2CsummaryDetail&corsDomain=finance.yahoo.com&formatted=false&symbol=NSA%24A&crumb=Vn1kjkpqGe7\n",
      " 64%|██████▍   | 4993/7775 [11:15<24:19,  1.91it/s]404 Client Error: Not Found for url: https://query2.finance.yahoo.com/v10/finance/quoteSummary/NSA$B?modules=financialData%2CquoteType%2CdefaultKeyStatistics%2CassetProfile%2CsummaryDetail&corsDomain=finance.yahoo.com&formatted=false&symbol=NSA%24B&crumb=Vn1kjkpqGe7\n",
      " 64%|██████▍   | 5001/7775 [11:16<09:12,  5.02it/s]404 Client Error: Not Found for url: https://query2.finance.yahoo.com/v10/finance/quoteSummary/NSTB.U?modules=financialData%2CquoteType%2CdefaultKeyStatistics%2CassetProfile%2CsummaryDetail&corsDomain=finance.yahoo.com&formatted=false&symbol=NSTB.U&crumb=Vn1kjkpqGe7\n",
      " 64%|██████▍   | 5011/7775 [11:18<05:05,  9.04it/s]404 Client Error: Not Found for url: https://query2.finance.yahoo.com/v10/finance/quoteSummary/NTEST.A?modules=financialData%2CquoteType%2CdefaultKeyStatistics%2CassetProfile%2CsummaryDetail&corsDomain=finance.yahoo.com&formatted=false&symbol=NTEST.A&crumb=Vn1kjkpqGe7\n",
      " 64%|██████▍   | 5013/7775 [11:19<08:35,  5.36it/s]404 Client Error: Not Found for url: https://query2.finance.yahoo.com/v10/finance/quoteSummary/NTEST.B?modules=financialData%2CquoteType%2CdefaultKeyStatistics%2CassetProfile%2CsummaryDetail&corsDomain=finance.yahoo.com&formatted=false&symbol=NTEST.B&crumb=Vn1kjkpqGe7\n",
      " 64%|██████▍   | 5014/7775 [11:19<12:37,  3.64it/s]404 Client Error: Not Found for url: https://query2.finance.yahoo.com/v10/finance/quoteSummary/NTEST.C?modules=financialData%2CquoteType%2CdefaultKeyStatistics%2CassetProfile%2CsummaryDetail&corsDomain=finance.yahoo.com&formatted=false&symbol=NTEST.C&crumb=Vn1kjkpqGe7\n",
      " 65%|██████▍   | 5041/7775 [11:22<03:47, 12.02it/s]404 Client Error: Not Found for url: https://query2.finance.yahoo.com/v10/finance/quoteSummary/NUVB.W?modules=financialData%2CquoteType%2CdefaultKeyStatistics%2CassetProfile%2CsummaryDetail&corsDomain=finance.yahoo.com&formatted=false&symbol=NUVB.W&crumb=Vn1kjkpqGe7\n",
      " 66%|██████▌   | 5094/7775 [11:27<04:05, 10.92it/s]404 Client Error: Not Found for url: https://query2.finance.yahoo.com/v10/finance/quoteSummary/NXDT$A?modules=financialData%2CquoteType%2CdefaultKeyStatistics%2CassetProfile%2CsummaryDetail&corsDomain=finance.yahoo.com&formatted=false&symbol=NXDT%24A&crumb=Vn1kjkpqGe7\n",
      " 66%|██████▌   | 5115/7775 [11:29<03:36, 12.26it/s]404 Client Error: Not Found for url: https://query2.finance.yahoo.com/v10/finance/quoteSummary/NYCB$A?modules=financialData%2CquoteType%2CdefaultKeyStatistics%2CassetProfile%2CsummaryDetail&corsDomain=finance.yahoo.com&formatted=false&symbol=NYCB%24A&crumb=Vn1kjkpqGe7\n",
      " 66%|██████▌   | 5117/7775 [11:30<07:26,  5.96it/s]404 Client Error: Not Found for url: https://query2.finance.yahoo.com/v10/finance/quoteSummary/NYCB$U?modules=financialData%2CquoteType%2CdefaultKeyStatistics%2CassetProfile%2CsummaryDetail&corsDomain=finance.yahoo.com&formatted=false&symbol=NYCB%24U&crumb=Vn1kjkpqGe7\n",
      " 66%|██████▌   | 5128/7775 [11:32<04:51,  9.08it/s]404 Client Error: Not Found for url: https://query2.finance.yahoo.com/v10/finance/quoteSummary/OAK$A?modules=financialData%2CquoteType%2CdefaultKeyStatistics%2CassetProfile%2CsummaryDetail&corsDomain=finance.yahoo.com&formatted=false&symbol=OAK%24A&crumb=Vn1kjkpqGe7\n",
      " 66%|██████▌   | 5130/7775 [11:33<08:46,  5.03it/s]404 Client Error: Not Found for url: https://query2.finance.yahoo.com/v10/finance/quoteSummary/OAK$B?modules=financialData%2CquoteType%2CdefaultKeyStatistics%2CassetProfile%2CsummaryDetail&corsDomain=finance.yahoo.com&formatted=false&symbol=OAK%24B&crumb=Vn1kjkpqGe7\n",
      " 67%|██████▋   | 5237/7775 [11:42<03:20, 12.66it/s]404 Client Error: Not Found for url: https://query2.finance.yahoo.com/v10/finance/quoteSummary/OPA.U?modules=financialData%2CquoteType%2CdefaultKeyStatistics%2CassetProfile%2CsummaryDetail&corsDomain=finance.yahoo.com&formatted=false&symbol=OPA.U&crumb=Vn1kjkpqGe7\n",
      " 67%|██████▋   | 5239/7775 [11:43<07:52,  5.37it/s]404 Client Error: Not Found for url: https://query2.finance.yahoo.com/v10/finance/quoteSummary/OPA.W?modules=financialData%2CquoteType%2CdefaultKeyStatistics%2CassetProfile%2CsummaryDetail&corsDomain=finance.yahoo.com&formatted=false&symbol=OPA.W&crumb=Vn1kjkpqGe7\n",
      " 67%|██████▋   | 5246/7775 [11:44<05:49,  7.23it/s]404 Client Error: Not Found for url: https://query2.finance.yahoo.com/v10/finance/quoteSummary/OPFI.W?modules=financialData%2CquoteType%2CdefaultKeyStatistics%2CassetProfile%2CsummaryDetail&corsDomain=finance.yahoo.com&formatted=false&symbol=OPFI.W&crumb=Vn1kjkpqGe7\n",
      " 68%|██████▊   | 5254/7775 [11:45<05:06,  8.21it/s]404 Client Error: Not Found for url: https://query2.finance.yahoo.com/v10/finance/quoteSummary/OPP$A?modules=financialData%2CquoteType%2CdefaultKeyStatistics%2CassetProfile%2CsummaryDetail&corsDomain=finance.yahoo.com&formatted=false&symbol=OPP%24A&crumb=Vn1kjkpqGe7\n",
      "404 Client Error: Not Found for url: https://query2.finance.yahoo.com/v10/finance/quoteSummary/OPP$B?modules=financialData%2CquoteType%2CdefaultKeyStatistics%2CassetProfile%2CsummaryDetail&corsDomain=finance.yahoo.com&formatted=false&symbol=OPP%24B&crumb=Vn1kjkpqGe7\n",
      " 68%|██████▊   | 5288/7775 [11:49<03:19, 12.49it/s]404 Client Error: Not Found for url: https://query2.finance.yahoo.com/v10/finance/quoteSummary/OSI.U?modules=financialData%2CquoteType%2CdefaultKeyStatistics%2CassetProfile%2CsummaryDetail&corsDomain=finance.yahoo.com&formatted=false&symbol=OSI.U&crumb=Vn1kjkpqGe7\n",
      " 68%|██████▊   | 5290/7775 [11:50<07:07,  5.81it/s]404 Client Error: Not Found for url: https://query2.finance.yahoo.com/v10/finance/quoteSummary/OSI.W?modules=financialData%2CquoteType%2CdefaultKeyStatistics%2CassetProfile%2CsummaryDetail&corsDomain=finance.yahoo.com&formatted=false&symbol=OSI.W&crumb=Vn1kjkpqGe7\n",
      " 68%|██████▊   | 5307/7775 [11:52<04:04, 10.10it/s]404 Client Error: Not Found for url: https://query2.finance.yahoo.com/v10/finance/quoteSummary/OUST.A?modules=financialData%2CquoteType%2CdefaultKeyStatistics%2CassetProfile%2CsummaryDetail&corsDomain=finance.yahoo.com&formatted=false&symbol=OUST.A&crumb=Vn1kjkpqGe7\n",
      " 68%|██████▊   | 5309/7775 [11:53<07:54,  5.20it/s]404 Client Error: Not Found for url: https://query2.finance.yahoo.com/v10/finance/quoteSummary/OUST.W?modules=financialData%2CquoteType%2CdefaultKeyStatistics%2CassetProfile%2CsummaryDetail&corsDomain=finance.yahoo.com&formatted=false&symbol=OUST.W&crumb=Vn1kjkpqGe7\n",
      " 69%|██████▊   | 5334/7775 [11:55<03:19, 12.25it/s]404 Client Error: Not Found for url: https://query2.finance.yahoo.com/v10/finance/quoteSummary/OXY.W?modules=financialData%2CquoteType%2CdefaultKeyStatistics%2CassetProfile%2CsummaryDetail&corsDomain=finance.yahoo.com&formatted=false&symbol=OXY.W&crumb=Vn1kjkpqGe7\n",
      " 69%|██████▉   | 5384/7775 [12:00<03:02, 13.07it/s]404 Client Error: Not Found for url: https://query2.finance.yahoo.com/v10/finance/quoteSummary/PBI$B?modules=financialData%2CquoteType%2CdefaultKeyStatistics%2CassetProfile%2CsummaryDetail&corsDomain=finance.yahoo.com&formatted=false&symbol=PBI%24B&crumb=Vn1kjkpqGe7\n",
      " 69%|██████▉   | 5388/7775 [12:02<09:20,  4.26it/s]404 Client Error: Not Found for url: https://query2.finance.yahoo.com/v10/finance/quoteSummary/PBR.A?modules=financialData%2CquoteType%2CdefaultKeyStatistics%2CassetProfile%2CsummaryDetail&corsDomain=finance.yahoo.com&formatted=false&symbol=PBR.A&crumb=Vn1kjkpqGe7\n",
      " 69%|██████▉   | 5396/7775 [12:03<05:35,  7.09it/s]404 Client Error: Not Found for url: https://query2.finance.yahoo.com/v10/finance/quoteSummary/PCG$A?modules=financialData%2CquoteType%2CdefaultKeyStatistics%2CassetProfile%2CsummaryDetail&corsDomain=finance.yahoo.com&formatted=false&symbol=PCG%24A&crumb=Vn1kjkpqGe7\n",
      "404 Client Error: Not Found for url: https://query2.finance.yahoo.com/v10/finance/quoteSummary/PCG$B?modules=financialData%2CquoteType%2CdefaultKeyStatistics%2CassetProfile%2CsummaryDetail&corsDomain=finance.yahoo.com&formatted=false&symbol=PCG%24B&crumb=Vn1kjkpqGe7\n",
      " 69%|██████▉   | 5398/7775 [12:04<12:28,  3.18it/s]404 Client Error: Not Found for url: https://query2.finance.yahoo.com/v10/finance/quoteSummary/PCG$C?modules=financialData%2CquoteType%2CdefaultKeyStatistics%2CassetProfile%2CsummaryDetail&corsDomain=finance.yahoo.com&formatted=false&symbol=PCG%24C&crumb=Vn1kjkpqGe7\n",
      " 69%|██████▉   | 5399/7775 [12:05<15:20,  2.58it/s]404 Client Error: Not Found for url: https://query2.finance.yahoo.com/v10/finance/quoteSummary/PCG$D?modules=financialData%2CquoteType%2CdefaultKeyStatistics%2CassetProfile%2CsummaryDetail&corsDomain=finance.yahoo.com&formatted=false&symbol=PCG%24D&crumb=Vn1kjkpqGe7\n",
      " 69%|██████▉   | 5400/7775 [12:06<19:46,  2.00it/s]404 Client Error: Not Found for url: https://query2.finance.yahoo.com/v10/finance/quoteSummary/PCG$E?modules=financialData%2CquoteType%2CdefaultKeyStatistics%2CassetProfile%2CsummaryDetail&corsDomain=finance.yahoo.com&formatted=false&symbol=PCG%24E&crumb=Vn1kjkpqGe7\n",
      " 69%|██████▉   | 5401/7775 [12:07<21:14,  1.86it/s]404 Client Error: Not Found for url: https://query2.finance.yahoo.com/v10/finance/quoteSummary/PCG$G?modules=financialData%2CquoteType%2CdefaultKeyStatistics%2CassetProfile%2CsummaryDetail&corsDomain=finance.yahoo.com&formatted=false&symbol=PCG%24G&crumb=Vn1kjkpqGe7\n",
      " 69%|██████▉   | 5402/7775 [12:07<23:00,  1.72it/s]404 Client Error: Not Found for url: https://query2.finance.yahoo.com/v10/finance/quoteSummary/PCG$H?modules=financialData%2CquoteType%2CdefaultKeyStatistics%2CassetProfile%2CsummaryDetail&corsDomain=finance.yahoo.com&formatted=false&symbol=PCG%24H&crumb=Vn1kjkpqGe7\n",
      " 69%|██████▉   | 5403/7775 [12:08<23:32,  1.68it/s]404 Client Error: Not Found for url: https://query2.finance.yahoo.com/v10/finance/quoteSummary/PCG$I?modules=financialData%2CquoteType%2CdefaultKeyStatistics%2CassetProfile%2CsummaryDetail&corsDomain=finance.yahoo.com&formatted=false&symbol=PCG%24I&crumb=Vn1kjkpqGe7\n",
      " 70%|██████▉   | 5432/7775 [12:11<03:19, 11.76it/s]404 Client Error: Not Found for url: https://query2.finance.yahoo.com/v10/finance/quoteSummary/PEB$E?modules=financialData%2CquoteType%2CdefaultKeyStatistics%2CassetProfile%2CsummaryDetail&corsDomain=finance.yahoo.com&formatted=false&symbol=PEB%24E&crumb=Vn1kjkpqGe7\n",
      " 70%|██████▉   | 5434/7775 [12:12<07:44,  5.04it/s]404 Client Error: Not Found for url: https://query2.finance.yahoo.com/v10/finance/quoteSummary/PEB$F?modules=financialData%2CquoteType%2CdefaultKeyStatistics%2CassetProfile%2CsummaryDetail&corsDomain=finance.yahoo.com&formatted=false&symbol=PEB%24F&crumb=Vn1kjkpqGe7\n",
      " 70%|██████▉   | 5435/7775 [12:13<11:08,  3.50it/s]404 Client Error: Not Found for url: https://query2.finance.yahoo.com/v10/finance/quoteSummary/PEB$G?modules=financialData%2CquoteType%2CdefaultKeyStatistics%2CassetProfile%2CsummaryDetail&corsDomain=finance.yahoo.com&formatted=false&symbol=PEB%24G&crumb=Vn1kjkpqGe7\n",
      " 70%|██████▉   | 5436/7775 [12:13<15:34,  2.50it/s]404 Client Error: Not Found for url: https://query2.finance.yahoo.com/v10/finance/quoteSummary/PEB$H?modules=financialData%2CquoteType%2CdefaultKeyStatistics%2CassetProfile%2CsummaryDetail&corsDomain=finance.yahoo.com&formatted=false&symbol=PEB%24H&crumb=Vn1kjkpqGe7\n",
      " 70%|███████   | 5455/7775 [12:15<03:32, 10.90it/s]404 Client Error: Not Found for url: https://query2.finance.yahoo.com/v10/finance/quoteSummary/PERF.W?modules=financialData%2CquoteType%2CdefaultKeyStatistics%2CassetProfile%2CsummaryDetail&corsDomain=finance.yahoo.com&formatted=false&symbol=PERF.W&crumb=Vn1kjkpqGe7\n",
      " 71%|███████   | 5497/7775 [12:19<02:51, 13.31it/s]404 Client Error: Not Found for url: https://query2.finance.yahoo.com/v10/finance/quoteSummary/PGSS.U?modules=financialData%2CquoteType%2CdefaultKeyStatistics%2CassetProfile%2CsummaryDetail&corsDomain=finance.yahoo.com&formatted=false&symbol=PGSS.U&crumb=Vn1kjkpqGe7\n",
      " 71%|███████   | 5499/7775 [12:20<05:53,  6.44it/s]404 Client Error: Not Found for url: https://query2.finance.yahoo.com/v10/finance/quoteSummary/PGSS.W?modules=financialData%2CquoteType%2CdefaultKeyStatistics%2CassetProfile%2CsummaryDetail&corsDomain=finance.yahoo.com&formatted=false&symbol=PGSS.W&crumb=Vn1kjkpqGe7\n",
      " 71%|███████   | 5509/7775 [12:21<04:46,  7.91it/s]404 Client Error: Not Found for url: https://query2.finance.yahoo.com/v10/finance/quoteSummary/PHGE.U?modules=financialData%2CquoteType%2CdefaultKeyStatistics%2CassetProfile%2CsummaryDetail&corsDomain=finance.yahoo.com&formatted=false&symbol=PHGE.U&crumb=Vn1kjkpqGe7\n",
      " 71%|███████   | 5523/7775 [12:24<04:50,  7.74it/s]404 Client Error: Not Found for url: https://query2.finance.yahoo.com/v10/finance/quoteSummary/PHYT.U?modules=financialData%2CquoteType%2CdefaultKeyStatistics%2CassetProfile%2CsummaryDetail&corsDomain=finance.yahoo.com&formatted=false&symbol=PHYT.U&crumb=Vn1kjkpqGe7\n",
      " 71%|███████   | 5524/7775 [12:25<11:57,  3.14it/s]404 Client Error: Not Found for url: https://query2.finance.yahoo.com/v10/finance/quoteSummary/PHYT.W?modules=financialData%2CquoteType%2CdefaultKeyStatistics%2CassetProfile%2CsummaryDetail&corsDomain=finance.yahoo.com&formatted=false&symbol=PHYT.W&crumb=Vn1kjkpqGe7\n",
      " 71%|███████▏  | 5545/7775 [12:27<03:18, 11.23it/s]404 Client Error: Not Found for url: https://query2.finance.yahoo.com/v10/finance/quoteSummary/PL.W?modules=financialData%2CquoteType%2CdefaultKeyStatistics%2CassetProfile%2CsummaryDetail&corsDomain=finance.yahoo.com&formatted=false&symbol=PL.W&crumb=Vn1kjkpqGe7\n",
      " 72%|███████▏  | 5594/7775 [12:32<02:56, 12.36it/s]404 Client Error: Not Found for url: https://query2.finance.yahoo.com/v10/finance/quoteSummary/PMT$A?modules=financialData%2CquoteType%2CdefaultKeyStatistics%2CassetProfile%2CsummaryDetail&corsDomain=finance.yahoo.com&formatted=false&symbol=PMT%24A&crumb=Vn1kjkpqGe7\n",
      "404 Client Error: Not Found for url: https://query2.finance.yahoo.com/v10/finance/quoteSummary/PMT$B?modules=financialData%2CquoteType%2CdefaultKeyStatistics%2CassetProfile%2CsummaryDetail&corsDomain=finance.yahoo.com&formatted=false&symbol=PMT%24B&crumb=Vn1kjkpqGe7\n",
      " 72%|███████▏  | 5596/7775 [12:33<08:58,  4.05it/s]404 Client Error: Not Found for url: https://query2.finance.yahoo.com/v10/finance/quoteSummary/PMT$C?modules=financialData%2CquoteType%2CdefaultKeyStatistics%2CassetProfile%2CsummaryDetail&corsDomain=finance.yahoo.com&formatted=false&symbol=PMT%24C&crumb=Vn1kjkpqGe7\n",
      " 72%|███████▏  | 5611/7775 [12:35<03:24, 10.56it/s]404 Client Error: Not Found for url: https://query2.finance.yahoo.com/v10/finance/quoteSummary/PNST.W?modules=financialData%2CquoteType%2CdefaultKeyStatistics%2CassetProfile%2CsummaryDetail&corsDomain=finance.yahoo.com&formatted=false&symbol=PNST.W&crumb=Vn1kjkpqGe7\n",
      " 72%|███████▏  | 5625/7775 [12:37<03:14, 11.03it/s]404 Client Error: Not Found for url: https://query2.finance.yahoo.com/v10/finance/quoteSummary/PORT.U?modules=financialData%2CquoteType%2CdefaultKeyStatistics%2CassetProfile%2CsummaryDetail&corsDomain=finance.yahoo.com&formatted=false&symbol=PORT.U&crumb=Vn1kjkpqGe7\n",
      "404 Client Error: Not Found for url: https://query2.finance.yahoo.com/v10/finance/quoteSummary/PORT.W?modules=financialData%2CquoteType%2CdefaultKeyStatistics%2CassetProfile%2CsummaryDetail&corsDomain=finance.yahoo.com&formatted=false&symbol=PORT.W&crumb=Vn1kjkpqGe7\n",
      " 73%|███████▎  | 5655/7775 [12:41<02:57, 11.94it/s]404 Client Error: Not Found for url: https://query2.finance.yahoo.com/v10/finance/quoteSummary/PRE$J?modules=financialData%2CquoteType%2CdefaultKeyStatistics%2CassetProfile%2CsummaryDetail&corsDomain=finance.yahoo.com&formatted=false&symbol=PRE%24J&crumb=Vn1kjkpqGe7\n",
      " 73%|███████▎  | 5665/7775 [12:43<04:03,  8.66it/s]404 Client Error: Not Found for url: https://query2.finance.yahoo.com/v10/finance/quoteSummary/PRIF$D?modules=financialData%2CquoteType%2CdefaultKeyStatistics%2CassetProfile%2CsummaryDetail&corsDomain=finance.yahoo.com&formatted=false&symbol=PRIF%24D&crumb=Vn1kjkpqGe7\n",
      "404 Client Error: Not Found for url: https://query2.finance.yahoo.com/v10/finance/quoteSummary/PRIF$F?modules=financialData%2CquoteType%2CdefaultKeyStatistics%2CassetProfile%2CsummaryDetail&corsDomain=finance.yahoo.com&formatted=false&symbol=PRIF%24F&crumb=Vn1kjkpqGe7\n",
      " 73%|███████▎  | 5667/7775 [12:44<10:02,  3.50it/s]404 Client Error: Not Found for url: https://query2.finance.yahoo.com/v10/finance/quoteSummary/PRIF$G?modules=financialData%2CquoteType%2CdefaultKeyStatistics%2CassetProfile%2CsummaryDetail&corsDomain=finance.yahoo.com&formatted=false&symbol=PRIF%24G&crumb=Vn1kjkpqGe7\n",
      " 73%|███████▎  | 5668/7775 [12:45<12:46,  2.75it/s]404 Client Error: Not Found for url: https://query2.finance.yahoo.com/v10/finance/quoteSummary/PRIF$H?modules=financialData%2CquoteType%2CdefaultKeyStatistics%2CassetProfile%2CsummaryDetail&corsDomain=finance.yahoo.com&formatted=false&symbol=PRIF%24H&crumb=Vn1kjkpqGe7\n",
      " 73%|███████▎  | 5669/7775 [12:46<14:42,  2.39it/s]404 Client Error: Not Found for url: https://query2.finance.yahoo.com/v10/finance/quoteSummary/PRIF$I?modules=financialData%2CquoteType%2CdefaultKeyStatistics%2CassetProfile%2CsummaryDetail&corsDomain=finance.yahoo.com&formatted=false&symbol=PRIF%24I&crumb=Vn1kjkpqGe7\n",
      " 73%|███████▎  | 5670/7775 [12:46<16:53,  2.08it/s]404 Client Error: Not Found for url: https://query2.finance.yahoo.com/v10/finance/quoteSummary/PRIF$J?modules=financialData%2CquoteType%2CdefaultKeyStatistics%2CassetProfile%2CsummaryDetail&corsDomain=finance.yahoo.com&formatted=false&symbol=PRIF%24J&crumb=Vn1kjkpqGe7\n",
      " 73%|███████▎  | 5671/7775 [12:48<24:37,  1.42it/s]404 Client Error: Not Found for url: https://query2.finance.yahoo.com/v10/finance/quoteSummary/PRIF$K?modules=financialData%2CquoteType%2CdefaultKeyStatistics%2CassetProfile%2CsummaryDetail&corsDomain=finance.yahoo.com&formatted=false&symbol=PRIF%24K&crumb=Vn1kjkpqGe7\n",
      " 73%|███████▎  | 5672/7775 [12:49<31:13,  1.12it/s]404 Client Error: Not Found for url: https://query2.finance.yahoo.com/v10/finance/quoteSummary/PRIF$L?modules=financialData%2CquoteType%2CdefaultKeyStatistics%2CassetProfile%2CsummaryDetail&corsDomain=finance.yahoo.com&formatted=false&symbol=PRIF%24L&crumb=Vn1kjkpqGe7\n",
      " 73%|███████▎  | 5708/7775 [12:53<02:48, 12.26it/s]404 Client Error: Not Found for url: https://query2.finance.yahoo.com/v10/finance/quoteSummary/PSA$F?modules=financialData%2CquoteType%2CdefaultKeyStatistics%2CassetProfile%2CsummaryDetail&corsDomain=finance.yahoo.com&formatted=false&symbol=PSA%24F&crumb=Vn1kjkpqGe7\n",
      "404 Client Error: Not Found for url: https://query2.finance.yahoo.com/v10/finance/quoteSummary/PSA$G?modules=financialData%2CquoteType%2CdefaultKeyStatistics%2CassetProfile%2CsummaryDetail&corsDomain=finance.yahoo.com&formatted=false&symbol=PSA%24G&crumb=Vn1kjkpqGe7\n",
      " 73%|███████▎  | 5710/7775 [12:55<13:40,  2.52it/s]404 Client Error: Not Found for url: https://query2.finance.yahoo.com/v10/finance/quoteSummary/PSA$H?modules=financialData%2CquoteType%2CdefaultKeyStatistics%2CassetProfile%2CsummaryDetail&corsDomain=finance.yahoo.com&formatted=false&symbol=PSA%24H&crumb=Vn1kjkpqGe7\n",
      " 73%|███████▎  | 5711/7775 [12:56<15:23,  2.23it/s]404 Client Error: Not Found for url: https://query2.finance.yahoo.com/v10/finance/quoteSummary/PSA$I?modules=financialData%2CquoteType%2CdefaultKeyStatistics%2CassetProfile%2CsummaryDetail&corsDomain=finance.yahoo.com&formatted=false&symbol=PSA%24I&crumb=Vn1kjkpqGe7\n",
      " 73%|███████▎  | 5712/7775 [12:56<16:04,  2.14it/s]404 Client Error: Not Found for url: https://query2.finance.yahoo.com/v10/finance/quoteSummary/PSA$J?modules=financialData%2CquoteType%2CdefaultKeyStatistics%2CassetProfile%2CsummaryDetail&corsDomain=finance.yahoo.com&formatted=false&symbol=PSA%24J&crumb=Vn1kjkpqGe7\n",
      " 73%|███████▎  | 5713/7775 [12:57<16:52,  2.04it/s]404 Client Error: Not Found for url: https://query2.finance.yahoo.com/v10/finance/quoteSummary/PSA$K?modules=financialData%2CquoteType%2CdefaultKeyStatistics%2CassetProfile%2CsummaryDetail&corsDomain=finance.yahoo.com&formatted=false&symbol=PSA%24K&crumb=Vn1kjkpqGe7\n",
      " 73%|███████▎  | 5714/7775 [12:58<19:17,  1.78it/s]404 Client Error: Not Found for url: https://query2.finance.yahoo.com/v10/finance/quoteSummary/PSA$L?modules=financialData%2CquoteType%2CdefaultKeyStatistics%2CassetProfile%2CsummaryDetail&corsDomain=finance.yahoo.com&formatted=false&symbol=PSA%24L&crumb=Vn1kjkpqGe7\n",
      " 74%|███████▎  | 5715/7775 [12:58<21:54,  1.57it/s]404 Client Error: Not Found for url: https://query2.finance.yahoo.com/v10/finance/quoteSummary/PSA$M?modules=financialData%2CquoteType%2CdefaultKeyStatistics%2CassetProfile%2CsummaryDetail&corsDomain=finance.yahoo.com&formatted=false&symbol=PSA%24M&crumb=Vn1kjkpqGe7\n",
      " 74%|███████▎  | 5716/7775 [12:59<22:29,  1.53it/s]404 Client Error: Not Found for url: https://query2.finance.yahoo.com/v10/finance/quoteSummary/PSA$N?modules=financialData%2CquoteType%2CdefaultKeyStatistics%2CassetProfile%2CsummaryDetail&corsDomain=finance.yahoo.com&formatted=false&symbol=PSA%24N&crumb=Vn1kjkpqGe7\n",
      " 74%|███████▎  | 5717/7775 [13:00<21:53,  1.57it/s]404 Client Error: Not Found for url: https://query2.finance.yahoo.com/v10/finance/quoteSummary/PSA$O?modules=financialData%2CquoteType%2CdefaultKeyStatistics%2CassetProfile%2CsummaryDetail&corsDomain=finance.yahoo.com&formatted=false&symbol=PSA%24O&crumb=Vn1kjkpqGe7\n",
      " 74%|███████▎  | 5718/7775 [13:00<21:10,  1.62it/s]404 Client Error: Not Found for url: https://query2.finance.yahoo.com/v10/finance/quoteSummary/PSA$P?modules=financialData%2CquoteType%2CdefaultKeyStatistics%2CassetProfile%2CsummaryDetail&corsDomain=finance.yahoo.com&formatted=false&symbol=PSA%24P&crumb=Vn1kjkpqGe7\n",
      " 74%|███████▎  | 5719/7775 [13:01<21:07,  1.62it/s]404 Client Error: Not Found for url: https://query2.finance.yahoo.com/v10/finance/quoteSummary/PSA$Q?modules=financialData%2CquoteType%2CdefaultKeyStatistics%2CassetProfile%2CsummaryDetail&corsDomain=finance.yahoo.com&formatted=false&symbol=PSA%24Q&crumb=Vn1kjkpqGe7\n",
      " 74%|███████▎  | 5720/7775 [13:02<21:44,  1.58it/s]404 Client Error: Not Found for url: https://query2.finance.yahoo.com/v10/finance/quoteSummary/PSA$R?modules=financialData%2CquoteType%2CdefaultKeyStatistics%2CassetProfile%2CsummaryDetail&corsDomain=finance.yahoo.com&formatted=false&symbol=PSA%24R&crumb=Vn1kjkpqGe7\n",
      " 74%|███████▎  | 5721/7775 [13:02<21:44,  1.57it/s]404 Client Error: Not Found for url: https://query2.finance.yahoo.com/v10/finance/quoteSummary/PSA$S?modules=financialData%2CquoteType%2CdefaultKeyStatistics%2CassetProfile%2CsummaryDetail&corsDomain=finance.yahoo.com&formatted=false&symbol=PSA%24S&crumb=Vn1kjkpqGe7\n",
      " 74%|███████▎  | 5724/7775 [13:03<13:02,  2.62it/s]404 Client Error: Not Found for url: https://query2.finance.yahoo.com/v10/finance/quoteSummary/PSEC$A?modules=financialData%2CquoteType%2CdefaultKeyStatistics%2CassetProfile%2CsummaryDetail&corsDomain=finance.yahoo.com&formatted=false&symbol=PSEC%24A&crumb=Vn1kjkpqGe7\n",
      " 74%|███████▎  | 5726/7775 [13:04<12:41,  2.69it/s]404 Client Error: Not Found for url: https://query2.finance.yahoo.com/v10/finance/quoteSummary/PSFE.W?modules=financialData%2CquoteType%2CdefaultKeyStatistics%2CassetProfile%2CsummaryDetail&corsDomain=finance.yahoo.com&formatted=false&symbol=PSFE.W&crumb=Vn1kjkpqGe7\n",
      " 74%|███████▍  | 5736/7775 [13:05<04:40,  7.28it/s]404 Client Error: Not Found for url: https://query2.finance.yahoo.com/v10/finance/quoteSummary/PSQH.W?modules=financialData%2CquoteType%2CdefaultKeyStatistics%2CassetProfile%2CsummaryDetail&corsDomain=finance.yahoo.com&formatted=false&symbol=PSQH.W&crumb=Vn1kjkpqGe7\n",
      " 74%|███████▍  | 5772/7775 [13:09<02:45, 12.14it/s]404 Client Error: Not Found for url: https://query2.finance.yahoo.com/v10/finance/quoteSummary/PW$A?modules=financialData%2CquoteType%2CdefaultKeyStatistics%2CassetProfile%2CsummaryDetail&corsDomain=finance.yahoo.com&formatted=false&symbol=PW%24A&crumb=Vn1kjkpqGe7\n",
      " 75%|███████▍  | 5800/7775 [13:11<02:30, 13.10it/s]404 Client Error: Not Found for url: https://query2.finance.yahoo.com/v10/finance/quoteSummary/QBTS.W?modules=financialData%2CquoteType%2CdefaultKeyStatistics%2CassetProfile%2CsummaryDetail&corsDomain=finance.yahoo.com&formatted=false&symbol=QBTS.W&crumb=Vn1kjkpqGe7\n",
      " 76%|███████▌  | 5872/7775 [13:18<02:35, 12.27it/s]404 Client Error: Not Found for url: https://query2.finance.yahoo.com/v10/finance/quoteSummary/RBOT.W?modules=financialData%2CquoteType%2CdefaultKeyStatistics%2CassetProfile%2CsummaryDetail&corsDomain=finance.yahoo.com&formatted=false&symbol=RBOT.W&crumb=Vn1kjkpqGe7\n",
      " 76%|███████▌  | 5874/7775 [13:18<05:18,  5.97it/s]404 Client Error: Not Found for url: https://query2.finance.yahoo.com/v10/finance/quoteSummary/RC$C?modules=financialData%2CquoteType%2CdefaultKeyStatistics%2CassetProfile%2CsummaryDetail&corsDomain=finance.yahoo.com&formatted=false&symbol=RC%24C&crumb=Vn1kjkpqGe7\n",
      " 76%|███████▌  | 5876/7775 [13:19<08:16,  3.82it/s]404 Client Error: Not Found for url: https://query2.finance.yahoo.com/v10/finance/quoteSummary/RC$E?modules=financialData%2CquoteType%2CdefaultKeyStatistics%2CassetProfile%2CsummaryDetail&corsDomain=finance.yahoo.com&formatted=false&symbol=RC%24E&crumb=Vn1kjkpqGe7\n",
      " 76%|███████▌  | 5885/7775 [13:20<04:06,  7.66it/s]404 Client Error: Not Found for url: https://query2.finance.yahoo.com/v10/finance/quoteSummary/RCFA.U?modules=financialData%2CquoteType%2CdefaultKeyStatistics%2CassetProfile%2CsummaryDetail&corsDomain=finance.yahoo.com&formatted=false&symbol=RCFA.U&crumb=Vn1kjkpqGe7\n",
      "404 Client Error: Not Found for url: https://query2.finance.yahoo.com/v10/finance/quoteSummary/RCFA.W?modules=financialData%2CquoteType%2CdefaultKeyStatistics%2CassetProfile%2CsummaryDetail&corsDomain=finance.yahoo.com&formatted=false&symbol=RCFA.W&crumb=Vn1kjkpqGe7\n",
      " 76%|███████▌  | 5909/7775 [13:24<02:33, 12.18it/s]404 Client Error: Not Found for url: https://query2.finance.yahoo.com/v10/finance/quoteSummary/RDW.W?modules=financialData%2CquoteType%2CdefaultKeyStatistics%2CassetProfile%2CsummaryDetail&corsDomain=finance.yahoo.com&formatted=false&symbol=RDW.W&crumb=Vn1kjkpqGe7\n",
      " 76%|███████▋  | 5947/7775 [13:27<02:19, 13.13it/s]404 Client Error: Not Found for url: https://query2.finance.yahoo.com/v10/finance/quoteSummary/REXR$B?modules=financialData%2CquoteType%2CdefaultKeyStatistics%2CassetProfile%2CsummaryDetail&corsDomain=finance.yahoo.com&formatted=false&symbol=REXR%24B&crumb=Vn1kjkpqGe7\n",
      "404 Client Error: Not Found for url: https://query2.finance.yahoo.com/v10/finance/quoteSummary/REXR$C?modules=financialData%2CquoteType%2CdefaultKeyStatistics%2CassetProfile%2CsummaryDetail&corsDomain=finance.yahoo.com&formatted=false&symbol=REXR%24C&crumb=Vn1kjkpqGe7\n",
      " 77%|███████▋  | 5951/7775 [13:29<05:53,  5.16it/s]404 Client Error: Not Found for url: https://query2.finance.yahoo.com/v10/finance/quoteSummary/RF$B?modules=financialData%2CquoteType%2CdefaultKeyStatistics%2CassetProfile%2CsummaryDetail&corsDomain=finance.yahoo.com&formatted=false&symbol=RF%24B&crumb=Vn1kjkpqGe7\n",
      " 77%|███████▋  | 5953/7775 [13:29<07:44,  3.92it/s]404 Client Error: Not Found for url: https://query2.finance.yahoo.com/v10/finance/quoteSummary/RF$C?modules=financialData%2CquoteType%2CdefaultKeyStatistics%2CassetProfile%2CsummaryDetail&corsDomain=finance.yahoo.com&formatted=false&symbol=RF%24C&crumb=Vn1kjkpqGe7\n",
      " 77%|███████▋  | 5954/7775 [13:30<11:09,  2.72it/s]404 Client Error: Not Found for url: https://query2.finance.yahoo.com/v10/finance/quoteSummary/RF$E?modules=financialData%2CquoteType%2CdefaultKeyStatistics%2CassetProfile%2CsummaryDetail&corsDomain=finance.yahoo.com&formatted=false&symbol=RF%24E&crumb=Vn1kjkpqGe7\n",
      " 77%|███████▋  | 5980/7775 [13:34<02:47, 10.70it/s]404 Client Error: Not Found for url: https://query2.finance.yahoo.com/v10/finance/quoteSummary/RHE$A?modules=financialData%2CquoteType%2CdefaultKeyStatistics%2CassetProfile%2CsummaryDetail&corsDomain=finance.yahoo.com&formatted=false&symbol=RHE%24A&crumb=Vn1kjkpqGe7\n",
      " 77%|███████▋  | 5998/7775 [13:36<02:32, 11.64it/s]404 Client Error: Not Found for url: https://query2.finance.yahoo.com/v10/finance/quoteSummary/RITM$A?modules=financialData%2CquoteType%2CdefaultKeyStatistics%2CassetProfile%2CsummaryDetail&corsDomain=finance.yahoo.com&formatted=false&symbol=RITM%24A&crumb=Vn1kjkpqGe7\n",
      " 77%|███████▋  | 6000/7775 [13:37<05:10,  5.72it/s]404 Client Error: Not Found for url: https://query2.finance.yahoo.com/v10/finance/quoteSummary/RITM$B?modules=financialData%2CquoteType%2CdefaultKeyStatistics%2CassetProfile%2CsummaryDetail&corsDomain=finance.yahoo.com&formatted=false&symbol=RITM%24B&crumb=Vn1kjkpqGe7\n",
      " 77%|███████▋  | 6001/7775 [13:38<07:21,  4.02it/s]404 Client Error: Not Found for url: https://query2.finance.yahoo.com/v10/finance/quoteSummary/RITM$C?modules=financialData%2CquoteType%2CdefaultKeyStatistics%2CassetProfile%2CsummaryDetail&corsDomain=finance.yahoo.com&formatted=false&symbol=RITM%24C&crumb=Vn1kjkpqGe7\n",
      " 77%|███████▋  | 6002/7775 [13:38<09:41,  3.05it/s]404 Client Error: Not Found for url: https://query2.finance.yahoo.com/v10/finance/quoteSummary/RITM$D?modules=financialData%2CquoteType%2CdefaultKeyStatistics%2CassetProfile%2CsummaryDetail&corsDomain=finance.yahoo.com&formatted=false&symbol=RITM%24D&crumb=Vn1kjkpqGe7\n",
      " 77%|███████▋  | 6004/7775 [13:39<09:25,  3.13it/s]404 Client Error: Not Found for url: https://query2.finance.yahoo.com/v10/finance/quoteSummary/RIV$A?modules=financialData%2CquoteType%2CdefaultKeyStatistics%2CassetProfile%2CsummaryDetail&corsDomain=finance.yahoo.com&formatted=false&symbol=RIV%24A&crumb=Vn1kjkpqGe7\n",
      " 77%|███████▋  | 6007/7775 [13:40<07:40,  3.84it/s]404 Client Error: Not Found for url: https://query2.finance.yahoo.com/v10/finance/quoteSummary/RJF$B?modules=financialData%2CquoteType%2CdefaultKeyStatistics%2CassetProfile%2CsummaryDetail&corsDomain=finance.yahoo.com&formatted=false&symbol=RJF%24B&crumb=Vn1kjkpqGe7\n",
      " 77%|███████▋  | 6016/7775 [13:41<03:46,  7.77it/s]404 Client Error: Not Found for url: https://query2.finance.yahoo.com/v10/finance/quoteSummary/RLJ$A?modules=financialData%2CquoteType%2CdefaultKeyStatistics%2CassetProfile%2CsummaryDetail&corsDomain=finance.yahoo.com&formatted=false&symbol=RLJ%24A&crumb=Vn1kjkpqGe7\n",
      " 78%|███████▊  | 6036/7775 [13:44<02:29, 11.66it/s]404 Client Error: Not Found for url: https://query2.finance.yahoo.com/v10/finance/quoteSummary/RMPL$?modules=financialData%2CquoteType%2CdefaultKeyStatistics%2CassetProfile%2CsummaryDetail&corsDomain=finance.yahoo.com&formatted=false&symbol=RMPL%24&crumb=Vn1kjkpqGe7\n",
      " 78%|███████▊  | 6048/7775 [13:45<02:48, 10.27it/s]404 Client Error: Not Found for url: https://query2.finance.yahoo.com/v10/finance/quoteSummary/RNR$F?modules=financialData%2CquoteType%2CdefaultKeyStatistics%2CassetProfile%2CsummaryDetail&corsDomain=finance.yahoo.com&formatted=false&symbol=RNR%24F&crumb=Vn1kjkpqGe7\n",
      " 78%|███████▊  | 6050/7775 [13:46<05:14,  5.49it/s]404 Client Error: Not Found for url: https://query2.finance.yahoo.com/v10/finance/quoteSummary/RNR$G?modules=financialData%2CquoteType%2CdefaultKeyStatistics%2CassetProfile%2CsummaryDetail&corsDomain=finance.yahoo.com&formatted=false&symbol=RNR%24G&crumb=Vn1kjkpqGe7\n",
      " 78%|███████▊  | 6071/7775 [13:48<02:16, 12.45it/s]404 Client Error: Not Found for url: https://query2.finance.yahoo.com/v10/finance/quoteSummary/ROSS.U?modules=financialData%2CquoteType%2CdefaultKeyStatistics%2CassetProfile%2CsummaryDetail&corsDomain=finance.yahoo.com&formatted=false&symbol=ROSS.U&crumb=Vn1kjkpqGe7\n",
      "404 Client Error: Not Found for url: https://query2.finance.yahoo.com/v10/finance/quoteSummary/ROSS.W?modules=financialData%2CquoteType%2CdefaultKeyStatistics%2CassetProfile%2CsummaryDetail&corsDomain=finance.yahoo.com&formatted=false&symbol=ROSS.W&crumb=Vn1kjkpqGe7\n",
      " 78%|███████▊  | 6085/7775 [13:50<03:03,  9.22it/s]404 Client Error: Not Found for url: https://query2.finance.yahoo.com/v10/finance/quoteSummary/RRAC.U?modules=financialData%2CquoteType%2CdefaultKeyStatistics%2CassetProfile%2CsummaryDetail&corsDomain=finance.yahoo.com&formatted=false&symbol=RRAC.U&crumb=Vn1kjkpqGe7\n",
      "404 Client Error: Not Found for url: https://query2.finance.yahoo.com/v10/finance/quoteSummary/RRAC.W?modules=financialData%2CquoteType%2CdefaultKeyStatistics%2CassetProfile%2CsummaryDetail&corsDomain=finance.yahoo.com&formatted=false&symbol=RRAC.W&crumb=Vn1kjkpqGe7\n",
      " 79%|███████▉  | 6131/7775 [13:56<02:13, 12.30it/s]404 Client Error: Not Found for url: https://query2.finance.yahoo.com/v10/finance/quoteSummary/RWT$A?modules=financialData%2CquoteType%2CdefaultKeyStatistics%2CassetProfile%2CsummaryDetail&corsDomain=finance.yahoo.com&formatted=false&symbol=RWT%24A&crumb=Vn1kjkpqGe7\n",
      " 79%|███████▉  | 6155/7775 [13:59<02:07, 12.67it/s]404 Client Error: Not Found for url: https://query2.finance.yahoo.com/v10/finance/quoteSummary/SACH$A?modules=financialData%2CquoteType%2CdefaultKeyStatistics%2CassetProfile%2CsummaryDetail&corsDomain=finance.yahoo.com&formatted=false&symbol=SACH%24A&crumb=Vn1kjkpqGe7\n",
      " 80%|███████▉  | 6191/7775 [14:02<02:01, 13.04it/s]404 Client Error: Not Found for url: https://query2.finance.yahoo.com/v10/finance/quoteSummary/SB$C?modules=financialData%2CquoteType%2CdefaultKeyStatistics%2CassetProfile%2CsummaryDetail&corsDomain=finance.yahoo.com&formatted=false&symbol=SB%24C&crumb=Vn1kjkpqGe7\n",
      "404 Client Error: Not Found for url: https://query2.finance.yahoo.com/v10/finance/quoteSummary/SB$D?modules=financialData%2CquoteType%2CdefaultKeyStatistics%2CassetProfile%2CsummaryDetail&corsDomain=finance.yahoo.com&formatted=false&symbol=SB%24D&crumb=Vn1kjkpqGe7\n",
      " 80%|███████▉  | 6197/7775 [14:04<04:44,  5.55it/s]404 Client Error: Not Found for url: https://query2.finance.yahoo.com/v10/finance/quoteSummary/SBEV.W?modules=financialData%2CquoteType%2CdefaultKeyStatistics%2CassetProfile%2CsummaryDetail&corsDomain=finance.yahoo.com&formatted=false&symbol=SBEV.W&crumb=Vn1kjkpqGe7\n",
      " 80%|███████▉  | 6214/7775 [14:06<02:19, 11.17it/s]404 Client Error: Not Found for url: https://query2.finance.yahoo.com/v10/finance/quoteSummary/SBXC.U?modules=financialData%2CquoteType%2CdefaultKeyStatistics%2CassetProfile%2CsummaryDetail&corsDomain=finance.yahoo.com&formatted=false&symbol=SBXC.U&crumb=Vn1kjkpqGe7\n",
      " 80%|███████▉  | 6216/7775 [14:07<04:15,  6.09it/s]404 Client Error: Not Found for url: https://query2.finance.yahoo.com/v10/finance/quoteSummary/SBXC.W?modules=financialData%2CquoteType%2CdefaultKeyStatistics%2CassetProfile%2CsummaryDetail&corsDomain=finance.yahoo.com&formatted=false&symbol=SBXC.W&crumb=Vn1kjkpqGe7\n",
      " 80%|████████  | 6225/7775 [14:08<03:14,  7.96it/s]404 Client Error: Not Found for url: https://query2.finance.yahoo.com/v10/finance/quoteSummary/SCE$G?modules=financialData%2CquoteType%2CdefaultKeyStatistics%2CassetProfile%2CsummaryDetail&corsDomain=finance.yahoo.com&formatted=false&symbol=SCE%24G&crumb=Vn1kjkpqGe7\n",
      "404 Client Error: Not Found for url: https://query2.finance.yahoo.com/v10/finance/quoteSummary/SCE$H?modules=financialData%2CquoteType%2CdefaultKeyStatistics%2CassetProfile%2CsummaryDetail&corsDomain=finance.yahoo.com&formatted=false&symbol=SCE%24H&crumb=Vn1kjkpqGe7\n",
      " 80%|████████  | 6227/7775 [14:10<07:41,  3.35it/s]404 Client Error: Not Found for url: https://query2.finance.yahoo.com/v10/finance/quoteSummary/SCE$J?modules=financialData%2CquoteType%2CdefaultKeyStatistics%2CassetProfile%2CsummaryDetail&corsDomain=finance.yahoo.com&formatted=false&symbol=SCE%24J&crumb=Vn1kjkpqGe7\n",
      " 80%|████████  | 6228/7775 [14:11<12:59,  1.98it/s]404 Client Error: Not Found for url: https://query2.finance.yahoo.com/v10/finance/quoteSummary/SCE$K?modules=financialData%2CquoteType%2CdefaultKeyStatistics%2CassetProfile%2CsummaryDetail&corsDomain=finance.yahoo.com&formatted=false&symbol=SCE%24K&crumb=Vn1kjkpqGe7\n",
      " 80%|████████  | 6229/7775 [14:12<14:05,  1.83it/s]404 Client Error: Not Found for url: https://query2.finance.yahoo.com/v10/finance/quoteSummary/SCE$L?modules=financialData%2CquoteType%2CdefaultKeyStatistics%2CassetProfile%2CsummaryDetail&corsDomain=finance.yahoo.com&formatted=false&symbol=SCE%24L&crumb=Vn1kjkpqGe7\n",
      " 80%|████████  | 6230/7775 [14:12<14:31,  1.77it/s]404 Client Error: Not Found for url: https://query2.finance.yahoo.com/v10/finance/quoteSummary/SCE$M?modules=financialData%2CquoteType%2CdefaultKeyStatistics%2CassetProfile%2CsummaryDetail&corsDomain=finance.yahoo.com&formatted=false&symbol=SCE%24M&crumb=Vn1kjkpqGe7\n",
      " 80%|████████  | 6233/7775 [14:13<09:55,  2.59it/s]404 Client Error: Not Found for url: https://query2.finance.yahoo.com/v10/finance/quoteSummary/SCHW$D?modules=financialData%2CquoteType%2CdefaultKeyStatistics%2CassetProfile%2CsummaryDetail&corsDomain=finance.yahoo.com&formatted=false&symbol=SCHW%24D&crumb=Vn1kjkpqGe7\n",
      " 80%|████████  | 6234/7775 [14:14<12:35,  2.04it/s]404 Client Error: Not Found for url: https://query2.finance.yahoo.com/v10/finance/quoteSummary/SCHW$J?modules=financialData%2CquoteType%2CdefaultKeyStatistics%2CassetProfile%2CsummaryDetail&corsDomain=finance.yahoo.com&formatted=false&symbol=SCHW%24J&crumb=Vn1kjkpqGe7\n",
      " 81%|████████  | 6265/7775 [14:17<02:14, 11.22it/s]404 Client Error: Not Found for url: https://query2.finance.yahoo.com/v10/finance/quoteSummary/SEAL$A?modules=financialData%2CquoteType%2CdefaultKeyStatistics%2CassetProfile%2CsummaryDetail&corsDomain=finance.yahoo.com&formatted=false&symbol=SEAL%24A&crumb=Vn1kjkpqGe7\n",
      " 81%|████████  | 6267/7775 [14:18<04:16,  5.87it/s]404 Client Error: Not Found for url: https://query2.finance.yahoo.com/v10/finance/quoteSummary/SEAL$B?modules=financialData%2CquoteType%2CdefaultKeyStatistics%2CassetProfile%2CsummaryDetail&corsDomain=finance.yahoo.com&formatted=false&symbol=SEAL%24B&crumb=Vn1kjkpqGe7\n",
      " 81%|████████  | 6274/7775 [14:19<03:24,  7.33it/s]404 Client Error: Not Found for url: https://query2.finance.yahoo.com/v10/finance/quoteSummary/SEDA.U?modules=financialData%2CquoteType%2CdefaultKeyStatistics%2CassetProfile%2CsummaryDetail&corsDomain=finance.yahoo.com&formatted=false&symbol=SEDA.U&crumb=Vn1kjkpqGe7\n",
      "404 Client Error: Not Found for url: https://query2.finance.yahoo.com/v10/finance/quoteSummary/SEDA.W?modules=financialData%2CquoteType%2CdefaultKeyStatistics%2CassetProfile%2CsummaryDetail&corsDomain=finance.yahoo.com&formatted=false&symbol=SEDA.W&crumb=Vn1kjkpqGe7\n",
      " 81%|████████  | 6293/7775 [14:22<02:05, 11.78it/s]404 Client Error: Not Found for url: https://query2.finance.yahoo.com/v10/finance/quoteSummary/SES.W?modules=financialData%2CquoteType%2CdefaultKeyStatistics%2CassetProfile%2CsummaryDetail&corsDomain=finance.yahoo.com&formatted=false&symbol=SES.W&crumb=Vn1kjkpqGe7\n",
      " 81%|████████  | 6297/7775 [14:23<04:05,  6.03it/s]404 Client Error: Not Found for url: https://query2.finance.yahoo.com/v10/finance/quoteSummary/SF$B?modules=financialData%2CquoteType%2CdefaultKeyStatistics%2CassetProfile%2CsummaryDetail&corsDomain=finance.yahoo.com&formatted=false&symbol=SF%24B&crumb=Vn1kjkpqGe7\n",
      "404 Client Error: Not Found for url: https://query2.finance.yahoo.com/v10/finance/quoteSummary/SF$C?modules=financialData%2CquoteType%2CdefaultKeyStatistics%2CassetProfile%2CsummaryDetail&corsDomain=finance.yahoo.com&formatted=false&symbol=SF%24C&crumb=Vn1kjkpqGe7\n",
      " 81%|████████  | 6299/7775 [14:25<08:19,  2.95it/s]404 Client Error: Not Found for url: https://query2.finance.yahoo.com/v10/finance/quoteSummary/SF$D?modules=financialData%2CquoteType%2CdefaultKeyStatistics%2CassetProfile%2CsummaryDetail&corsDomain=finance.yahoo.com&formatted=false&symbol=SF%24D&crumb=Vn1kjkpqGe7\n",
      " 81%|████████▏ | 6329/7775 [14:28<02:17, 10.52it/s]404 Client Error: Not Found for url: https://query2.finance.yahoo.com/v10/finance/quoteSummary/SHAP.U?modules=financialData%2CquoteType%2CdefaultKeyStatistics%2CassetProfile%2CsummaryDetail&corsDomain=finance.yahoo.com&formatted=false&symbol=SHAP.U&crumb=Vn1kjkpqGe7\n",
      " 81%|████████▏ | 6331/7775 [14:29<04:49,  4.98it/s]404 Client Error: Not Found for url: https://query2.finance.yahoo.com/v10/finance/quoteSummary/SHAP.W?modules=financialData%2CquoteType%2CdefaultKeyStatistics%2CassetProfile%2CsummaryDetail&corsDomain=finance.yahoo.com&formatted=false&symbol=SHAP.W&crumb=Vn1kjkpqGe7\n",
      " 82%|████████▏ | 6346/7775 [14:31<02:49,  8.43it/s]404 Client Error: Not Found for url: https://query2.finance.yahoo.com/v10/finance/quoteSummary/SHO$H?modules=financialData%2CquoteType%2CdefaultKeyStatistics%2CassetProfile%2CsummaryDetail&corsDomain=finance.yahoo.com&formatted=false&symbol=SHO%24H&crumb=Vn1kjkpqGe7\n",
      " 82%|████████▏ | 6348/7775 [14:32<06:11,  3.84it/s]404 Client Error: Not Found for url: https://query2.finance.yahoo.com/v10/finance/quoteSummary/SHO$I?modules=financialData%2CquoteType%2CdefaultKeyStatistics%2CassetProfile%2CsummaryDetail&corsDomain=finance.yahoo.com&formatted=false&symbol=SHO%24I&crumb=Vn1kjkpqGe7\n",
      " 82%|████████▏ | 6381/7775 [14:36<02:24,  9.65it/s]404 Client Error: Not Found for url: https://query2.finance.yahoo.com/v10/finance/quoteSummary/SITC$A?modules=financialData%2CquoteType%2CdefaultKeyStatistics%2CassetProfile%2CsummaryDetail&corsDomain=finance.yahoo.com&formatted=false&symbol=SITC%24A&crumb=Vn1kjkpqGe7\n",
      " 82%|████████▏ | 6402/7775 [14:39<03:01,  7.56it/s]404 Client Error: Not Found for url: https://query2.finance.yahoo.com/v10/finance/quoteSummary/SKYH.W?modules=financialData%2CquoteType%2CdefaultKeyStatistics%2CassetProfile%2CsummaryDetail&corsDomain=finance.yahoo.com&formatted=false&symbol=SKYH.W&crumb=Vn1kjkpqGe7\n",
      " 83%|████████▎ | 6421/7775 [14:42<02:24,  9.34it/s]404 Client Error: Not Found for url: https://query2.finance.yahoo.com/v10/finance/quoteSummary/SLG$I?modules=financialData%2CquoteType%2CdefaultKeyStatistics%2CassetProfile%2CsummaryDetail&corsDomain=finance.yahoo.com&formatted=false&symbol=SLG%24I&crumb=Vn1kjkpqGe7\n",
      " 83%|████████▎ | 6431/7775 [14:44<02:16,  9.86it/s]404 Client Error: Not Found for url: https://query2.finance.yahoo.com/v10/finance/quoteSummary/SLND.W?modules=financialData%2CquoteType%2CdefaultKeyStatistics%2CassetProfile%2CsummaryDetail&corsDomain=finance.yahoo.com&formatted=false&symbol=SLND.W&crumb=Vn1kjkpqGe7\n",
      " 83%|████████▎ | 6462/7775 [14:48<02:24,  9.06it/s]404 Client Error: Not Found for url: https://query2.finance.yahoo.com/v10/finance/quoteSummary/SMR.W?modules=financialData%2CquoteType%2CdefaultKeyStatistics%2CassetProfile%2CsummaryDetail&corsDomain=finance.yahoo.com&formatted=false&symbol=SMR.W&crumb=Vn1kjkpqGe7\n",
      " 84%|████████▎ | 6501/7775 [14:53<02:10,  9.74it/s]404 Client Error: Not Found for url: https://query2.finance.yahoo.com/v10/finance/quoteSummary/SNV$D?modules=financialData%2CquoteType%2CdefaultKeyStatistics%2CassetProfile%2CsummaryDetail&corsDomain=finance.yahoo.com&formatted=false&symbol=SNV%24D&crumb=Vn1kjkpqGe7\n",
      " 84%|████████▎ | 6503/7775 [14:54<04:34,  4.63it/s]404 Client Error: Not Found for url: https://query2.finance.yahoo.com/v10/finance/quoteSummary/SNV$E?modules=financialData%2CquoteType%2CdefaultKeyStatistics%2CassetProfile%2CsummaryDetail&corsDomain=finance.yahoo.com&formatted=false&symbol=SNV%24E&crumb=Vn1kjkpqGe7\n",
      " 84%|████████▎ | 6508/7775 [14:55<04:31,  4.66it/s]404 Client Error: Not Found for url: https://query2.finance.yahoo.com/v10/finance/quoteSummary/SOAR.W?modules=financialData%2CquoteType%2CdefaultKeyStatistics%2CassetProfile%2CsummaryDetail&corsDomain=finance.yahoo.com&formatted=false&symbol=SOAR.W&crumb=Vn1kjkpqGe7\n",
      " 84%|████████▍ | 6542/7775 [14:59<01:49, 11.23it/s]404 Client Error: Not Found for url: https://query2.finance.yahoo.com/v10/finance/quoteSummary/SPE$C?modules=financialData%2CquoteType%2CdefaultKeyStatistics%2CassetProfile%2CsummaryDetail&corsDomain=finance.yahoo.com&formatted=false&symbol=SPE%24C&crumb=Vn1kjkpqGe7\n",
      " 84%|████████▍ | 6547/7775 [15:00<02:54,  7.04it/s]404 Client Error: Not Found for url: https://query2.finance.yahoo.com/v10/finance/quoteSummary/SPG$J?modules=financialData%2CquoteType%2CdefaultKeyStatistics%2CassetProfile%2CsummaryDetail&corsDomain=finance.yahoo.com&formatted=false&symbol=SPG%24J&crumb=Vn1kjkpqGe7\n",
      " 84%|████████▍ | 6559/7775 [15:02<02:18,  8.76it/s]404 Client Error: Not Found for url: https://query2.finance.yahoo.com/v10/finance/quoteSummary/SPLP$A?modules=financialData%2CquoteType%2CdefaultKeyStatistics%2CassetProfile%2CsummaryDetail&corsDomain=finance.yahoo.com&formatted=false&symbol=SPLP%24A&crumb=Vn1kjkpqGe7\n",
      " 84%|████████▍ | 6562/7775 [15:03<03:50,  5.26it/s]404 Client Error: Not Found for url: https://query2.finance.yahoo.com/v10/finance/quoteSummary/SPNT$B?modules=financialData%2CquoteType%2CdefaultKeyStatistics%2CassetProfile%2CsummaryDetail&corsDomain=finance.yahoo.com&formatted=false&symbol=SPNT%24B&crumb=Vn1kjkpqGe7\n",
      " 85%|████████▍ | 6587/7775 [15:06<01:51, 10.67it/s]404 Client Error: Not Found for url: https://query2.finance.yahoo.com/v10/finance/quoteSummary/SR$A?modules=financialData%2CquoteType%2CdefaultKeyStatistics%2CassetProfile%2CsummaryDetail&corsDomain=finance.yahoo.com&formatted=false&symbol=SR%24A&crumb=Vn1kjkpqGe7\n",
      " 85%|████████▍ | 6591/7775 [15:07<03:22,  5.86it/s]404 Client Error: Not Found for url: https://query2.finance.yahoo.com/v10/finance/quoteSummary/SRC$A?modules=financialData%2CquoteType%2CdefaultKeyStatistics%2CassetProfile%2CsummaryDetail&corsDomain=finance.yahoo.com&formatted=false&symbol=SRC%24A&crumb=Vn1kjkpqGe7\n",
      " 85%|████████▍ | 6599/7775 [15:08<02:43,  7.18it/s]404 Client Error: Not Found for url: https://query2.finance.yahoo.com/v10/finance/quoteSummary/SRG$A?modules=financialData%2CquoteType%2CdefaultKeyStatistics%2CassetProfile%2CsummaryDetail&corsDomain=finance.yahoo.com&formatted=false&symbol=SRG%24A&crumb=Vn1kjkpqGe7\n",
      " 85%|████████▌ | 6623/7775 [15:11<01:44, 11.06it/s]404 Client Error: Not Found for url: https://query2.finance.yahoo.com/v10/finance/quoteSummary/SST.W?modules=financialData%2CquoteType%2CdefaultKeyStatistics%2CassetProfile%2CsummaryDetail&corsDomain=finance.yahoo.com&formatted=false&symbol=SST.W&crumb=Vn1kjkpqGe7\n",
      " 86%|████████▌ | 6673/7775 [15:17<02:10,  8.46it/s]404 Client Error: Not Found for url: https://query2.finance.yahoo.com/v10/finance/quoteSummary/STT$D?modules=financialData%2CquoteType%2CdefaultKeyStatistics%2CassetProfile%2CsummaryDetail&corsDomain=finance.yahoo.com&formatted=false&symbol=STT%24D&crumb=Vn1kjkpqGe7\n",
      " 86%|████████▌ | 6675/7775 [15:18<05:56,  3.08it/s]404 Client Error: Not Found for url: https://query2.finance.yahoo.com/v10/finance/quoteSummary/STT$G?modules=financialData%2CquoteType%2CdefaultKeyStatistics%2CassetProfile%2CsummaryDetail&corsDomain=finance.yahoo.com&formatted=false&symbol=STT%24G&crumb=Vn1kjkpqGe7\n",
      " 87%|████████▋ | 6738/7775 [15:26<01:52,  9.23it/s]404 Client Error: Not Found for url: https://query2.finance.yahoo.com/v10/finance/quoteSummary/SYF$A?modules=financialData%2CquoteType%2CdefaultKeyStatistics%2CassetProfile%2CsummaryDetail&corsDomain=finance.yahoo.com&formatted=false&symbol=SYF%24A&crumb=Vn1kjkpqGe7\n",
      " 87%|████████▋ | 6754/7775 [15:28<02:11,  7.79it/s]404 Client Error: Not Found for url: https://query2.finance.yahoo.com/v10/finance/quoteSummary/T$A?modules=financialData%2CquoteType%2CdefaultKeyStatistics%2CassetProfile%2CsummaryDetail&corsDomain=finance.yahoo.com&formatted=false&symbol=T%24A&crumb=Vn1kjkpqGe7\n",
      " 87%|████████▋ | 6756/7775 [15:30<08:08,  2.09it/s]404 Client Error: Not Found for url: https://query2.finance.yahoo.com/v10/finance/quoteSummary/T$C?modules=financialData%2CquoteType%2CdefaultKeyStatistics%2CassetProfile%2CsummaryDetail&corsDomain=finance.yahoo.com&formatted=false&symbol=T%24C&crumb=Vn1kjkpqGe7\n",
      " 87%|████████▋ | 6767/7775 [15:32<02:14,  7.51it/s]404 Client Error: Not Found for url: https://query2.finance.yahoo.com/v10/finance/quoteSummary/TAP.A?modules=financialData%2CquoteType%2CdefaultKeyStatistics%2CassetProfile%2CsummaryDetail&corsDomain=finance.yahoo.com&formatted=false&symbol=TAP.A&crumb=Vn1kjkpqGe7\n",
      " 87%|████████▋ | 6802/7775 [15:37<01:35, 10.16it/s]404 Client Error: Not Found for url: https://query2.finance.yahoo.com/v10/finance/quoteSummary/TCOA.U?modules=financialData%2CquoteType%2CdefaultKeyStatistics%2CassetProfile%2CsummaryDetail&corsDomain=finance.yahoo.com&formatted=false&symbol=TCOA.U&crumb=Vn1kjkpqGe7\n",
      " 88%|████████▊ | 6804/7775 [15:37<03:03,  5.30it/s]404 Client Error: Not Found for url: https://query2.finance.yahoo.com/v10/finance/quoteSummary/TCOA.W?modules=financialData%2CquoteType%2CdefaultKeyStatistics%2CassetProfile%2CsummaryDetail&corsDomain=finance.yahoo.com&formatted=false&symbol=TCOA.W&crumb=Vn1kjkpqGe7\n",
      " 88%|████████▊ | 6820/7775 [15:40<01:40,  9.48it/s]404 Client Error: Not Found for url: https://query2.finance.yahoo.com/v10/finance/quoteSummary/TDS$U?modules=financialData%2CquoteType%2CdefaultKeyStatistics%2CassetProfile%2CsummaryDetail&corsDomain=finance.yahoo.com&formatted=false&symbol=TDS%24U&crumb=Vn1kjkpqGe7\n",
      "404 Client Error: Not Found for url: https://query2.finance.yahoo.com/v10/finance/quoteSummary/TDS$V?modules=financialData%2CquoteType%2CdefaultKeyStatistics%2CassetProfile%2CsummaryDetail&corsDomain=finance.yahoo.com&formatted=false&symbol=TDS%24V&crumb=Vn1kjkpqGe7\n",
      " 88%|████████▊ | 6823/7775 [15:42<04:45,  3.33it/s]404 Client Error: Not Found for url: https://query2.finance.yahoo.com/v10/finance/quoteSummary/TDW.W?modules=financialData%2CquoteType%2CdefaultKeyStatistics%2CassetProfile%2CsummaryDetail&corsDomain=finance.yahoo.com&formatted=false&symbol=TDW.W&crumb=Vn1kjkpqGe7\n",
      " 88%|████████▊ | 6850/7775 [15:45<01:28, 10.47it/s]404 Client Error: Not Found for url: https://query2.finance.yahoo.com/v10/finance/quoteSummary/TFC$I?modules=financialData%2CquoteType%2CdefaultKeyStatistics%2CassetProfile%2CsummaryDetail&corsDomain=finance.yahoo.com&formatted=false&symbol=TFC%24I&crumb=Vn1kjkpqGe7\n",
      " 88%|████████▊ | 6852/7775 [15:46<05:11,  2.96it/s]404 Client Error: Not Found for url: https://query2.finance.yahoo.com/v10/finance/quoteSummary/TFC$O?modules=financialData%2CquoteType%2CdefaultKeyStatistics%2CassetProfile%2CsummaryDetail&corsDomain=finance.yahoo.com&formatted=false&symbol=TFC%24O&crumb=Vn1kjkpqGe7\n",
      " 88%|████████▊ | 6853/7775 [15:47<06:31,  2.35it/s]404 Client Error: Not Found for url: https://query2.finance.yahoo.com/v10/finance/quoteSummary/TFC$R?modules=financialData%2CquoteType%2CdefaultKeyStatistics%2CassetProfile%2CsummaryDetail&corsDomain=finance.yahoo.com&formatted=false&symbol=TFC%24R&crumb=Vn1kjkpqGe7\n",
      " 88%|████████▊ | 6869/7775 [15:50<01:46,  8.53it/s]404 Client Error: Not Found for url: https://query2.finance.yahoo.com/v10/finance/quoteSummary/TGH$A?modules=financialData%2CquoteType%2CdefaultKeyStatistics%2CassetProfile%2CsummaryDetail&corsDomain=finance.yahoo.com&formatted=false&symbol=TGH%24A&crumb=Vn1kjkpqGe7\n",
      " 88%|████████▊ | 6870/7775 [15:51<04:02,  3.73it/s]404 Client Error: Not Found for url: https://query2.finance.yahoo.com/v10/finance/quoteSummary/TGH$B?modules=financialData%2CquoteType%2CdefaultKeyStatistics%2CassetProfile%2CsummaryDetail&corsDomain=finance.yahoo.com&formatted=false&symbol=TGH%24B&crumb=Vn1kjkpqGe7\n",
      " 89%|████████▉ | 6958/7775 [16:00<01:19, 10.28it/s]404 Client Error: Not Found for url: https://query2.finance.yahoo.com/v10/finance/quoteSummary/TNP$E?modules=financialData%2CquoteType%2CdefaultKeyStatistics%2CassetProfile%2CsummaryDetail&corsDomain=finance.yahoo.com&formatted=false&symbol=TNP%24E&crumb=Vn1kjkpqGe7\n",
      " 90%|████████▉ | 6960/7775 [16:02<05:35,  2.43it/s]404 Client Error: Not Found for url: https://query2.finance.yahoo.com/v10/finance/quoteSummary/TNP$F?modules=financialData%2CquoteType%2CdefaultKeyStatistics%2CassetProfile%2CsummaryDetail&corsDomain=finance.yahoo.com&formatted=false&symbol=TNP%24F&crumb=Vn1kjkpqGe7\n",
      " 90%|█████████ | 7003/7775 [16:06<00:59, 12.91it/s]404 Client Error: Not Found for url: https://query2.finance.yahoo.com/v10/finance/quoteSummary/TRIS.U?modules=financialData%2CquoteType%2CdefaultKeyStatistics%2CassetProfile%2CsummaryDetail&corsDomain=finance.yahoo.com&formatted=false&symbol=TRIS.U&crumb=Vn1kjkpqGe7\n",
      "404 Client Error: Not Found for url: https://query2.finance.yahoo.com/v10/finance/quoteSummary/TRIS.W?modules=financialData%2CquoteType%2CdefaultKeyStatistics%2CassetProfile%2CsummaryDetail&corsDomain=finance.yahoo.com&formatted=false&symbol=TRIS.W&crumb=Vn1kjkpqGe7\n",
      " 90%|█████████ | 7023/7775 [16:09<01:02, 12.11it/s]404 Client Error: Not Found for url: https://query2.finance.yahoo.com/v10/finance/quoteSummary/TRTL.U?modules=financialData%2CquoteType%2CdefaultKeyStatistics%2CassetProfile%2CsummaryDetail&corsDomain=finance.yahoo.com&formatted=false&symbol=TRTL.U&crumb=Vn1kjkpqGe7\n",
      " 90%|█████████ | 7025/7775 [16:10<02:01,  6.16it/s]404 Client Error: Not Found for url: https://query2.finance.yahoo.com/v10/finance/quoteSummary/TRTL.W?modules=financialData%2CquoteType%2CdefaultKeyStatistics%2CassetProfile%2CsummaryDetail&corsDomain=finance.yahoo.com&formatted=false&symbol=TRTL.W&crumb=Vn1kjkpqGe7\n",
      " 90%|█████████ | 7026/7775 [16:11<03:41,  3.39it/s]404 Client Error: Not Found for url: https://query2.finance.yahoo.com/v10/finance/quoteSummary/TRTN$A?modules=financialData%2CquoteType%2CdefaultKeyStatistics%2CassetProfile%2CsummaryDetail&corsDomain=finance.yahoo.com&formatted=false&symbol=TRTN%24A&crumb=Vn1kjkpqGe7\n",
      " 90%|█████████ | 7027/7775 [16:11<04:33,  2.73it/s]404 Client Error: Not Found for url: https://query2.finance.yahoo.com/v10/finance/quoteSummary/TRTN$B?modules=financialData%2CquoteType%2CdefaultKeyStatistics%2CassetProfile%2CsummaryDetail&corsDomain=finance.yahoo.com&formatted=false&symbol=TRTN%24B&crumb=Vn1kjkpqGe7\n",
      " 90%|█████████ | 7028/7775 [16:12<05:22,  2.32it/s]404 Client Error: Not Found for url: https://query2.finance.yahoo.com/v10/finance/quoteSummary/TRTN$C?modules=financialData%2CquoteType%2CdefaultKeyStatistics%2CassetProfile%2CsummaryDetail&corsDomain=finance.yahoo.com&formatted=false&symbol=TRTN%24C&crumb=Vn1kjkpqGe7\n",
      " 90%|█████████ | 7029/7775 [16:13<06:31,  1.90it/s]404 Client Error: Not Found for url: https://query2.finance.yahoo.com/v10/finance/quoteSummary/TRTN$D?modules=financialData%2CquoteType%2CdefaultKeyStatistics%2CassetProfile%2CsummaryDetail&corsDomain=finance.yahoo.com&formatted=false&symbol=TRTN%24D&crumb=Vn1kjkpqGe7\n",
      " 90%|█████████ | 7030/7775 [16:13<06:57,  1.79it/s]404 Client Error: Not Found for url: https://query2.finance.yahoo.com/v10/finance/quoteSummary/TRTN$E?modules=financialData%2CquoteType%2CdefaultKeyStatistics%2CassetProfile%2CsummaryDetail&corsDomain=finance.yahoo.com&formatted=false&symbol=TRTN%24E&crumb=Vn1kjkpqGe7\n",
      " 90%|█████████ | 7031/7775 [16:14<07:22,  1.68it/s]404 Client Error: Not Found for url: https://query2.finance.yahoo.com/v10/finance/quoteSummary/TRTX$C?modules=financialData%2CquoteType%2CdefaultKeyStatistics%2CassetProfile%2CsummaryDetail&corsDomain=finance.yahoo.com&formatted=false&symbol=TRTX%24C&crumb=Vn1kjkpqGe7\n",
      " 91%|█████████ | 7091/7775 [16:20<00:51, 13.24it/s]404 Client Error: Not Found for url: https://query2.finance.yahoo.com/v10/finance/quoteSummary/TWO$A?modules=financialData%2CquoteType%2CdefaultKeyStatistics%2CassetProfile%2CsummaryDetail&corsDomain=finance.yahoo.com&formatted=false&symbol=TWO%24A&crumb=Vn1kjkpqGe7\n",
      " 91%|█████████ | 7093/7775 [16:20<01:47,  6.34it/s]404 Client Error: Not Found for url: https://query2.finance.yahoo.com/v10/finance/quoteSummary/TWO$B?modules=financialData%2CquoteType%2CdefaultKeyStatistics%2CassetProfile%2CsummaryDetail&corsDomain=finance.yahoo.com&formatted=false&symbol=TWO%24B&crumb=Vn1kjkpqGe7\n",
      "404 Client Error: Not Found for url: https://query2.finance.yahoo.com/v10/finance/quoteSummary/TWO$C?modules=financialData%2CquoteType%2CdefaultKeyStatistics%2CassetProfile%2CsummaryDetail&corsDomain=finance.yahoo.com&formatted=false&symbol=TWO%24C&crumb=Vn1kjkpqGe7\n",
      " 91%|█████████▏| 7105/7775 [16:22<01:15,  8.87it/s]404 Client Error: Not Found for url: https://query2.finance.yahoo.com/v10/finance/quoteSummary/TY$?modules=financialData%2CquoteType%2CdefaultKeyStatistics%2CassetProfile%2CsummaryDetail&corsDomain=finance.yahoo.com&formatted=false&symbol=TY%24&crumb=Vn1kjkpqGe7\n",
      " 92%|█████████▏| 7163/7775 [16:28<00:48, 12.70it/s]404 Client Error: Not Found for url: https://query2.finance.yahoo.com/v10/finance/quoteSummary/UMH$D?modules=financialData%2CquoteType%2CdefaultKeyStatistics%2CassetProfile%2CsummaryDetail&corsDomain=finance.yahoo.com&formatted=false&symbol=UMH%24D&crumb=Vn1kjkpqGe7\n",
      " 93%|█████████▎| 7195/7775 [16:32<00:50, 11.42it/s]404 Client Error: Not Found for url: https://query2.finance.yahoo.com/v10/finance/quoteSummary/USB$A?modules=financialData%2CquoteType%2CdefaultKeyStatistics%2CassetProfile%2CsummaryDetail&corsDomain=finance.yahoo.com&formatted=false&symbol=USB%24A&crumb=Vn1kjkpqGe7\n",
      " 93%|█████████▎| 7197/7775 [16:33<01:42,  5.65it/s]404 Client Error: Not Found for url: https://query2.finance.yahoo.com/v10/finance/quoteSummary/USB$H?modules=financialData%2CquoteType%2CdefaultKeyStatistics%2CassetProfile%2CsummaryDetail&corsDomain=finance.yahoo.com&formatted=false&symbol=USB%24H&crumb=Vn1kjkpqGe7\n",
      " 93%|█████████▎| 7198/7775 [16:34<02:45,  3.48it/s]404 Client Error: Not Found for url: https://query2.finance.yahoo.com/v10/finance/quoteSummary/USB$P?modules=financialData%2CquoteType%2CdefaultKeyStatistics%2CassetProfile%2CsummaryDetail&corsDomain=finance.yahoo.com&formatted=false&symbol=USB%24P&crumb=Vn1kjkpqGe7\n",
      " 93%|█████████▎| 7199/7775 [16:34<03:28,  2.77it/s]404 Client Error: Not Found for url: https://query2.finance.yahoo.com/v10/finance/quoteSummary/USB$Q?modules=financialData%2CquoteType%2CdefaultKeyStatistics%2CassetProfile%2CsummaryDetail&corsDomain=finance.yahoo.com&formatted=false&symbol=USB%24Q&crumb=Vn1kjkpqGe7\n",
      " 93%|█████████▎| 7200/7775 [16:35<04:04,  2.35it/s]404 Client Error: Not Found for url: https://query2.finance.yahoo.com/v10/finance/quoteSummary/USB$R?modules=financialData%2CquoteType%2CdefaultKeyStatistics%2CassetProfile%2CsummaryDetail&corsDomain=finance.yahoo.com&formatted=false&symbol=USB%24R&crumb=Vn1kjkpqGe7\n",
      " 93%|█████████▎| 7201/7775 [16:36<04:43,  2.03it/s]404 Client Error: Not Found for url: https://query2.finance.yahoo.com/v10/finance/quoteSummary/USB$S?modules=financialData%2CquoteType%2CdefaultKeyStatistics%2CassetProfile%2CsummaryDetail&corsDomain=finance.yahoo.com&formatted=false&symbol=USB%24S&crumb=Vn1kjkpqGe7\n",
      " 93%|█████████▎| 7231/7775 [16:39<00:54,  9.96it/s]404 Client Error: Not Found for url: https://query2.finance.yahoo.com/v10/finance/quoteSummary/UWMC.W?modules=financialData%2CquoteType%2CdefaultKeyStatistics%2CassetProfile%2CsummaryDetail&corsDomain=finance.yahoo.com&formatted=false&symbol=UWMC.W&crumb=Vn1kjkpqGe7\n",
      " 93%|█████████▎| 7239/7775 [16:41<01:16,  7.03it/s]404 Client Error: Not Found for url: https://query2.finance.yahoo.com/v10/finance/quoteSummary/VAL.W?modules=financialData%2CquoteType%2CdefaultKeyStatistics%2CassetProfile%2CsummaryDetail&corsDomain=finance.yahoo.com&formatted=false&symbol=VAL.W&crumb=Vn1kjkpqGe7\n",
      " 93%|█████████▎| 7261/7775 [16:44<00:48, 10.58it/s]404 Client Error: Not Found for url: https://query2.finance.yahoo.com/v10/finance/quoteSummary/VCXB.U?modules=financialData%2CquoteType%2CdefaultKeyStatistics%2CassetProfile%2CsummaryDetail&corsDomain=finance.yahoo.com&formatted=false&symbol=VCXB.U&crumb=Vn1kjkpqGe7\n",
      "404 Client Error: Not Found for url: https://query2.finance.yahoo.com/v10/finance/quoteSummary/VCXB.W?modules=financialData%2CquoteType%2CdefaultKeyStatistics%2CassetProfile%2CsummaryDetail&corsDomain=finance.yahoo.com&formatted=false&symbol=VCXB.W&crumb=Vn1kjkpqGe7\n",
      " 94%|█████████▍| 7292/7775 [16:48<00:51,  9.42it/s]404 Client Error: Not Found for url: https://query2.finance.yahoo.com/v10/finance/quoteSummary/VHAQ.R?modules=financialData%2CquoteType%2CdefaultKeyStatistics%2CassetProfile%2CsummaryDetail&corsDomain=finance.yahoo.com&formatted=false&symbol=VHAQ.R&crumb=Vn1kjkpqGe7\n",
      " 94%|█████████▍| 7293/7775 [16:49<01:54,  4.22it/s]404 Client Error: Not Found for url: https://query2.finance.yahoo.com/v10/finance/quoteSummary/VHAQ.U?modules=financialData%2CquoteType%2CdefaultKeyStatistics%2CassetProfile%2CsummaryDetail&corsDomain=finance.yahoo.com&formatted=false&symbol=VHAQ.U&crumb=Vn1kjkpqGe7\n",
      " 94%|█████████▍| 7326/7775 [16:53<00:46,  9.71it/s]404 Client Error: Not Found for url: https://query2.finance.yahoo.com/v10/finance/quoteSummary/VLD.W?modules=financialData%2CquoteType%2CdefaultKeyStatistics%2CassetProfile%2CsummaryDetail&corsDomain=finance.yahoo.com&formatted=false&symbol=VLD.W&crumb=Vn1kjkpqGe7\n",
      " 94%|█████████▍| 7330/7775 [16:55<01:32,  4.80it/s]404 Client Error: Not Found for url: https://query2.finance.yahoo.com/v10/finance/quoteSummary/VLN.W?modules=financialData%2CquoteType%2CdefaultKeyStatistics%2CassetProfile%2CsummaryDetail&corsDomain=finance.yahoo.com&formatted=false&symbol=VLN.W&crumb=Vn1kjkpqGe7\n",
      " 95%|█████████▍| 7350/7775 [16:59<00:40, 10.53it/s]404 Client Error: Not Found for url: https://query2.finance.yahoo.com/v10/finance/quoteSummary/VNO$L?modules=financialData%2CquoteType%2CdefaultKeyStatistics%2CassetProfile%2CsummaryDetail&corsDomain=finance.yahoo.com&formatted=false&symbol=VNO%24L&crumb=Vn1kjkpqGe7\n",
      " 95%|█████████▍| 7352/7775 [17:00<01:30,  4.68it/s]404 Client Error: Not Found for url: https://query2.finance.yahoo.com/v10/finance/quoteSummary/VNO$M?modules=financialData%2CquoteType%2CdefaultKeyStatistics%2CassetProfile%2CsummaryDetail&corsDomain=finance.yahoo.com&formatted=false&symbol=VNO%24M&crumb=Vn1kjkpqGe7\n",
      " 95%|█████████▍| 7353/7775 [17:00<02:16,  3.08it/s]404 Client Error: Not Found for url: https://query2.finance.yahoo.com/v10/finance/quoteSummary/VNO$N?modules=financialData%2CquoteType%2CdefaultKeyStatistics%2CassetProfile%2CsummaryDetail&corsDomain=finance.yahoo.com&formatted=false&symbol=VNO%24N&crumb=Vn1kjkpqGe7\n",
      " 95%|█████████▍| 7354/7775 [17:01<03:05,  2.27it/s]404 Client Error: Not Found for url: https://query2.finance.yahoo.com/v10/finance/quoteSummary/VNO$O?modules=financialData%2CquoteType%2CdefaultKeyStatistics%2CassetProfile%2CsummaryDetail&corsDomain=finance.yahoo.com&formatted=false&symbol=VNO%24O&crumb=Vn1kjkpqGe7\n",
      " 95%|█████████▍| 7363/7775 [17:03<01:11,  5.75it/s]404 Client Error: Not Found for url: https://query2.finance.yahoo.com/v10/finance/quoteSummary/VOYA$B?modules=financialData%2CquoteType%2CdefaultKeyStatistics%2CassetProfile%2CsummaryDetail&corsDomain=finance.yahoo.com&formatted=false&symbol=VOYA%24B&crumb=Vn1kjkpqGe7\n",
      " 96%|█████████▌| 7444/7775 [17:13<00:32, 10.34it/s]404 Client Error: Not Found for url: https://query2.finance.yahoo.com/v10/finance/quoteSummary/WAL$A?modules=financialData%2CquoteType%2CdefaultKeyStatistics%2CassetProfile%2CsummaryDetail&corsDomain=finance.yahoo.com&formatted=false&symbol=WAL%24A&crumb=Vn1kjkpqGe7\n",
      " 96%|█████████▌| 7458/7775 [17:15<00:31, 10.01it/s]404 Client Error: Not Found for url: https://query2.finance.yahoo.com/v10/finance/quoteSummary/WBS$F?modules=financialData%2CquoteType%2CdefaultKeyStatistics%2CassetProfile%2CsummaryDetail&corsDomain=finance.yahoo.com&formatted=false&symbol=WBS%24F&crumb=Vn1kjkpqGe7\n",
      " 96%|█████████▌| 7460/7775 [17:16<00:58,  5.41it/s]404 Client Error: Not Found for url: https://query2.finance.yahoo.com/v10/finance/quoteSummary/WBS$G?modules=financialData%2CquoteType%2CdefaultKeyStatistics%2CassetProfile%2CsummaryDetail&corsDomain=finance.yahoo.com&formatted=false&symbol=WBS%24G&crumb=Vn1kjkpqGe7\n",
      " 96%|█████████▌| 7463/7775 [17:16<01:05,  4.75it/s]404 Client Error: Not Found for url: https://query2.finance.yahoo.com/v10/finance/quoteSummary/WBX.W?modules=financialData%2CquoteType%2CdefaultKeyStatistics%2CassetProfile%2CsummaryDetail&corsDomain=finance.yahoo.com&formatted=false&symbol=WBX.W&crumb=Vn1kjkpqGe7\n",
      " 96%|█████████▌| 7464/7775 [17:17<01:38,  3.17it/s]404 Client Error: Not Found for url: https://query2.finance.yahoo.com/v10/finance/quoteSummary/WCC$A?modules=financialData%2CquoteType%2CdefaultKeyStatistics%2CassetProfile%2CsummaryDetail&corsDomain=finance.yahoo.com&formatted=false&symbol=WCC%24A&crumb=Vn1kjkpqGe7\n",
      " 96%|█████████▌| 7478/7775 [17:19<00:33,  8.88it/s]404 Client Error: Not Found for url: https://query2.finance.yahoo.com/v10/finance/quoteSummary/WEL.U?modules=financialData%2CquoteType%2CdefaultKeyStatistics%2CassetProfile%2CsummaryDetail&corsDomain=finance.yahoo.com&formatted=false&symbol=WEL.U&crumb=Vn1kjkpqGe7\n",
      "404 Client Error: Not Found for url: https://query2.finance.yahoo.com/v10/finance/quoteSummary/WEL.W?modules=financialData%2CquoteType%2CdefaultKeyStatistics%2CassetProfile%2CsummaryDetail&corsDomain=finance.yahoo.com&formatted=false&symbol=WEL.W&crumb=Vn1kjkpqGe7\n",
      " 96%|█████████▋| 7490/7775 [17:21<00:35,  8.03it/s]404 Client Error: Not Found for url: https://query2.finance.yahoo.com/v10/finance/quoteSummary/WFC$A?modules=financialData%2CquoteType%2CdefaultKeyStatistics%2CassetProfile%2CsummaryDetail&corsDomain=finance.yahoo.com&formatted=false&symbol=WFC%24A&crumb=Vn1kjkpqGe7\n",
      " 96%|█████████▋| 7492/7775 [17:22<01:02,  4.51it/s]404 Client Error: Not Found for url: https://query2.finance.yahoo.com/v10/finance/quoteSummary/WFC$C?modules=financialData%2CquoteType%2CdefaultKeyStatistics%2CassetProfile%2CsummaryDetail&corsDomain=finance.yahoo.com&formatted=false&symbol=WFC%24C&crumb=Vn1kjkpqGe7\n",
      " 96%|█████████▋| 7493/7775 [17:23<01:28,  3.20it/s]404 Client Error: Not Found for url: https://query2.finance.yahoo.com/v10/finance/quoteSummary/WFC$D?modules=financialData%2CquoteType%2CdefaultKeyStatistics%2CassetProfile%2CsummaryDetail&corsDomain=finance.yahoo.com&formatted=false&symbol=WFC%24D&crumb=Vn1kjkpqGe7\n",
      " 96%|█████████▋| 7494/7775 [17:24<01:47,  2.60it/s]404 Client Error: Not Found for url: https://query2.finance.yahoo.com/v10/finance/quoteSummary/WFC$L?modules=financialData%2CquoteType%2CdefaultKeyStatistics%2CassetProfile%2CsummaryDetail&corsDomain=finance.yahoo.com&formatted=false&symbol=WFC%24L&crumb=Vn1kjkpqGe7\n",
      " 96%|█████████▋| 7495/7775 [17:25<02:29,  1.87it/s]404 Client Error: Not Found for url: https://query2.finance.yahoo.com/v10/finance/quoteSummary/WFC$R?modules=financialData%2CquoteType%2CdefaultKeyStatistics%2CassetProfile%2CsummaryDetail&corsDomain=finance.yahoo.com&formatted=false&symbol=WFC%24R&crumb=Vn1kjkpqGe7\n",
      " 96%|█████████▋| 7496/7775 [17:25<02:37,  1.77it/s]404 Client Error: Not Found for url: https://query2.finance.yahoo.com/v10/finance/quoteSummary/WFC$Y?modules=financialData%2CquoteType%2CdefaultKeyStatistics%2CassetProfile%2CsummaryDetail&corsDomain=finance.yahoo.com&formatted=false&symbol=WFC%24Y&crumb=Vn1kjkpqGe7\n",
      " 96%|█████████▋| 7497/7775 [17:26<02:46,  1.67it/s]404 Client Error: Not Found for url: https://query2.finance.yahoo.com/v10/finance/quoteSummary/WFC$Z?modules=financialData%2CquoteType%2CdefaultKeyStatistics%2CassetProfile%2CsummaryDetail&corsDomain=finance.yahoo.com&formatted=false&symbol=WFC%24Z&crumb=Vn1kjkpqGe7\n",
      " 97%|█████████▋| 7556/7775 [17:32<00:18, 12.04it/s]404 Client Error: Not Found for url: https://query2.finance.yahoo.com/v10/finance/quoteSummary/WNNR.U?modules=financialData%2CquoteType%2CdefaultKeyStatistics%2CassetProfile%2CsummaryDetail&corsDomain=finance.yahoo.com&formatted=false&symbol=WNNR.U&crumb=Vn1kjkpqGe7\n",
      " 97%|█████████▋| 7558/7775 [17:33<00:35,  6.12it/s]404 Client Error: Not Found for url: https://query2.finance.yahoo.com/v10/finance/quoteSummary/WNNR.W?modules=financialData%2CquoteType%2CdefaultKeyStatistics%2CassetProfile%2CsummaryDetail&corsDomain=finance.yahoo.com&formatted=false&symbol=WNNR.W&crumb=Vn1kjkpqGe7\n",
      " 97%|█████████▋| 7570/7775 [17:34<00:21,  9.67it/s]404 Client Error: Not Found for url: https://query2.finance.yahoo.com/v10/finance/quoteSummary/WRAC.U?modules=financialData%2CquoteType%2CdefaultKeyStatistics%2CassetProfile%2CsummaryDetail&corsDomain=finance.yahoo.com&formatted=false&symbol=WRAC.U&crumb=Vn1kjkpqGe7\n",
      " 97%|█████████▋| 7573/7775 [17:35<00:34,  5.83it/s]404 Client Error: Not Found for url: https://query2.finance.yahoo.com/v10/finance/quoteSummary/WRB$E?modules=financialData%2CquoteType%2CdefaultKeyStatistics%2CassetProfile%2CsummaryDetail&corsDomain=finance.yahoo.com&formatted=false&symbol=WRB%24E&crumb=Vn1kjkpqGe7\n",
      " 97%|█████████▋| 7575/7775 [17:36<00:52,  3.81it/s]404 Client Error: Not Found for url: https://query2.finance.yahoo.com/v10/finance/quoteSummary/WRB$F?modules=financialData%2CquoteType%2CdefaultKeyStatistics%2CassetProfile%2CsummaryDetail&corsDomain=finance.yahoo.com&formatted=false&symbol=WRB%24F&crumb=Vn1kjkpqGe7\n",
      " 97%|█████████▋| 7576/7775 [17:37<01:07,  2.94it/s]404 Client Error: Not Found for url: https://query2.finance.yahoo.com/v10/finance/quoteSummary/WRB$G?modules=financialData%2CquoteType%2CdefaultKeyStatistics%2CassetProfile%2CsummaryDetail&corsDomain=finance.yahoo.com&formatted=false&symbol=WRB%24G&crumb=Vn1kjkpqGe7\n",
      " 97%|█████████▋| 7577/7775 [17:37<01:20,  2.45it/s]404 Client Error: Not Found for url: https://query2.finance.yahoo.com/v10/finance/quoteSummary/WRB$H?modules=financialData%2CquoteType%2CdefaultKeyStatistics%2CassetProfile%2CsummaryDetail&corsDomain=finance.yahoo.com&formatted=false&symbol=WRB%24H&crumb=Vn1kjkpqGe7\n",
      " 98%|█████████▊| 7590/7775 [17:39<00:23,  7.98it/s]404 Client Error: Not Found for url: https://query2.finance.yahoo.com/v10/finance/quoteSummary/WSO.B?modules=financialData%2CquoteType%2CdefaultKeyStatistics%2CassetProfile%2CsummaryDetail&corsDomain=finance.yahoo.com&formatted=false&symbol=WSO.B&crumb=Vn1kjkpqGe7\n",
      " 98%|█████████▊| 7641/7775 [17:45<00:16,  8.06it/s]404 Client Error: Not Found for url: https://query2.finance.yahoo.com/v10/finance/quoteSummary/XFLT$A?modules=financialData%2CquoteType%2CdefaultKeyStatistics%2CassetProfile%2CsummaryDetail&corsDomain=finance.yahoo.com&formatted=false&symbol=XFLT%24A&crumb=Vn1kjkpqGe7\n",
      " 99%|█████████▉| 7678/7775 [17:49<00:10,  8.93it/s]404 Client Error: Not Found for url: https://query2.finance.yahoo.com/v10/finance/quoteSummary/YCBD$A?modules=financialData%2CquoteType%2CdefaultKeyStatistics%2CassetProfile%2CsummaryDetail&corsDomain=finance.yahoo.com&formatted=false&symbol=YCBD%24A&crumb=Vn1kjkpqGe7\n",
      " 99%|█████████▉| 7714/7775 [17:54<00:06,  9.87it/s]404 Client Error: Not Found for url: https://query2.finance.yahoo.com/v10/finance/quoteSummary/ZBZX?modules=financialData%2CquoteType%2CdefaultKeyStatistics%2CassetProfile%2CsummaryDetail&corsDomain=finance.yahoo.com&formatted=false&symbol=ZBZX&crumb=Vn1kjkpqGe7\n",
      " 99%|█████████▉| 7726/7775 [17:56<00:05,  9.47it/s]404 Client Error: Not Found for url: https://query2.finance.yahoo.com/v10/finance/quoteSummary/ZEXIT?modules=financialData%2CquoteType%2CdefaultKeyStatistics%2CassetProfile%2CsummaryDetail&corsDomain=finance.yahoo.com&formatted=false&symbol=ZEXIT&crumb=Vn1kjkpqGe7\n",
      " 99%|█████████▉| 7733/7775 [17:57<00:05,  7.89it/s]404 Client Error: Not Found for url: https://query2.finance.yahoo.com/v10/finance/quoteSummary/ZIEXT?modules=financialData%2CquoteType%2CdefaultKeyStatistics%2CassetProfile%2CsummaryDetail&corsDomain=finance.yahoo.com&formatted=false&symbol=ZIEXT&crumb=Vn1kjkpqGe7\n",
      "100%|█████████▉| 7755/7775 [18:00<00:01, 10.25it/s]404 Client Error: Not Found for url: https://query2.finance.yahoo.com/v10/finance/quoteSummary/ZTEST?modules=financialData%2CquoteType%2CdefaultKeyStatistics%2CassetProfile%2CsummaryDetail&corsDomain=finance.yahoo.com&formatted=false&symbol=ZTEST&crumb=Vn1kjkpqGe7\n",
      "100%|█████████▉| 7769/7775 [18:02<00:00,  9.57it/s]404 Client Error: Not Found for url: https://query2.finance.yahoo.com/v10/finance/quoteSummary/ZXIET?modules=financialData%2CquoteType%2CdefaultKeyStatistics%2CassetProfile%2CsummaryDetail&corsDomain=finance.yahoo.com&formatted=false&symbol=ZXIET&crumb=Vn1kjkpqGe7\n",
      "100%|█████████▉| 7771/7775 [18:03<00:00,  4.13it/s]404 Client Error: Not Found for url: https://query2.finance.yahoo.com/v10/finance/quoteSummary/ZXYZ.A?modules=financialData%2CquoteType%2CdefaultKeyStatistics%2CassetProfile%2CsummaryDetail&corsDomain=finance.yahoo.com&formatted=false&symbol=ZXYZ.A&crumb=Vn1kjkpqGe7\n",
      "100%|██████████| 7775/7775 [18:05<00:00,  7.16it/s]"
     ]
    },
    {
     "name": "stdout",
     "output_type": "stream",
     "text": [
      "Success: 7,775 / 7,776\n"
     ]
    },
    {
     "name": "stderr",
     "output_type": "stream",
     "text": [
      "\n"
     ]
    }
   ],
   "source": [
    "meta_data = []\n",
    "start = time()\n",
    "for ticker, yf_object in tqdm(yf_symbols.tickers.items()):\n",
    "    try:\n",
    "        s = pd.Series(yf_object.get_info())\n",
    "        meta_data.append(s.to_frame(ticker))\n",
    "    except Exception as e:\n",
    "        # track errors\n",
    "        print(symbol.ticker, e)\n",
    "        \n",
    "print(f'Success: {len(meta_data):5,.0f} / {n:5,.0f}')"
   ]
  },
  {
   "cell_type": "code",
   "execution_count": 42,
   "metadata": {},
   "outputs": [
    {
     "name": "stdout",
     "output_type": "stream",
     "text": [
      "<class 'pandas.core.frame.DataFrame'>\n",
      "Index: 7775 entries, A to ZYXI\n",
      "Columns: 146 entries, address1 to industrySymbol\n",
      "dtypes: float64(111), object(35)\n",
      "memory usage: 8.7+ MB\n"
     ]
    }
   ],
   "source": [
    "df = pd.concat(meta_data, axis=1).dropna(how='all').T\n",
    "df = df.apply(pd.to_numeric, errors='ignore')\n",
    "df.info(show_counts=True)"
   ]
  },
  {
   "cell_type": "code",
   "execution_count": 44,
   "metadata": {},
   "outputs": [],
   "source": [
    "df.to_hdf(results_path / 'data.h5', 'stocks/info')"
   ]
  },
  {
   "cell_type": "markdown",
   "metadata": {},
   "source": [
    "## Download adjusted price data using yfinance"
   ]
  },
  {
   "cell_type": "code",
   "execution_count": 11,
   "metadata": {
    "ExecuteTime": {
     "end_time": "2021-02-24T10:00:48.703840Z",
     "start_time": "2021-02-24T09:46:13.913231Z"
    },
    "scrolled": false
   },
   "outputs": [
    {
     "name": "stderr",
     "output_type": "stream",
     "text": [
      "[*********************100%%**********************]  100 of 100 completed\n",
      "\n",
      "49 Failed downloads:\n",
      "['ACAH', 'ACHR', 'ABOS', 'ACON', 'ACBA', 'ACLX', 'ACI', 'ABLV', 'ABL', 'ACHL', 'ACAB', 'AACT', 'ACAC', 'ACACU', 'ACABU', 'ACCD', 'ABVX', 'ABSI', 'ABCL', 'ACRV', 'ABNB', 'AACI', 'ACBAU', 'ACAHU', 'ACGLN', 'AACIU', 'ABLLL', 'AAGR', 'ACDC', 'AAN', 'AAMC']: Exception(\"%ticker%: Data doesn't exist for startDate = 628491600, endDate = 1580446800\")\n",
      "['ABLLW', 'ACBAW', 'AACIW', 'ABLVW', 'ACABW', 'ACACW', 'ACONW', 'ACAHW', 'AAGRW']: Exception(\"%ticker%: Period 'max' is invalid, must be one of ['1d', '5d']\")\n",
      "['ABR$F', 'ACR$D', 'AACT.W', 'ACP$A', 'ABR$E', 'ACR$C', 'ACHR.W', 'ABR$D', 'AACT.U']: Exception('%ticker%: No timezone found, symbol may be delisted')\n",
      "[*                      2%%                      ]  2 of 100 completed"
     ]
    },
    {
     "name": "stdout",
     "output_type": "stream",
     "text": [
      "Success:     1/    1 | To go: 00:19:57 (7,674)\n"
     ]
    },
    {
     "name": "stderr",
     "output_type": "stream",
     "text": [
      "[*********************100%%**********************]  100 of 100 completed\n",
      "\n",
      "49 Failed downloads:\n",
      "['AEAEW', 'ADOCR', 'AFARW', 'AERTW', 'AENTW', 'ADVWW', 'ADNWW', 'AFRIW', 'ADSEW', 'ADTHW', 'ADOCW', 'AFJKR']: Exception(\"%ticker%: Period 'max' is invalid, must be one of ['1d', '5d']\")\n",
      "['AESI', 'AESC', 'AFRI', 'AEVA', 'ADSE', 'AFIB', 'AFCG', 'AERT', 'ACXP', 'AEAEU', 'AFJKU', 'AEI', 'AFGB', 'ADRT', 'AFGE', 'AFARU', 'ACT', 'ADXN', 'AFGD', 'AFJK', 'AENT', 'ADCT', 'AEON', 'ACVA', 'AFRM', 'ADAG', 'ADOC', 'ADTH', 'ADTX', 'AEAE', 'AFAR']: Exception(\"%ticker%: Data doesn't exist for startDate = 628491600, endDate = 1580446800\")\n",
      "['AEL$B', 'ADRT.U', 'AEON.W', 'AEL$A', 'ADC$A', 'AEVA.W']: Exception('%ticker%: No timezone found, symbol may be delisted')\n"
     ]
    },
    {
     "name": "stdout",
     "output_type": "stream",
     "text": [
      "Success:     2/    2 | To go: 00:19:20 (7,574)\n"
     ]
    },
    {
     "name": "stderr",
     "output_type": "stream",
     "text": [
      "[*********************100%%**********************]  100 of 100 completed\n",
      "\n",
      "50 Failed downloads:\n",
      "['AGNCP', 'AGNCL', 'AKA', 'AIRE', 'AIRC', 'AIP', 'AIXI', 'AITRU', 'AITR', 'AHI', 'AIMD', 'AIMBU', 'AIB', 'AGFY', 'AIRS', 'AGRI', 'AIMAU', 'AIBBU', 'AGTI', 'AKLI', 'AIZN', 'AKAN', 'AI', 'AISP', 'AGL']: Exception(\"%ticker%: Data doesn't exist for startDate = 628491600, endDate = 1580446800\")\n",
      "['AGM$D', 'AGM$E', 'AGM.A', 'AKO.B', 'AHT$G', 'AGM$G', 'AHL$C', 'AHT$D', 'AHH$A', 'AHT$F', 'AHL$E', 'AGM$F', 'AHT$H', 'AKO.A', 'AGM$C', 'AHL$D', 'AIG$A', 'AHT$I']: Exception('%ticker%: No timezone found, symbol may be delisted')\n",
      "['AIMAW', 'AGRIW', 'AGBAW', 'AISPW', 'AITRR', 'AIMDW', 'AIBBR']: Exception(\"%ticker%: Period 'max' is invalid, must be one of ['1d', '5d']\")\n",
      "[*                      3%%                      ]  3 of 100 completed"
     ]
    },
    {
     "name": "stdout",
     "output_type": "stream",
     "text": [
      "Success:     3/    3 | To go: 00:18:34 (7,474)\n"
     ]
    },
    {
     "name": "stderr",
     "output_type": "stream",
     "text": [
      "[*********************100%%**********************]  100 of 100 completed\n",
      "\n",
      "41 Failed downloads:\n",
      "['ALVOW', 'ALCYW', 'ALSAR', 'ALSAW']: Exception(\"%ticker%: Period 'max' is invalid, must be one of ['1d', '5d']\")\n",
      "['ALLR', 'ALXO', 'ALVO', 'ALTUW', 'ALCC', 'AMAM', 'AMBP', 'ALGM', 'ALGS', 'ALSAU', 'AMBI', 'ALLG', 'ALCY', 'ALUR', 'ALZN', 'ALKT', 'AKYA', 'ALTI', 'ALIT', 'ALTU', 'ALCE', 'ALTUU', 'ALCYU', 'ALVR', 'ALSA', 'ALHC']: Exception(\"%ticker%: Data doesn't exist for startDate = 628491600, endDate = 1580446800\")\n",
      "['ALL$H', 'AMH$H', 'AMH$G', 'AMBP.W', 'ALL$B', 'ALL$I', 'AL$A', 'AMBI.W', 'ALUR.W', 'ALTG$A', 'ALL$J']: Exception('%ticker%: No timezone found, symbol may be delisted')\n",
      "[*                      2%%                      ]  2 of 100 completed"
     ]
    },
    {
     "name": "stdout",
     "output_type": "stream",
     "text": [
      "Success:     4/    4 | To go: 00:17:48 (7,374)\n"
     ]
    },
    {
     "name": "stderr",
     "output_type": "stream",
     "text": [
      "[*********************100%%**********************]  100 of 100 completed\n",
      "\n",
      "43 Failed downloads:\n",
      "['AOGOW', 'APCXW', 'ANGHW', 'APACW', 'ANSCW', 'AONCW']: Exception(\"%ticker%: Period 'max' is invalid, must be one of ['1d', '5d']\")\n",
      "['AMPGW', 'AONC', 'APLD', 'APLMW', 'AMLX', 'APG', 'ANL', 'APAC', 'ANNX', 'AOGOU', 'ANSC', 'AMPX', 'APOS', 'API', 'AMPL', 'APACU', 'ANTX', 'AMST', 'AMTR', 'AMPS', 'AOGO', 'AOUT', 'APGE', 'AMPG', 'APCA', 'APLM', 'ANGH', 'AMWL', 'AOMR', 'ANEB', 'ANSCU', 'AMR']: Exception(\"%ticker%: Data doesn't exist for startDate = 628491600, endDate = 1580446800\")\n",
      "['APCA.U', 'APO$A', 'AMPX.W', 'AP.W', 'APCA.W']: Exception('%ticker%: No timezone found, symbol may be delisted')\n",
      "[                       0%%                      ]"
     ]
    },
    {
     "name": "stdout",
     "output_type": "stream",
     "text": [
      "Success:     5/    5 | To go: 00:17:18 (7,274)\n"
     ]
    },
    {
     "name": "stderr",
     "output_type": "stream",
     "text": [
      "[*********************100%%**********************]  100 of 100 completed\n",
      "\n",
      "47 Failed downloads:\n",
      "['ARGO$A', 'ASB$F', 'ARR$C', 'ASB$E']: Exception('%ticker%: No timezone found, symbol may be delisted')\n",
      "['ARBE', 'ARM', 'APXIU', 'ARRW', 'AQU', 'ASAN', 'AQNU', 'ARHS', 'ARVL', 'ARIZ', 'ARIS', 'ARRY', 'ARYD', 'ARBK', 'ARQQW', 'ARBB', 'APXI', 'ARRWU', 'APTM', 'APP', 'ARIZU', 'ASBA', 'ASCAU', 'ASCA', 'ARBKL', 'ASAI', 'AQUNU', 'ARQT', 'ARQQ', 'APTMU', 'AREB']: Exception(\"%ticker%: Data doesn't exist for startDate = 628491600, endDate = 1580446800\")\n",
      "['APTMW', 'ARTLW', 'ARBEW', 'ASCAW', 'ARKOW', 'APXIW', 'ARIZW', 'ARIZR', 'AREBW', 'ARRWW', 'ASCAR', 'AQUNR']: Exception(\"%ticker%: Period 'max' is invalid, must be one of ['1d', '5d']\")\n",
      "[*                      2%%                      ]  2 of 100 completed"
     ]
    },
    {
     "name": "stdout",
     "output_type": "stream",
     "text": [
      "Success:     6/    6 | To go: 00:16:45 (7,174)\n"
     ]
    },
    {
     "name": "stderr",
     "output_type": "stream",
     "text": [
      "[*********************100%%**********************]  100 of 100 completed\n",
      "\n",
      "47 Failed downloads:\n",
      "['ASGI', 'ATAI', 'ATIP', 'ASTI', 'ATAT', 'ATMC', 'ASCB', 'ATMVU', 'ASO', 'ATPC', 'ATMU', 'ASNS', 'ATGL', 'ATMV', 'ATLCP', 'ASST', 'ATCOL', 'ATLX', 'ASCBU', 'ASTR', 'ATLCL', 'ATEK', 'ASPI', 'ATHA', 'ATMCU', 'ASTL']: Exception(\"%ticker%: Data doesn't exist for startDate = 628491600, endDate = 1580446800\")\n",
      "['ATH$D', 'ATEK.U', 'ATH$C', 'ATEST.C', 'ATEST.A', 'ATEST.B', 'ATCO$D', 'ATEK.W', 'ATH$E', 'ATH$B', 'ATCO$H', 'ATH$A']: Exception('%ticker%: No timezone found, symbol may be delisted')\n",
      "['ASCBR', 'ATEST', 'ATMCW', 'ATMCR', 'ASTSW', 'ATMVR', 'ASTLW', 'ATNFW', 'ASCBW']: Exception(\"%ticker%: Period 'max' is invalid, must be one of ['1d', '5d']\")\n",
      "[                       0%%                      ]"
     ]
    },
    {
     "name": "stdout",
     "output_type": "stream",
     "text": [
      "Success:     7/    7 | To go: 00:16:27 (7,074)\n"
     ]
    },
    {
     "name": "stderr",
     "output_type": "stream",
     "text": [
      "[*********************100%%**********************]  100 of 100 completed\n",
      "\n",
      "38 Failed downloads:\n",
      "['AUUDW', 'AWINW', 'AVPTW', 'AVHIW', 'AUROW']: Exception(\"%ticker%: Period 'max' is invalid, must be one of ['1d', '5d']\")\n",
      "['BAC$N', 'BAC$L', 'BAC$K', 'AUB$A', 'BAC$S', 'AXS$E', 'BAC$B', 'AULT$D', 'BAC$P', 'BAC$Q', 'BAC$E', 'BAC$M', 'BAC$O']: Exception('%ticker%: No timezone found, symbol may be delisted')\n",
      "['AVAH', 'AZTR', 'AVDX', 'AVHIU', 'AURA', 'AVHI', 'AZ', 'AUST', 'AZEK', 'AWIN', 'AVIR', 'AUR', 'AUVIP', 'AUGX', 'AUUD', 'AVO', 'AUVI', 'AUID', 'AVTE', 'BACA']: Exception(\"%ticker%: Data doesn't exist for startDate = 628491600, endDate = 1580446800\")\n",
      "[                       0%%                      ]"
     ]
    },
    {
     "name": "stdout",
     "output_type": "stream",
     "text": [
      "Success:     8/    8 | To go: 00:15:57 (6,974)\n"
     ]
    },
    {
     "name": "stderr",
     "output_type": "stream",
     "text": [
      "[*********************100%%**********************]  100 of 100 completed\n",
      "\n",
      "37 Failed downloads:\n",
      "['BDSX', 'BEAM', 'BCAB', 'BAER', 'BANL', 'BAFN', 'BBAI', 'BAYAU', 'BASE', 'BCSA', 'BCAN', 'BDTX', 'BAM', 'BBLG', 'BEEP', 'BEAT', 'BBLGW', 'BAOS', 'BCAT', 'BAYA', 'BARK', 'BBUC', 'BCSAU']: Exception(\"%ticker%: Data doesn't exist for startDate = 628491600, endDate = 1580446800\")\n",
      "['BANC$F', 'BARK.W', 'BC$A', 'BC$C', 'BBAI.W', 'BCV$A', 'BC$B']: Exception('%ticker%: No timezone found, symbol may be delisted')\n",
      "['BEEMW', 'BEATW', 'BCSAW', 'BAYAR', 'BCTXW', 'BAERW', 'BCDAW']: Exception(\"%ticker%: Period 'max' is invalid, must be one of ['1d', '5d']\")\n",
      "[*                      3%%                      ]  3 of 100 completed"
     ]
    },
    {
     "name": "stdout",
     "output_type": "stream",
     "text": [
      "Success:     9/    9 | To go: 00:15:41 (6,874)\n"
     ]
    },
    {
     "name": "stderr",
     "output_type": "stream",
     "text": [
      "[*********************100%%**********************]  99 of 100 completed\n",
      "\n",
      "46 Failed downloads:\n",
      "['BIAFW', 'BFIIW', 'BENFW', 'BFRIW', 'BHACW', 'BFRGW', 'BETRW']: Exception(\"%ticker%: Period 'max' is invalid, must be one of ['1d', '5d']\")\n",
      "['BHFAO', 'BIGZ', 'BHFAM', 'BFLY', 'BHAC', 'BFRG', 'BHG', 'BENF', 'BEPC', 'BEKE', 'BFRI', 'BHIL', 'BETR', 'BEPH', 'BEPI', 'BGXX', 'BIGC', 'BFAC', 'BHM', 'BHFAN', 'BHVN', 'BHACU', 'BIAF', 'BIOR', 'BGLC']: Exception(\"%ticker%: Data doesn't exist for startDate = 628491600, endDate = 1580446800\")\n",
      "['BIP$B', 'BFAC.W', 'BFS$E', 'BH.A', 'BHR$D', 'BFAC.U', 'BF.A', 'BEP$A', 'BFLY.W', 'BFS$D', 'BHR$B', 'BIP$A']: Exception('%ticker%: No timezone found, symbol may be delisted')\n",
      "['BF.B', 'BIO.B']: Exception('%ticker%: No price data found, symbol may be delisted (1d 1989-12-01 -> 2020-1-31)')\n",
      "[*                      3%%                      ]  3 of 100 completed"
     ]
    },
    {
     "name": "stdout",
     "output_type": "stream",
     "text": [
      "Success:    10/   10 | To go: 00:15:25 (6,774)\n"
     ]
    },
    {
     "name": "stderr",
     "output_type": "stream",
     "text": [
      "[*********************100%%**********************]  100 of 100 completed\n",
      "\n",
      "50 Failed downloads:\n",
      "['BLEUR', 'BLDEW', 'BNIXW', 'BLACR', 'BLEUW', 'BNIXR', 'BLACW']: Exception(\"%ticker%: Period 'max' is invalid, must be one of ['1d', '5d']\")\n",
      "['BKKT.W', 'BML$J', 'BITE.U', 'BLUA.W', 'BML$G', 'BMTX.W', 'BITE.W', 'BML$H', 'BNRE.A', 'BLUA.U', 'BML$L', 'BKSY.W']: Exception('%ticker%: No timezone found, symbol may be delisted')\n",
      "['BNL', 'BLEU', 'BKDT', 'BMN', 'BIRK', 'BIVI', 'BMBL', 'BKKT', 'BLTE', 'BNRE', 'BLND', 'BNR', 'BNIX', 'BLEUU', 'BIPH', 'BIRD', 'BLAC', 'BMEA', 'BLFY', 'BNH', 'BLUA', 'BLCO', 'BIPI', 'BMR', 'BNJ', 'BITE', 'BIPC', 'BLACU', 'BLZE', 'BJDX', 'BNOX']: Exception(\"%ticker%: Data doesn't exist for startDate = 628491600, endDate = 1580446800\")\n",
      "[*                      2%%                      ]  2 of 100 completed"
     ]
    },
    {
     "name": "stdout",
     "output_type": "stream",
     "text": [
      "Success:    11/   11 | To go: 00:15:16 (6,674)\n"
     ]
    },
    {
     "name": "stderr",
     "output_type": "stream",
     "text": [
      "[*********************100%%**********************]  100 of 100 completed\n",
      "\n",
      "42 Failed downloads:\n",
      "['BRKH', 'BPTS', 'BREA', 'BOLT', 'BQ', 'BOF', 'BRLT', 'BROS', 'BSFC', 'BOCN', 'BRCC', 'BOWNU', 'BODY', 'BOWL', 'BRNS', 'BRDG', 'BRKHU', 'BOCNU', 'BOWN', 'BON', 'BREZ', 'BRACU', 'BRSH', 'BNRG', 'BNZI', 'BRZE', 'BRAC', 'BSY', 'BPYPN', 'BPYPM']: Exception(\"%ticker%: Data doesn't exist for startDate = 628491600, endDate = 1580446800\")\n",
      "['BRKHW', 'BROGW', 'BOWNR', 'BRSHW', 'BRACR', 'BOCNW', 'BNZIW', 'BREZR', 'BREZW']: Exception(\"%ticker%: Period 'max' is invalid, must be one of ['1d', '5d']\")\n",
      "['BRK.B', 'BRK.A', 'BOH$A']: Exception('%ticker%: No timezone found, symbol may be delisted')\n",
      "[*                      3%%                      ]  3 of 100 completed"
     ]
    },
    {
     "name": "stdout",
     "output_type": "stream",
     "text": [
      "Success:    12/   12 | To go: 00:14:59 (6,574)\n"
     ]
    },
    {
     "name": "stderr",
     "output_type": "stream",
     "text": [
      "[*********************100%%**********************]  100 of 100 completed\n",
      "\n",
      "37 Failed downloads:\n",
      "['BYNOU', 'CADL', 'BYNO', 'BZ', 'BTTX', 'BTMD', 'BWAQ', 'BXSL', 'BURU', 'BWSN', 'BTDR', 'BUJAU', 'BUJA', 'BWNB', 'BWMN', 'CACO', 'BWBBP', 'BTBD', 'CALC', 'BVS', 'BWAQU', 'BUR', 'BZFD', 'BTM']: Exception(\"%ticker%: Data doesn't exist for startDate = 628491600, endDate = 1580446800\")\n",
      "['C$N', 'CADE$A', 'C$J', 'BW$A']: Exception('%ticker%: No timezone found, symbol may be delisted')\n",
      "['BTBDW', 'BWAQW', 'BUJAW', 'BYNOW', 'BWAQR', 'BUJAR', 'BTMWW', 'BTCTW', 'BZFDW']: Exception(\"%ticker%: Period 'max' is invalid, must be one of ['1d', '5d']\")\n",
      "[*                      2%%                      ]  2 of 100 completed"
     ]
    },
    {
     "name": "stdout",
     "output_type": "stream",
     "text": [
      "Success:    13/   13 | To go: 00:14:41 (6,474)\n"
     ]
    },
    {
     "name": "stderr",
     "output_type": "stream",
     "text": [
      "[*********************100%%**********************]  100 of 100 completed\n",
      "\n",
      "32 Failed downloads:\n",
      "['CCCC', 'CCIA', 'CARR', 'CBRGU', 'CCTSU', 'CART', 'CCSI', 'CCGWW', 'CDAQ', 'CAVA', 'CCLDO', 'CANO', 'CCCS', 'CCTS', 'CBRG', 'CAUD', 'CAPT', 'CDAQU', 'CDLR', 'CBL', 'CALT', 'CCTG', 'CDIO', 'CCNEP', 'CCG', 'CCAP']: Exception(\"%ticker%: Data doesn't exist for startDate = 628491600, endDate = 1580446800\")\n",
      "['CDAQW', 'CCTSW', 'CDIOW', 'CAPTW']: Exception(\"%ticker%: Period 'max' is invalid, must be one of ['1d', '5d']\")\n",
      "['CBX', 'CBO']: Exception('%ticker%: No timezone found, symbol may be delisted')\n",
      "[                       0%%                      ]"
     ]
    },
    {
     "name": "stdout",
     "output_type": "stream",
     "text": [
      "Success:    14/   14 | To go: 00:14:23 (6,374)\n"
     ]
    },
    {
     "name": "stderr",
     "output_type": "stream",
     "text": [
      "[*********************100%%**********************]  100 of 100 completed\n",
      "\n",
      "41 Failed downloads:\n",
      "['CETUU', 'CGBDL', 'CGNT', 'CDRE', 'CHEA', 'CFSB', 'CDZIP', 'CGEM', 'CHKEW', 'CFLT', 'CHKEZ', 'CHKEL', 'CERE', 'CHAA', 'CHEAU', 'CEG', 'CHK', 'CERT', 'CGABL', 'CFFSU', 'CETU', 'CGTX', 'CETY', 'CFFS', 'CDRO', 'CDT']: Exception(\"%ticker%: Data doesn't exist for startDate = 628491600, endDate = 1580446800\")\n",
      "['CETUR', 'CDROW', 'CETUW', 'CELUW', 'CDTTW', 'CEADW', 'CFFSW']: Exception(\"%ticker%: Period 'max' is invalid, must be one of ['1d', '5d']\")\n",
      "['CHMI$B', 'CDR$B', 'CELG.R', 'CDR$C', 'CFR$B', 'CFG$E', 'CFG$D', 'CHMI$A']: Exception('%ticker%: No timezone found, symbol may be delisted')\n",
      "[                       0%%                      ]"
     ]
    },
    {
     "name": "stdout",
     "output_type": "stream",
     "text": [
      "Success:    15/   15 | To go: 00:14:14 (6,274)\n"
     ]
    },
    {
     "name": "stderr",
     "output_type": "stream",
     "text": [
      "[*********************100%%**********************]  100 of 100 completed\n",
      "\n",
      "38 Failed downloads:\n",
      "['CIM$D', 'CIM$B', 'CLBR.W', 'CLBR.U', 'CLDT$A', 'CIG.C', 'CIM$A', 'CIO$A', 'CIM$C', 'CLDI.W']: Exception('%ticker%: No timezone found, symbol may be delisted')\n",
      "['CLOV', 'CISS', 'CLBT', 'CJET', 'CING', 'CLRCU', 'CLRC', 'CLOE', 'CITEU', 'CLDI', 'CION', 'CIFR', 'CLBR', 'CLEU', 'CLCO', 'CITE', 'CHSN', 'CINT', 'CLOEU', 'CISO']: Exception(\"%ticker%: Data doesn't exist for startDate = 628491600, endDate = 1580446800\")\n",
      "['CIFRW', 'CITEW', 'CLBTW', 'CLOER', 'CLNNW', 'CINGW', 'CLRCR', 'CLRCW']: Exception(\"%ticker%: Period 'max' is invalid, must be one of ['1d', '5d']\")\n",
      "[                       0%%                      ]"
     ]
    },
    {
     "name": "stdout",
     "output_type": "stream",
     "text": [
      "Success:    16/   16 | To go: 00:13:59 (6,174)\n"
     ]
    },
    {
     "name": "stderr",
     "output_type": "stream",
     "text": [
      "[*********************100%%**********************]  100 of 100 completed\n",
      "\n",
      "45 Failed downloads:\n",
      "['CMRE$D', 'CMRE$E', 'CMS$B', 'CMRE$B', 'CNO$A', 'CNDA.U', 'CNDB.W', 'CODI$B', 'CMS$C', 'CNDB.U', 'CLVT$A', 'CMRE$C', 'CODI$A', 'CNDA.W']: Exception('%ticker%: No timezone found, symbol may be delisted')\n",
      "['COCHW', 'CNGLW', 'CMAXW', 'CNFRZ', 'CMPOW', 'CMCAW']: Exception(\"%ticker%: Period 'max' is invalid, must be one of ['1d', '5d']\")\n",
      "['CNOBP', 'CNGL', 'CNGLU', 'CNTX', 'CMCA', 'CNM', 'CMPS', 'CNTA', 'CNTB', 'CNXC', 'CNEY', 'CMND', 'CLST', 'CMAX', 'COCH', 'CNDB', 'CNXA', 'CMPX', 'CLVR', 'CNDA', 'COCO', 'CLVRW', 'CMTG', 'CMCAU', 'CMPO']: Exception(\"%ticker%: Data doesn't exist for startDate = 628491600, endDate = 1580446800\")\n",
      "[*                      3%%                      ]  3 of 100 completed"
     ]
    },
    {
     "name": "stdout",
     "output_type": "stream",
     "text": [
      "Success:    17/   17 | To go: 00:13:48 (6,074)\n"
     ]
    },
    {
     "name": "stderr",
     "output_type": "stream",
     "text": [
      "[*********************100%%**********************]  100 of 100 completed\n",
      "\n",
      "42 Failed downloads:\n",
      "['COEPW', 'CONXW', 'CPTNW', 'CREVW', 'COMSW', 'CRGOW', 'CRESW']: Exception(\"%ticker%: Period 'max' is invalid, must be one of ['1d', '5d']\")\n",
      "['CRD.B', 'CRD.A', 'COF$L', 'CPTK.U', 'CODI$C', 'COF$I', 'COF$J', 'COF$K', 'COF$N']: Exception('%ticker%: No timezone found, symbol may be delisted')\n",
      "['COOLU', 'CRCT', 'CRGX', 'COOL', 'CREV', 'COYA', 'CPBI', 'CPOP', 'COOK', 'CPTN', 'CPTK', 'COOLW', 'COUR', 'CRBG', 'CRGY', 'CONX', 'CRDO', 'CRGO', 'CPNG', 'CONXU', 'CRC', 'CR', 'COIN', 'CRBU', 'COEP', 'COMP']: Exception(\"%ticker%: Data doesn't exist for startDate = 628491600, endDate = 1580446800\")\n",
      "[*                      3%%                      ]  3 of 100 completed"
     ]
    },
    {
     "name": "stdout",
     "output_type": "stream",
     "text": [
      "Success:    18/   18 | To go: 00:13:33 (5,974)\n"
     ]
    },
    {
     "name": "stderr",
     "output_type": "stream",
     "text": [
      "[*********************100%%**********************]  100 of 100 completed\n",
      "\n",
      "33 Failed downloads:\n",
      "['CTCXW', 'CTEST', 'CSLMW', 'CSLMR', 'CSLRW', 'CSSEL']: Exception(\"%ticker%: Period 'max' is invalid, must be one of ['1d', '5d']\")\n",
      "['CSWCZ', 'CRKN', 'CSAN', 'CTKB', 'CTNT', 'CSLM', 'CSLR', 'CSSEN', 'CRSR', 'CTCX', 'CTM', 'CSLMU', 'CTV']: Exception(\"%ticker%: Data doesn't exist for startDate = 628491600, endDate = 1580446800\")\n",
      "['CTEST.S', 'CTEST.V', 'CTEST.O', 'CTOS.W', 'CTEST.G', 'CTEST.L', 'CTEST.E', 'CTV.W', 'CTA$A', 'CUBI$E', 'CTA$B', 'CUBI$F', 'CSR$C', 'CTO$A']: Exception('%ticker%: No timezone found, symbol may be delisted')\n",
      "[                       0%%                      ]"
     ]
    },
    {
     "name": "stdout",
     "output_type": "stream",
     "text": [
      "Success:    19/   19 | To go: 00:13:12 (5,874)\n"
     ]
    },
    {
     "name": "stderr",
     "output_type": "stream",
     "text": [
      "[*********************100%%**********************]  100 of 100 completed\n",
      "\n",
      "33 Failed downloads:\n",
      "['CVRX', 'DBGI', 'DAWN', 'DBD', 'CXM', 'DALN', 'DADA', 'CVAC', 'CXAI', 'CYTHW', 'CYT', 'CURV', 'CWD', 'DAVE', 'CZOO', 'DATSW', 'DASH', 'DATS', 'CVII', 'CYN', 'CWAN', 'CVKD']: Exception(\"%ticker%: Data doesn't exist for startDate = 628491600, endDate = 1580446800\")\n",
      "['DAVEW', 'CURIW', 'DBGIW', 'CXAIW']: Exception(\"%ticker%: Period 'max' is invalid, must be one of ['1d', '5d']\")\n",
      "['DBRG$H', 'DBRG$I', 'CVII.U', 'DBRG$J', 'CWEN.A', 'CVE.W', 'CVII.W']: Exception('%ticker%: No timezone found, symbol may be delisted')\n",
      "[*                      3%%                      ]  3 of 100 completed"
     ]
    },
    {
     "name": "stdout",
     "output_type": "stream",
     "text": [
      "Success:    20/   20 | To go: 00:12:52 (5,774)\n"
     ]
    },
    {
     "name": "stderr",
     "output_type": "stream",
     "text": [
      "[*********************100%%**********************]  100 of 100 completed\n",
      "\n",
      "37 Failed downloads:\n",
      "['DEC', 'DHACU', 'DHCA', 'DCBO', 'DH', 'DLO', 'DCGO', 'DECAU', 'DGHI', 'DFH', 'DCFC', 'DDI', 'DFLI', 'DERM', 'DIBS', 'DIST', 'DHCAU', 'DLY', 'DDL', 'DC', 'DECA', 'DHAC', 'DDC']: Exception(\"%ticker%: Data doesn't exist for startDate = 628491600, endDate = 1580446800\")\n",
      "['DLR$L', 'DC.W', 'DLR$J', 'DLR$K', 'DLNG$B', 'DLNG$A']: Exception('%ticker%: No timezone found, symbol may be delisted')\n",
      "['DHCNL', 'DFLIW', 'DECAW', 'DHCAW', 'DCFCW', 'DISTW', 'DHACW', 'DISTR']: Exception(\"%ticker%: Period 'max' is invalid, must be one of ['1d', '5d']\")\n",
      "[*                      2%%                      ]  2 of 100 completed"
     ]
    },
    {
     "name": "stdout",
     "output_type": "stream",
     "text": [
      "Success:    21/   21 | To go: 00:12:36 (5,674)\n"
     ]
    },
    {
     "name": "stderr",
     "output_type": "stream",
     "text": [
      "[*********************100%%**********************]  100 of 100 completed\n",
      "\n",
      "47 Failed downloads:\n",
      "['DMAQR', 'DUETW', 'DTSTW', 'DRMAW', 'DPCSW', 'DRTSW']: Exception(\"%ticker%: Period 'max' is invalid, must be one of ['1d', '5d']\")\n",
      "['DNUT', 'DTCK', 'DPRO', 'DSP', 'DOLE', 'DMA', 'DMYY', 'DTM', 'DSGN', 'DRMA', 'DNB', 'DO', 'DMAQ', 'DPCSU', 'DRUG', 'DTB', 'DTG', 'DUETU', 'DOMA', 'DRCT', 'DSAQ', 'DOCS', 'DTC', 'DOUG', 'DNA', 'DOCN', 'DTI', 'DPCS', 'DRTS', 'DUET', 'DNMR', 'DRVN', 'DPSI']: Exception(\"%ticker%: Data doesn't exist for startDate = 628491600, endDate = 1580446800\")\n",
      "['DNA.W', 'DSAQ.U', 'DSX.W', 'DSX$B', 'DRH$A', 'DMYY.W', 'DUK$A', 'DMYY.U']: Exception('%ticker%: No timezone found, symbol may be delisted')\n"
     ]
    },
    {
     "name": "stdout",
     "output_type": "stream",
     "text": [
      "Success:    22/   22 | To go: 00:12:21 (5,574)\n"
     ]
    },
    {
     "name": "stderr",
     "output_type": "stream",
     "text": [
      "[*********************100%%**********************]  100 of 100 completed\n",
      "\n",
      "40 Failed downloads:\n",
      "['EFC$B', 'ECC$D', 'EFC$E', 'EFC$A', 'DX$C', 'ECF$A', 'EFC$C', 'EBR.B', 'EFC$D']: Exception('%ticker%: No timezone found, symbol may be delisted')\n",
      "['ECDA', 'ECCW', 'ECX', 'EAC', 'EFSCP', 'ECCC', 'ECCV', 'DWACU', 'EE', 'ECBK', 'EEIQ', 'EACPU', 'DWAC', 'EBC', 'EDR', 'EBON', 'ECAT', 'DUOL', 'EDBL', 'DYN', 'ECCX', 'EDTK', 'DV', 'EAR', 'ECO']: Exception(\"%ticker%: Data doesn't exist for startDate = 628491600, endDate = 1580446800\")\n",
      "['ECDAW', 'DWACW', 'ECXWW', 'EDBLW', 'EACPW']: Exception(\"%ticker%: Period 'max' is invalid, must be one of ['1d', '5d']\")\n",
      "['EAI']: Exception('%ticker%: No price data found, symbol may be delisted (1d 1989-12-01 -> 2020-1-31)')\n",
      "[                       0%%                      ]"
     ]
    },
    {
     "name": "stdout",
     "output_type": "stream",
     "text": [
      "Success:    23/   23 | To go: 00:12:08 (5,474)\n"
     ]
    },
    {
     "name": "stderr",
     "output_type": "stream",
     "text": [
      "[*********************100%%**********************]  99 of 100 completed\n",
      "\n",
      "33 Failed downloads:\n",
      "['EFTRW', 'EMLDW', 'EMCGW', 'EMCGR', 'ENGNW', 'ENCPW']: Exception(\"%ticker%: Period 'max' is invalid, must be one of ['1d', '5d']\")\n",
      "['ENGN', 'ELWS', 'EMCGU', 'ELEV', 'ELAB', 'EGOX', 'ELBM', 'EMLDU', 'ENCPU', 'ENLT', 'EMBC', 'ELYM', 'EICB', 'EMCG', 'ELPC', 'EMLD', 'EM', 'EFTR', 'ELTX', 'EHAB', 'ELUT', 'EJH', 'EICA', 'ENFN', 'ENCP', 'ELVN']: Exception(\"%ticker%: Data doesn't exist for startDate = 628491600, endDate = 1580446800\")\n",
      "['EMP']: Exception('%ticker%: No price data found, symbol may be delisted (1d 1989-12-01 -> 2020-1-31)')\n",
      "[*                      2%%                      ]  2 of 100 completed"
     ]
    },
    {
     "name": "stdout",
     "output_type": "stream",
     "text": [
      "Success:    24/   24 | To go: 00:11:52 (5,374)\n"
     ]
    },
    {
     "name": "stderr",
     "output_type": "stream",
     "text": [
      "[*********************100%%**********************]  100 of 100 completed\n",
      "\n",
      "29 Failed downloads:\n",
      "['EOSEW', 'ESACU', 'ESLA', 'ESAB', 'ESGL', 'EOSE', 'ESMT', 'EPOW', 'ESHA', 'ENVX', 'ESAC', 'ETAO', 'ERAS']: Exception(\"%ticker%: Data doesn't exist for startDate = 628491600, endDate = 1580446800\")\n",
      "['ETI$', 'EQH$A', 'ET$C', 'ET$I', 'EPR$G', 'EP$C', 'EPR$E', 'EQH$C', 'ET$E', 'EPR$C', 'ET$D', 'EQC$D']: Exception('%ticker%: No timezone found, symbol may be delisted')\n",
      "['ESHAR', 'ESACW', 'ESLAW', 'ESGLW']: Exception(\"%ticker%: Period 'max' is invalid, must be one of ['1d', '5d']\")\n",
      "[                       0%%                      ]"
     ]
    },
    {
     "name": "stdout",
     "output_type": "stream",
     "text": [
      "Success:    25/   25 | To go: 00:11:36 (5,274)\n"
     ]
    },
    {
     "name": "stderr",
     "output_type": "stream",
     "text": [
      "[*********************100%%**********************]  100 of 100 completed\n",
      "\n",
      "37 Failed downloads:\n",
      "['FATBW', 'EUDAW', 'EVLVW', 'FAZEW', 'EVGRW']: Exception(\"%ticker%: Period 'max' is invalid, must be one of ['1d', '5d']\")\n",
      "['FATBP', 'FAZE', 'EVLV', 'EZGO', 'EVGRU', 'FATBB', 'FATH', 'ETWO', 'EUDA', 'EVE', 'EVGO', 'EWTX', 'EZFL', 'FA', 'EVGOW', 'EVAX', 'EVTL', 'EWCZ', 'EXAI', 'EXFY', 'EVGR', 'EVEX', 'EVCM', 'EXTO']: Exception(\"%ticker%: Data doesn't exist for startDate = 628491600, endDate = 1580446800\")\n",
      "['F$D', 'EVE.U', 'F$B', 'ETWO.W', 'EVEX.W', 'EVE.W', 'F$C', 'EVTL.W']: Exception('%ticker%: No timezone found, symbol may be delisted')\n"
     ]
    },
    {
     "name": "stdout",
     "output_type": "stream",
     "text": [
      "Success:    26/   26 | To go: 00:11:25 (5,174)\n"
     ]
    },
    {
     "name": "stderr",
     "output_type": "stream",
     "text": [
      "[*********************100%%**********************]  100 of 100 completed\n",
      "\n",
      "41 Failed downloads:\n",
      "['FGBIP', 'FCNCP', 'FIACU', 'FEMY', 'FFIE', 'FEBO', 'FBRT', 'FIAC', 'FHLTU', 'FIP', 'FCRX', 'FICVU', 'FCNCO', 'FG', 'FBYD', 'FHLT', 'FGI', 'FEXDU', 'FIGS', 'FHTX', 'FEAM', 'FGN', 'FDMT', 'FINW', 'FICV', 'FEXD', 'FIHL']: Exception(\"%ticker%: Data doesn't exist for startDate = 628491600, endDate = 1580446800\")\n",
      "['FHN$C', 'FHN$B', 'FHN$F', 'FHN$D', 'FHN$E', 'FBRT$E']: Exception('%ticker%: No timezone found, symbol may be delisted')\n",
      "['FICVW', 'FBYDW', 'FEXDR', 'FGIWW', 'FEXDW', 'FFIEW', 'FIACW', 'FHLTW']: Exception(\"%ticker%: Period 'max' is invalid, must be one of ['1d', '5d']\")\n",
      "[*                      2%%                      ]  2 of 100 completed"
     ]
    },
    {
     "name": "stdout",
     "output_type": "stream",
     "text": [
      "Success:    27/   27 | To go: 00:11:12 (5,074)\n"
     ]
    },
    {
     "name": "stderr",
     "output_type": "stream",
     "text": [
      "[*********************100%%**********************]  100 of 100 completed\n",
      "\n",
      "29 Failed downloads:\n",
      "['FORLW', 'FMSTW', 'FLFVR', 'FLFVW', 'FNVTW']: Exception(\"%ticker%: Period 'max' is invalid, must be one of ['1d', '5d']\")\n",
      "['FORL', 'FLYX', 'FORLU', 'FOUR', 'FOXO', 'FMST', 'FNCH', 'FLNC', 'FLYW', 'FLFVU', 'FORA', 'FLFV', 'FLME', 'FNVT', 'FNVTU', 'FNA', 'FLUX', 'FLGC', 'FOSLL']: Exception(\"%ticker%: Data doesn't exist for startDate = 628491600, endDate = 1580446800\")\n",
      "['FNB$E', 'FLME.U', 'FLME.W', 'FLYX.W', 'FOA.W']: Exception('%ticker%: No timezone found, symbol may be delisted')\n",
      "[*                      2%%                      ]  2 of 100 completed"
     ]
    },
    {
     "name": "stdout",
     "output_type": "stream",
     "text": [
      "Success:    28/   28 | To go: 00:10:57 (4,974)\n"
     ]
    },
    {
     "name": "stderr",
     "output_type": "stream",
     "text": [
      "[*********************100%%**********************]  100 of 100 completed\n",
      "\n",
      "36 Failed downloads:\n",
      "['GAB$H', 'GAM$B', 'FRT$C', 'FREY.W', 'GAB$K', 'GAB$G']: Exception('%ticker%: No timezone found, symbol may be delisted')\n",
      "['FTEL', 'FRSH', 'FRLAU', 'FUSN', 'FSBC', 'FTHM', 'FRLN', 'FRLA', 'FTII', 'FTCI', 'FYBR', 'FRMEP', 'FTIIU', 'GAINN', 'FULTP', 'FROG', 'FSCO', 'FRLAW', 'FRGE', 'FWRG', 'FTAIM', 'FTRE', 'FRES', 'GAINL', 'FRZA', 'FTAIN', 'GAINZ', 'FTHY']: Exception(\"%ticker%: Data doesn't exist for startDate = 628491600, endDate = 1580446800\")\n",
      "['FREEW', 'FTIIW']: Exception(\"%ticker%: Period 'max' is invalid, must be one of ['1d', '5d']\")\n",
      "[*                      2%%                      ]  2 of 100 completed"
     ]
    },
    {
     "name": "stdout",
     "output_type": "stream",
     "text": [
      "Success:    29/   29 | To go: 00:10:41 (4,874)\n"
     ]
    },
    {
     "name": "stderr",
     "output_type": "stream",
     "text": [
      "[*********************100%%**********************]  100 of 100 completed\n",
      "\n",
      "51 Failed downloads:\n",
      "['GDEVW', 'GECCZ', 'GDSTW', 'GBBKR', 'GBBKW', 'GFAIW', 'GDSTR', 'GCMGW', 'GAMCW']: Exception(\"%ticker%: Period 'max' is invalid, must be one of ['1d', '5d']\")\n",
      "['GDSTU', 'GDHG', 'GATEU', 'GBIO', 'GETR', 'GAQ', 'GAMCU', 'GDEV', 'GBTG', 'GETY', 'GFR', 'GATO', 'GCT', 'GAMC', 'GENI', 'GBNH', 'GAMB', 'GEHC', 'GBBK', 'GDTC', 'GEGGL', 'GBNY', 'GDRX', 'GATEW', 'GENK', 'GFL', 'GGR', 'GANX', 'GECCO', 'GATE', 'GFS', 'GAN', 'GDST', 'GFAI']: Exception(\"%ticker%: Data doesn't exist for startDate = 628491600, endDate = 1580446800\")\n",
      "['GDV$K', 'GB.W', 'GAQ.U', 'GAQ.W', 'GDV$H', 'GGN$B', 'GDL$C']: Exception('%ticker%: No timezone found, symbol may be delisted')\n",
      "['GEF.B']: Exception('%ticker%: No price data found, symbol may be delisted (1d 1989-12-01 -> 2020-1-31)')\n",
      "[                       0%%                      ]"
     ]
    },
    {
     "name": "stdout",
     "output_type": "stream",
     "text": [
      "Success:    30/   30 | To go: 00:10:29 (4,774)\n"
     ]
    },
    {
     "name": "stderr",
     "output_type": "stream",
     "text": [
      "[*********************100%%**********************]  100 of 100 completed\n",
      "\n",
      "44 Failed downloads:\n",
      "['GHIXU', 'GLLI', 'GMFI', 'GHLD', 'GLADZ', 'GLBE', 'GHIX', 'GMM', 'GMFIU', 'GIA', 'GIPR', 'GHRS', 'GLSI', 'GMBLP', 'GLST', 'GLUE', 'GLACU', 'GLAC', 'GLTO', 'GLSTU', 'GLLIU']: Exception(\"%ticker%: Data doesn't exist for startDate = 628491600, endDate = 1580446800\")\n",
      "['GL$D', 'GLU$B', 'GLP$A', 'GLP$B', 'GGT$G', 'GGT$E', 'GLOG$A', 'GLU$A', 'GLOP$A', 'GLOP$C', 'GLOP$B', 'GMRE$A']: Exception('%ticker%: No timezone found, symbol may be delisted')\n",
      "['GLLIW', 'GLLIR', 'GLSTR', 'GMBLZ', 'GMBLW', 'GMFIW', 'GGROW', 'GLSTW', 'GLACR', 'GIPRW', 'GHIXW']: Exception(\"%ticker%: Period 'max' is invalid, must be one of ['1d', '5d']\")\n",
      "[*                      2%%                      ]  2 of 100 completed"
     ]
    },
    {
     "name": "stdout",
     "output_type": "stream",
     "text": [
      "Success:    31/   31 | To go: 00:10:16 (4,674)\n"
     ]
    },
    {
     "name": "stderr",
     "output_type": "stream",
     "text": [
      "[**********************99%%**********************]  99 of 100 completed\n",
      "\n",
      "44 Failed downloads:\n",
      "['GROMW', 'GOVXW', 'GOEVW', 'GPACW', 'GODNR', 'GRRRW']: Exception(\"%ticker%: Period 'max' is invalid, must be one of ['1d', '5d']\")\n",
      "['GOVX', 'GNS', 'GRI', 'GRAB', 'GPACU', 'GROV', 'GNTA', 'GRABW', 'GOODO', 'GREEL', 'GPCR', 'GRCL', 'GRND', 'GPAC', 'GODN', 'GNLX', 'GP', 'GOCO', 'GRNT', 'GRPH', 'GPOR', 'GPAK', 'GRRR', 'GROY', 'GRFX', 'GODNU']: Exception(\"%ticker%: Data doesn't exist for startDate = 628491600, endDate = 1580446800\")\n",
      "['GROY.W', 'GRND.W', 'GS$A', 'GS$C', 'GRP.U', 'GNL$E', 'GNT$A', 'GNL$B', 'GRBK$A', 'GPMT$A', 'GNL$A', 'GNL$D']: Exception('%ticker%: No timezone found, symbol may be delisted')\n",
      "[                       0%%                      ]"
     ]
    },
    {
     "name": "stdout",
     "output_type": "stream",
     "text": [
      "Success:    32/   32 | To go: 00:10:03 (4,574)\n"
     ]
    },
    {
     "name": "stderr",
     "output_type": "stream",
     "text": [
      "[*********************100%%**********************]  100 of 100 completed\n",
      "\n",
      "40 Failed downloads:\n",
      "['GS$K', 'GSL$B', 'GTLS$B', 'GTN.A', 'GS$D', 'GWH.W', 'GUT$C']: Exception('%ticker%: No timezone found, symbol may be delisted')\n",
      "['GTH', 'HCP', 'GXO', 'GV', 'HBANP', 'GTACU', 'HCWB', 'HBANL', 'HAYW', 'HCVI', 'GWH', 'GVH', 'HAIA', 'GTAC', 'GXAI', 'GUG', 'GSD', 'HCTI', 'GTLB', 'GSUN', 'HCMAU', 'GSDWU', 'HCVIU', 'HBANM', 'GSIW', 'HCMA', 'HAIAU']: Exception(\"%ticker%: Data doesn't exist for startDate = 628491600, endDate = 1580446800\")\n",
      "['HCMAW', 'GTACW', 'HAIAW', 'HCVIW', 'GSDWW', 'GSMGW']: Exception(\"%ticker%: Period 'max' is invalid, must be one of ['1d', '5d']\")\n"
     ]
    },
    {
     "name": "stdout",
     "output_type": "stream",
     "text": [
      "Success:    33/   33 | To go: 00:09:52 (4,474)\n"
     ]
    },
    {
     "name": "stderr",
     "output_type": "stream",
     "text": [
      "[*********************100%%**********************]  100 of 100 completed\n",
      "\n",
      "39 Failed downloads:\n",
      "['HOOD', 'HNVR', 'HKD', 'HOLO', 'HHGC', 'HG', 'HIPO', 'HLTH', 'HKIT', 'HLLY', 'HLMN', 'HLP', 'HITI', 'HOUR', 'HNNAZ', 'HLVX', 'HNST', 'HLN', 'HHGCU', 'HEPS', 'HNRA', 'HHLA', 'HGAS', 'HGTY']: Exception(\"%ticker%: Data doesn't exist for startDate = 628491600, endDate = 1580446800\")\n",
      "['HGTY.W', 'HHLA.U', 'HNRA.W', 'HLLY.W', 'HL$B', 'HIPO.W', 'HEI.A', 'HHLA.W', 'HIG$G', 'HFRO$A']: Exception('%ticker%: No timezone found, symbol may be delisted')\n",
      "['HHGCW', 'HHGCR', 'HGASW', 'HOLOW', 'HOFVW']: Exception(\"%ticker%: Period 'max' is invalid, must be one of ['1d', '5d']\")\n",
      "[**                     4%%                      ]  4 of 100 completed"
     ]
    },
    {
     "name": "stdout",
     "output_type": "stream",
     "text": [
      "Success:    34/   34 | To go: 00:09:41 (4,374)\n"
     ]
    },
    {
     "name": "stderr",
     "output_type": "stream",
     "text": [
      "[*********************100%%**********************]  100 of 100 completed\n",
      "\n",
      "43 Failed downloads:\n",
      "['HSCSW', 'HUBCW', 'HUMAW', 'HOVRW', 'HTZWW', 'HUBCZ', 'HSPOR', 'HSPOW']: Exception(\"%ticker%: Period 'max' is invalid, must be one of ['1d', '5d']\")\n",
      "['HWM$', 'HVT.A', 'HPP$C', 'HYAC.U']: Exception('%ticker%: No timezone found, symbol may be delisted')\n",
      "['HRMY', 'HTFC', 'HOVR', 'HTZ', 'HRYU', 'HTOO', 'HWH', 'HUDI', 'HUIZ', 'HYAC', 'HOWL', 'HTIBP', 'HSHP', 'HTLFP', 'HROWL', 'HPCO', 'HROWM', 'HUDA', 'HTFB', 'HRT', 'HSPO', 'HUDAU', 'HWCPZ', 'HSPOU', 'HTCR', 'HTOOW', 'HSAI', 'HUBC', 'HSCS', 'HUMA', 'HUDAR']: Exception(\"%ticker%: Data doesn't exist for startDate = 628491600, endDate = 1580446800\")\n",
      "[                       0%%                      ]"
     ]
    },
    {
     "name": "stdout",
     "output_type": "stream",
     "text": [
      "Success:    35/   35 | To go: 00:09:28 (4,274)\n"
     ]
    },
    {
     "name": "stderr",
     "output_type": "stream",
     "text": [
      "[*********************100%%**********************]  99 of 100 completed\n",
      "\n",
      "34 Failed downloads:\n",
      "['ICVX', 'IE', 'IINNW', 'IAS', 'ICU', 'IBEX', 'IH', 'IHS', 'HYPR', 'ICCT', 'IGTAU', 'ICCM', 'IGTA', 'HYZN', 'ICG', 'HYFM', 'IAUX', 'IFIN', 'HYW', 'IFBD', 'IINN', 'HYMCL', 'IDAI', 'IBIT']: Exception(\"%ticker%: Data doesn't exist for startDate = 628491600, endDate = 1580446800\")\n",
      "['IGTAR', 'IGTAW', 'IBO', 'HYZNW', 'ICUCW', 'HYMCW']: Exception(\"%ticker%: Period 'max' is invalid, must be one of ['1d', '5d']\")\n",
      "['IGZ', 'ICR$A', 'HYAC.W', 'IFIN.U']: Exception('%ticker%: No timezone found, symbol may be delisted')\n"
     ]
    },
    {
     "name": "stdout",
     "output_type": "stream",
     "text": [
      "Success:    36/   36 | To go: 00:09:14 (4,174)\n"
     ]
    },
    {
     "name": "stderr",
     "output_type": "stream",
     "text": [
      "[*********************100%%**********************]  100 of 100 completed\n",
      "\n",
      "43 Failed downloads:\n",
      "['INTA', 'INTEU', 'INTE', 'INTS', 'INKT', 'INBX', 'IOBT', 'INST', 'IKNA', 'INFA', 'IKT', 'INAQU', 'IONQ', 'INAB', 'INVO', 'INZY', 'INAQ', 'IMCC', 'IMNM', 'INVZ', 'INBS', 'IMAQU', 'IMAQ', 'INHD', 'IMCR', 'INTR', 'INAQW', 'ILAG', 'IMPP', 'IMRX', 'IMMX', 'INNV', 'IMPPP']: Exception(\"%ticker%: Data doesn't exist for startDate = 628491600, endDate = 1580446800\")\n",
      "['INTEW', 'IMAQR', 'IMAQW', 'IMTXW', 'IMACW', 'INVZW']: Exception(\"%ticker%: Period 'max' is invalid, must be one of ['1d', '5d']\")\n",
      "['INN$F', 'IIPR$A', 'INN$E', 'IONQ.W']: Exception('%ticker%: No timezone found, symbol may be delisted')\n",
      "[                       0%%                      ]"
     ]
    },
    {
     "name": "stdout",
     "output_type": "stream",
     "text": [
      "Success:    37/   37 | To go: 00:09:01 (4,074)\n"
     ]
    },
    {
     "name": "stderr",
     "output_type": "stream",
     "text": [
      "[*********************100%%**********************]  100 of 100 completed\n",
      "\n",
      "47 Failed downloads:\n",
      "['ISRL', 'IONR', 'ISPO', 'IVCBU', 'IXHL', 'IXAQ', 'IRAA', 'ITRG', 'IZM', 'IVCP', 'IVCA', 'IPXXU', 'ISPOW', 'IVCB', 'IOT', 'IPX', 'IPXX', 'IVP', 'IRON', 'IVCPU', 'IVA', 'IVVD', 'ISPC', 'ISRLU', 'ITOS', 'IREN', 'IXAQU', 'IPSC', 'IRAAU', 'IVCAU', 'ISPR', 'IPW', 'IRRX', 'IROHU']: Exception(\"%ticker%: Data doesn't exist for startDate = 628491600, endDate = 1580446800\")\n",
      "['IVCBW', 'IXAQW', 'IVCAW', 'IVCPW', 'ISRLW', 'IRAAW', 'IPXXW', 'IVDAW']: Exception(\"%ticker%: Period 'max' is invalid, must be one of ['1d', '5d']\")\n",
      "['IVR$C', 'IRS.W', 'IRRX.U', 'IRRX.W', 'IVR$B']: Exception('%ticker%: No timezone found, symbol may be delisted')\n",
      "[                       0%%                      ]"
     ]
    },
    {
     "name": "stdout",
     "output_type": "stream",
     "text": [
      "Success:    38/   38 | To go: 00:08:48 (3,974)\n"
     ]
    },
    {
     "name": "stderr",
     "output_type": "stream",
     "text": [
      "[*********************100%%**********************]  100 of 100 completed\n",
      "\n",
      "34 Failed downloads:\n",
      "['JWEL', 'JTAIZ', 'JZXN', 'JANX', 'JXN', 'JOBY', 'JVSAU', 'KACL', 'JYD', 'JZ', 'JCSE', 'JEWL', 'JAMF', 'JFBR', 'JNVR', 'JWSM', 'JTAI', 'KACLU', 'JOAN']: Exception(\"%ticker%: Data doesn't exist for startDate = 628491600, endDate = 1580446800\")\n",
      "['JPM$C', 'JWSM.W', 'JPM$D', 'JPM$L', 'JWSM.U', 'JXN$A', 'JPM$K', 'JOBY.W', 'JPM$J', 'JPM$M']: Exception('%ticker%: No timezone found, symbol may be delisted')\n",
      "['KACLW', 'JSPRW', 'JFBRW', 'JTAIW', 'KACLR']: Exception(\"%ticker%: Period 'max' is invalid, must be one of ['1d', '5d']\")\n",
      "[                       0%%                      ]"
     ]
    },
    {
     "name": "stdout",
     "output_type": "stream",
     "text": [
      "Success:    39/   39 | To go: 00:08:32 (3,874)\n"
     ]
    },
    {
     "name": "stderr",
     "output_type": "stream",
     "text": [
      "[*********************100%%**********************]  100 of 100 completed\n",
      "\n",
      "33 Failed downloads:\n",
      "['KLTR', 'KORE', 'KRNLU', 'KRNL', 'KD', 'KARO', 'KRON', 'KAVL', 'KKRS', 'KIND', 'KCGI', 'KLG', 'KROS', 'KC', 'KGS', 'KNTE', 'KMPB', 'KITT', 'KNF']: Exception(\"%ticker%: Data doesn't exist for startDate = 628491600, endDate = 1580446800\")\n",
      "['KREF$A', 'KCGI.U', 'KEY$K', 'KEY$L', 'KCGI.W', 'KEY$J', 'KIM$L', 'KIM$N', 'KIM$M', 'KEY$I']: Exception('%ticker%: No timezone found, symbol may be delisted')\n",
      "['KPLTW', 'KITTW', 'KRNLW', 'KERNW']: Exception(\"%ticker%: Period 'max' is invalid, must be one of ['1d', '5d']\")\n",
      "[                       0%%                      ]"
     ]
    },
    {
     "name": "stdout",
     "output_type": "stream",
     "text": [
      "Success:    40/   40 | To go: 00:08:19 (3,774)\n"
     ]
    },
    {
     "name": "stderr",
     "output_type": "stream",
     "text": [
      "[*********************100%%**********************]  100 of 100 completed\n",
      "\n",
      "49 Failed downloads:\n",
      "['KWE', 'LAC', 'LCAA', 'LAES', 'LCAAU', 'KVAC', 'LCW', 'LABP', 'LANDM', 'KYCHU', 'LBPH', 'KVUE', 'KYMR', 'LDI', 'KVYO', 'KUKE', 'LBRDP', 'LCA', 'KSCP', 'LCID', 'LBBBU', 'KSPI', 'KYCH', 'LANV', 'LBBB', 'LANDP', 'LASE', 'KTTA', 'LATGU', 'LCFY', 'LATG', 'LCAHU', 'LAW', 'KRT', 'LANDO', 'KVACU']: Exception(\"%ticker%: Data doesn't exist for startDate = 628491600, endDate = 1580446800\")\n",
      "['LBBBR', 'KTTAW', 'LCFYW', 'KVACW', 'LCAHW', 'KWESW', 'LCAAW', 'KYCHR', 'KYCHW', 'LBBBW']: Exception(\"%ticker%: Period 'max' is invalid, must be one of ['1d', '5d']\")\n",
      "['LCW.U', 'LANV.W', 'LCW.W']: Exception('%ticker%: No timezone found, symbol may be delisted')\n",
      "[                       0%%                      ]"
     ]
    },
    {
     "name": "stdout",
     "output_type": "stream",
     "text": [
      "Success:    41/   41 | To go: 00:08:07 (3,674)\n"
     ]
    },
    {
     "name": "stderr",
     "output_type": "stream",
     "text": [
      "[*********************100%%**********************]  100 of 100 completed\n",
      "\n",
      "47 Failed downloads:\n",
      "['LIDR', 'LIDRW', 'LESL', 'LILM', 'LEXX', 'LEV', 'LFST', 'LIFWW', 'LEGN', 'LGVN', 'LLYVK', 'LDTC', 'LIPO', 'LIAN', 'LIBYU', 'LIXTW', 'LGCB', 'LGVC', 'LI', 'LITM', 'LICY', 'LICN', 'LILMW', 'LGVCU', 'LGST', 'LGSTU', 'LLYVA', 'LIFW', 'LIBY', 'LFMDP', 'LLAP', 'LIBYW']: Exception(\"%ticker%: Data doesn't exist for startDate = 628491600, endDate = 1580446800\")\n",
      "['LIFWZ', 'LFLYW', 'LGVCW', 'LGSTW', 'LEXXW', 'LGHLW', 'LDTCW']: Exception(\"%ticker%: Period 'max' is invalid, must be one of ['1d', '5d']\")\n",
      "['LGF.B', 'LEN.B']: Exception('%ticker%: No price data found, symbol may be delisted (1d 1989-12-01 -> 2020-1-31)')\n",
      "['LFT$A', 'LEV.W', 'LGL.W', 'LGF.A', 'LEV.A', 'LLAP.W']: Exception('%ticker%: No timezone found, symbol may be delisted')\n",
      "[                       0%%                      ]"
     ]
    },
    {
     "name": "stdout",
     "output_type": "stream",
     "text": [
      "Success:    42/   42 | To go: 00:07:54 (3,574)\n"
     ]
    },
    {
     "name": "stderr",
     "output_type": "stream",
     "text": [
      "[*********************100%%**********************]  100 of 100 completed\n",
      "\n",
      "38 Failed downloads:\n",
      "['LSDI', 'LXEH', 'LNZA', 'LTH', 'LUNR', 'LUCYW', 'LSF', 'LNSR', 'LUXH', 'LUNG', 'LXEO', 'LUXHP', 'LRHC', 'LVTX', 'LPTV', 'LMND', 'LVWR', 'LQR', 'LNKB', 'LRE', 'LVLU', 'LUCY', 'LVRO', 'LSPD', 'LTRY', 'LTRN', 'LOCL', 'LU', 'LUCD']: Exception(\"%ticker%: Data doesn't exist for startDate = 628491600, endDate = 1580446800\")\n",
      "['LVROW', 'LSEAW', 'LNZAW', 'LUNRW', 'LTRYW']: Exception(\"%ticker%: Period 'max' is invalid, must be one of ['1d', '5d']\")\n",
      "['LVWR.W', 'LNC$D', 'LMND.W', 'LXP$C']: Exception('%ticker%: No timezone found, symbol may be delisted')\n",
      "[*                      2%%                      ]  2 of 100 completed"
     ]
    },
    {
     "name": "stdout",
     "output_type": "stream",
     "text": [
      "Success:    43/   43 | To go: 00:07:45 (3,474)\n"
     ]
    },
    {
     "name": "stderr",
     "output_type": "stream",
     "text": [
      "[*********************100%%**********************]  100 of 100 completed\n",
      "\n",
      "43 Failed downloads:\n",
      "['LZM.W', 'MAA$I']: Exception('%ticker%: No timezone found, symbol may be delisted')\n",
      "['MAQC', 'MAIA', 'MAQCU', 'MBC', 'MCAGU', 'MCAC', 'MBINM', 'MCAG', 'MAX', 'LZM', 'LZ', 'MACA', 'MCAF', 'MACAU', 'MAXN', 'MCW', 'LYEL', 'MCAA', 'MAMA', 'MARX', 'LYRA', 'MBINN', 'MBTCU', 'MCAFU', 'MBLY', 'LYT', 'MCACU', 'MBTC', 'MARXU', 'MASS', 'MCAAU']: Exception(\"%ticker%: Data doesn't exist for startDate = 628491600, endDate = 1580446800\")\n",
      "['MCAAW', 'MCAFR', 'MAPSW', 'MCAGR', 'MCACR', 'MARXR', 'MACAW', 'MCACW', 'MAQCW', 'MBTCR']: Exception(\"%ticker%: Period 'max' is invalid, must be one of ['1d', '5d']\")\n"
     ]
    },
    {
     "name": "stdout",
     "output_type": "stream",
     "text": [
      "Success:    44/   44 | To go: 00:07:30 (3,374)\n"
     ]
    },
    {
     "name": "stderr",
     "output_type": "stream",
     "text": [
      "[*********************100%%**********************]  100 of 100 completed\n",
      "\n",
      "30 Failed downloads:\n",
      "['MFA$B', 'MET$A', 'MDV$A', 'MER$K', 'MET$E', 'MET$F', 'MFA$C']: Exception('%ticker%: No timezone found, symbol may be delisted')\n",
      "['MGIH', 'MDBH', 'MGAM', 'MIMO', 'MGRD', 'METCL', 'MDXH', 'MGRB', 'MHUA', 'MDAI', 'MFICL', 'MGLD', 'MEG', 'MGOL', 'MDRRP', 'METCB', 'MEGI', 'ME', 'MGRM', 'MDV', 'MEGL', 'MGRX']: Exception(\"%ticker%: Data doesn't exist for startDate = 628491600, endDate = 1580446800\")\n",
      "['MDAIW']: Exception(\"%ticker%: Period 'max' is invalid, must be one of ['1d', '5d']\")\n",
      "[*                      3%%                      ]  3 of 100 completed"
     ]
    },
    {
     "name": "stdout",
     "output_type": "stream",
     "text": [
      "Success:    45/   45 | To go: 00:07:18 (3,274)\n"
     ]
    },
    {
     "name": "stderr",
     "output_type": "stream",
     "text": [
      "[*********************100%%**********************]  100 of 100 completed\n",
      "\n",
      "45 Failed downloads:\n",
      "['MODD', 'MNR', 'MIO', 'MNSBP', 'MOND', 'MNTN', 'MIRA', 'MLYS', 'MOBBW', 'MNDY', 'MIR', 'MLEC', 'MNY', 'MITQ', 'MITAU', 'MLNK', 'MOLN', 'MOB', 'MOBX', 'MMV', 'MNYWW', 'ML', 'MNTK', 'MLTX', 'MKTW', 'MLGO', 'MITA', 'MKFG', 'MNSO']: Exception(\"%ticker%: Data doesn't exist for startDate = 628491600, endDate = 1580446800\")\n",
      "['MNTSW', 'MITAW', 'MMVWW', 'MLECW', 'MOBXW']: Exception(\"%ticker%: Period 'max' is invalid, must be one of ['1d', '5d']\")\n",
      "['MITT$C', 'ML.W', 'MITT$B', 'MITT$A', 'MOG.A', 'MIR.W', 'MOG.B', 'MKFG.W', 'MKC.V', 'MNTN.W', 'MNTN.U']: Exception('%ticker%: No timezone found, symbol may be delisted')\n"
     ]
    },
    {
     "name": "stdout",
     "output_type": "stream",
     "text": [
      "Success:    46/   46 | To go: 00:07:04 (3,174)\n"
     ]
    },
    {
     "name": "stderr",
     "output_type": "stream",
     "text": [
      "[*********************100%%**********************]  100 of 100 completed\n",
      "\n",
      "35 Failed downloads:\n",
      "['MSSA', 'MSGE', 'MTAL', 'MRDB', 'MSAI', 'MSGM', 'MSS', 'MRVI', 'MPLN', 'MP', 'MTTR', 'MSSAU', 'MRT', 'MQ', 'MOVE', 'MTEK', 'MPTI', 'MSBIP', 'MRAI', 'MRM']: Exception(\"%ticker%: Data doesn't exist for startDate = 628491600, endDate = 1580446800\")\n",
      "['MS$E', 'MS$F', 'MS$A', 'MS$K', 'MTAL.W', 'MS$I', 'MS$O', 'MS$P', 'MRDB.W', 'MS$L', 'MTB$H']: Exception('%ticker%: No timezone found, symbol may be delisted')\n",
      "['MSSAW', 'MSAIW', 'MSSAR', 'MTEKW']: Exception(\"%ticker%: Period 'max' is invalid, must be one of ['1d', '5d']\")\n",
      "[                       0%%                      ]"
     ]
    },
    {
     "name": "stdout",
     "output_type": "stream",
     "text": [
      "Success:    47/   47 | To go: 00:06:50 (3,074)\n"
     ]
    },
    {
     "name": "stderr",
     "output_type": "stream",
     "text": [
      "[*********************100%%**********************]  100 of 100 completed\n",
      "\n",
      "34 Failed downloads:\n",
      "['MVLAW', 'NCPLW', 'NBSTW', 'MVSTW', 'NCACW', 'NCNCW']: Exception(\"%ticker%: Period 'max' is invalid, must be one of ['1d', '5d']\")\n",
      "['NBBK', 'MYNZ', 'NBXG', 'MVLA', 'NAPA', 'NATL', 'NCRA', 'NAMSW', 'NAMS', 'NBST', 'NCL', 'MYNA', 'MXCT', 'NCAC', 'MYPSW', 'NB', 'MYPS', 'NCACU', 'NBTX', 'NBSTU', 'MWG', 'NAUT', 'NARI', 'MURA', 'NCNO', 'NABL', 'MYTE', 'NCNC']: Exception(\"%ticker%: Data doesn't exist for startDate = 628491600, endDate = 1580446800\")\n"
     ]
    },
    {
     "name": "stdout",
     "output_type": "stream",
     "text": [
      "Success:    48/   48 | To go: 00:06:36 (2,974)\n"
     ]
    },
    {
     "name": "stderr",
     "output_type": "stream",
     "text": [
      "[*********************100%%**********************]  100 of 100 completed\n",
      "\n",
      "37 Failed downloads:\n",
      "['NEXI', 'NLSP', 'NEXN', 'NDMO', 'NETDU', 'NKTX', 'NEWTI', 'NEWTZ', 'NFGC', 'NLOP', 'NEOV', 'NE', 'NETD', 'NLSPW', 'NGMS', 'NFYS', 'NKGN']: Exception(\"%ticker%: Data doesn't exist for startDate = 628491600, endDate = 1580446800\")\n",
      "['NEE$R', 'NCV$A', 'NM$H', 'NLY$G', 'NLY$F', 'NGL$C', 'NEE$N', 'NGL$B', 'NLY$I', 'NFYS.U', 'NE.W', 'NM$G', 'NE.A', 'NI$B', 'NFYS.W', 'NCZ$A']: Exception('%ticker%: No timezone found, symbol may be delisted')\n",
      "['NIOBW', 'NKGNW', 'NETDW', 'NEOVW']: Exception(\"%ticker%: Period 'max' is invalid, must be one of ['1d', '5d']\")\n",
      "[                       0%%                      ]"
     ]
    },
    {
     "name": "stdout",
     "output_type": "stream",
     "text": [
      "Success:    49/   49 | To go: 00:06:24 (2,874)\n"
     ]
    },
    {
     "name": "stderr",
     "output_type": "stream",
     "text": [
      "[**********************99%%**********************]  99 of 100 completed\n",
      "\n",
      "44 Failed downloads:\n",
      "['NNAGW', 'NNAGR', 'NOVVR', 'NPABW', 'NRXPW', 'NOVVW', 'NRACW', 'NNAVW', 'NRSNW']: Exception(\"%ticker%: Period 'max' is invalid, must be one of ['1d', '5d']\")\n",
      "['NMG', 'NPCE', 'NPAB', 'NRGV', 'NOVV', 'NPFD', 'NRAC', 'NPWR', 'NSTB', 'NREF', 'NNAG', 'NRDS', 'NMAI', 'NRIX', 'NPCT', 'NRDY', 'NRXS', 'NPABU', 'NRACU', 'NNAGU', 'NMFCZ', 'NRSN', 'NN', 'NNOX', 'NOTE', 'NOVVU', 'NMRA']: Exception(\"%ticker%: Data doesn't exist for startDate = 628491600, endDate = 1580446800\")\n",
      "['NPWR.W', 'NS$C', 'NOTE.W', 'NSA$A', 'NREF$A', 'NSA$B', 'NS$A', 'NS$B']: Exception('%ticker%: No timezone found, symbol may be delisted')\n",
      "[                       0%%                      ]"
     ]
    },
    {
     "name": "stdout",
     "output_type": "stream",
     "text": [
      "Success:    50/   50 | To go: 00:06:10 (2,774)\n"
     ]
    },
    {
     "name": "stderr",
     "output_type": "stream",
     "text": [
      "[*********************100%%**********************]  100 of 100 completed\n",
      "\n",
      "39 Failed downloads:\n",
      "['NXGLW', 'NVNIW', 'NVVEW', 'NUBIW', 'NWTNW', 'NTEST', 'NVACW', 'NVACR']: Exception(\"%ticker%: Period 'max' is invalid, must be one of ['1d', '5d']\")\n",
      "['NTRBW', 'NUTX', 'NVOS', 'NVAC', 'NWGL', 'NVX', 'NUKKW', 'NUVL', 'NVTS', 'NVCT', 'NVNI', 'NTST', 'NUVB', 'NVVE', 'NUBIU', 'NWTN', 'NSTS', 'NU', 'NXGL', 'NUBI', 'NTRB', 'NVEI', 'NUZE', 'NXL']: Exception(\"%ticker%: Data doesn't exist for startDate = 628491600, endDate = 1580446800\")\n",
      "['NUVB.W', 'NTEST.A', 'NSTB.U', 'NXDT$A', 'NTEST.B', 'NTEST.C']: Exception('%ticker%: No timezone found, symbol may be delisted')\n",
      "['NUKK']: Exception('%ticker%: No price data found, symbol may be delisted (1d 1989-12-01 -> 2020-1-31)')\n",
      "[*                      2%%                      ]  2 of 100 completed"
     ]
    },
    {
     "name": "stdout",
     "output_type": "stream",
     "text": [
      "Success:    51/   51 | To go: 00:05:56 (2,674)\n"
     ]
    },
    {
     "name": "stderr",
     "output_type": "stream",
     "text": [
      "[*********************100%%**********************]  100 of 100 completed\n",
      "\n",
      "42 Failed downloads:\n",
      "['OCAX', 'NXT', 'NYC', 'OLMA', 'OGN', 'OCCIO', 'OAKUR', 'ODD', 'OLK', 'NYAX', 'OB', 'OABI', 'OCAXU', 'OCG', 'OCS', 'OFSSH', 'OLO', 'OCTO', 'NXU', 'OBIO', 'NYMTL', 'OKYO', 'OCFCP', 'NYXH', 'OAKUU', 'NYMTZ', 'OCEA', 'OCCIN', 'OAKU']: Exception(\"%ticker%: Data doesn't exist for startDate = 628491600, endDate = 1580446800\")\n",
      "['OAK$B', 'NYCB$U', 'OAK$A', 'NYCB$A', 'O$']: Exception('%ticker%: No timezone found, symbol may be delisted')\n",
      "['OCAXW', 'OCSAW', 'OCEAW', 'NXPLW', 'OAKUW', 'NXLIW', 'OABIW', 'ODVWZ']: Exception(\"%ticker%: Period 'max' is invalid, must be one of ['1d', '5d']\")\n",
      "[*                      2%%                      ]  2 of 100 completed"
     ]
    },
    {
     "name": "stdout",
     "output_type": "stream",
     "text": [
      "Success:    52/   52 | To go: 00:05:42 (2,574)\n"
     ]
    },
    {
     "name": "stderr",
     "output_type": "stream",
     "text": [
      "[*********************100%%**********************]  100 of 100 completed\n",
      "\n",
      "47 Failed downloads:\n",
      "['OP', 'ONBPP', 'ONYX', 'ONBPO', 'OPAL', 'ONYXU', 'OMH', 'OTEC', 'ONEW', 'OSCR', 'OSI', 'OTECU', 'OPFI', 'ONDS', 'ONON', 'ONMD', 'ONCO', 'OPAD', 'OPTX', 'ONTF', 'OPT', 'ORIC', 'OLPX', 'OSAAW', 'OPINL', 'OMIC', 'OSA', 'OPA', 'OMGA', 'OPEN', 'ORGN', 'OST', 'ONL', 'ONFO', 'OM']: Exception(\"%ticker%: Data doesn't exist for startDate = 628491600, endDate = 1580446800\")\n",
      "['ONYXW', 'ORGNW', 'ONFOW', 'ONMDW', 'OPTXW']: Exception(\"%ticker%: Period 'max' is invalid, must be one of ['1d', '5d']\")\n",
      "['OPA.W', 'OSI.U', 'OPFI.W', 'OPA.U', 'OPP$B', 'OPP$A', 'OSI.W']: Exception('%ticker%: No timezone found, symbol may be delisted')\n",
      "[*                      2%%                      ]  2 of 100 completed"
     ]
    },
    {
     "name": "stdout",
     "output_type": "stream",
     "text": [
      "Success:    53/   53 | To go: 00:05:27 (2,474)\n"
     ]
    },
    {
     "name": "stderr",
     "output_type": "stream",
     "text": [
      "[*********************100%%**********************]  100 of 100 completed\n",
      "\n",
      "41 Failed downloads:\n",
      "['OXSQG', 'OXUSU', 'OTECW', 'OUST', 'PBAX', 'PAXS', 'PARAP', 'OXLCL', 'PAPL', 'OTIS', 'OXLCZ', 'OTLY', 'PAX', 'OXUS', 'OXLCP', 'PATH', 'OWL', 'PBBK', 'PAYO', 'OZ', 'PASG', 'PAY', 'OZKAP', 'OWLT', 'OXLCN', 'PBAXU', 'OXLCO']: Exception(\"%ticker%: Data doesn't exist for startDate = 628491600, endDate = 1580446800\")\n",
      "['OUST.W', 'PCG$D', 'PCG$B', 'PBR.A', 'PCG$A', 'OXY.W', 'PCG$C', 'OUST.A', 'PBI$B']: Exception('%ticker%: No timezone found, symbol may be delisted')\n",
      "['PBAXW', 'PAVMZ', 'OXUSW', 'OXBRW', 'PAYOW']: Exception(\"%ticker%: Period 'max' is invalid, must be one of ['1d', '5d']\")\n",
      "[*                      2%%                      ]  2 of 100 completed"
     ]
    },
    {
     "name": "stdout",
     "output_type": "stream",
     "text": [
      "Success:    54/   54 | To go: 00:05:13 (2,374)\n"
     ]
    },
    {
     "name": "stderr",
     "output_type": "stream",
     "text": [
      "[*********************100%%**********************]  100 of 100 completed\n",
      "\n",
      "37 Failed downloads:\n",
      "['PERF.W', 'PCG$I', 'PEB$E', 'PEB$H', 'PCG$G', 'PGSS.W', 'PGSS.U', 'PCG$E', 'PEB$G', 'PEB$F', 'PCG$H']: Exception('%ticker%: No timezone found, symbol may be delisted')\n",
      "['PFH', 'PCVX', 'PFXNZ', 'PECO', 'PERF', 'PCOR', 'PET', 'PFTA', 'PEPG', 'PEV', 'PDO', 'PGSS', 'PEPLU', 'PCTTU', 'PGRU', 'PCT', 'PEGR', 'PEGRU', 'PEPL', 'PFTAU']: Exception(\"%ticker%: Data doesn't exist for startDate = 628491600, endDate = 1580446800\")\n",
      "['PFTAW', 'PETWW', 'PEPLW', 'PEGRW', 'PETVW', 'PCTTW']: Exception(\"%ticker%: Period 'max' is invalid, must be one of ['1d', '5d']\")\n",
      "[                       0%%                      ]"
     ]
    },
    {
     "name": "stdout",
     "output_type": "stream",
     "text": [
      "Success:    55/   55 | To go: 00:04:59 (2,274)\n"
     ]
    },
    {
     "name": "stderr",
     "output_type": "stream",
     "text": [
      "[*********************100%%**********************]  100 of 100 completed\n",
      "\n",
      "38 Failed downloads:\n",
      "['PMVP', 'PMGMU', 'PLBY', 'PLTNU', 'PIII', 'PLMIU', 'PMTU', 'PGYWW', 'PLAOU', 'PMGM', 'PLAO', 'PLTR', 'PLRX', 'PLTN', 'PKST', 'PHAR', 'PL', 'PMEC', 'PLTK', 'PHVS', 'PGY', 'PHIN', 'PLMI', 'PHYT', 'PIK']: Exception(\"%ticker%: Data doesn't exist for startDate = 628491600, endDate = 1580446800\")\n",
      "['PHYT.U', 'PMT$C', 'PHGE.U', 'PMT$A', 'PHYT.W', 'PMT$B', 'PL.W']: Exception('%ticker%: No timezone found, symbol may be delisted')\n",
      "['PLTNR', 'PLMIW', 'PIIIW', 'PMGMW', 'PLTNW', 'PLAOW']: Exception(\"%ticker%: Period 'max' is invalid, must be one of ['1d', '5d']\")\n",
      "[                       0%%                      ]"
     ]
    },
    {
     "name": "stdout",
     "output_type": "stream",
     "text": [
      "Success:    56/   56 | To go: 00:04:45 (2,174)\n"
     ]
    },
    {
     "name": "stderr",
     "output_type": "stream",
     "text": [
      "[*********************100%%**********************]  100 of 100 completed\n",
      "\n",
      "42 Failed downloads:\n",
      "['PROCW', 'PRLHW', 'PPHPR', 'PRENW', 'PPHPW', 'PPYAW', 'PRSTW']: Exception(\"%ticker%: Period 'max' is invalid, must be one of ['1d', '5d']\")\n",
      "['PNST.W', 'PRIF$I', 'PRIF$F', 'PRIF$K', 'PORT.W', 'PRIF$G', 'PRIF$L', 'PRE$J', 'PRIF$H', 'PRIF$J', 'PORT.U', 'PRIF$D']: Exception('%ticker%: No timezone found, symbol may be delisted')\n",
      "['POL', 'PPYAU', 'PROK', 'PPHPU', 'PPHP', 'POWWP', 'PRFX', 'PORT', 'PRST', 'PNST', 'PRAX', 'PPTA', 'PRLHU', 'PODC', 'PRE', 'PRM', 'PRH', 'PNFPP', 'PRCT', 'PRLD', 'PPYA', 'PRME', 'PRLH']: Exception(\"%ticker%: Data doesn't exist for startDate = 628491600, endDate = 1580446800\")\n",
      "[                       0%%                      ]"
     ]
    },
    {
     "name": "stdout",
     "output_type": "stream",
     "text": [
      "Success:    57/   57 | To go: 00:04:32 (2,074)\n"
     ]
    },
    {
     "name": "stderr",
     "output_type": "stream",
     "text": [
      "[*********************100%%**********************]  100 of 100 completed\n",
      "\n",
      "54 Failed downloads:\n",
      "['PTPI', 'PXSAP', 'PWSC', 'PYPD', 'PXMD', 'PWUP', 'PSFE', 'PYXS', 'PTIX', 'PTVE', 'PWUPU', 'PWP', 'PRTC', 'PUBM', 'PTWOU', 'PSQH', 'PSBD', 'PTA', 'PSTX', 'PX', 'PTLO', 'PUCK', 'PYCR', 'PRZO', 'PUCKU', 'PXDT', 'PSNYW', 'PSNY', 'PTWO', 'PRVA', 'PWM']: Exception(\"%ticker%: Data doesn't exist for startDate = 628491600, endDate = 1580446800\")\n",
      "['PSA$G', 'PSA$N', 'PSEC$A', 'PSA$K', 'PSA$F', 'PSA$M', 'PSQH.W', 'PW$A', 'PSA$I', 'PSA$L', 'PSA$S', 'PSFE.W', 'PSA$R', 'PSA$J', 'PSA$P', 'PSA$H', 'PSA$O', 'PSA$Q']: Exception('%ticker%: No timezone found, symbol may be delisted')\n",
      "['PTWOW', 'PWUPW', 'PXSAW', 'PUCKW', 'PTIXW']: Exception(\"%ticker%: Period 'max' is invalid, must be one of ['1d', '5d']\")\n"
     ]
    },
    {
     "name": "stdout",
     "output_type": "stream",
     "text": [
      "Success:    58/   58 | To go: 00:04:20 (1,974)\n"
     ]
    },
    {
     "name": "stderr",
     "output_type": "stream",
     "text": [
      "[*********************100%%**********************]  100 of 100 completed\n",
      "\n",
      "42 Failed downloads:\n",
      "['QRTEP', 'RBLX', 'QDROU', 'RCC', 'RCAC', 'QBTS', 'RACYU', 'RANI', 'QLI', 'RACY', 'QOMOU', 'QSG', 'QOMO', 'RAYA', 'QETA', 'RAIN', 'RBCP', 'QDRO', 'RCFA', 'QETAU', 'QSI', 'QFTA', 'RCACU', 'QH', 'RBOT', 'RBT', 'QS']: Exception(\"%ticker%: Data doesn't exist for startDate = 628491600, endDate = 1580446800\")\n",
      "['RCACW', 'RCKTW', 'RACYW', 'QSIAW', 'QDROW', 'QOMOW', 'QOMOR', 'QETAR', 'RCRTW']: Exception(\"%ticker%: Period 'max' is invalid, must be one of ['1d', '5d']\")\n",
      "['RC$C', 'RC$E', 'RCFA.W', 'QBTS.W', 'RBOT.W', 'RCFA.U']: Exception('%ticker%: No timezone found, symbol may be delisted')\n",
      "[                       0%%                      ]"
     ]
    },
    {
     "name": "stdout",
     "output_type": "stream",
     "text": [
      "Success:    59/   59 | To go: 00:04:07 (1,874)\n"
     ]
    },
    {
     "name": "stderr",
     "output_type": "stream",
     "text": [
      "[*********************100%%**********************]  100 of 100 completed\n",
      "\n",
      "43 Failed downloads:\n",
      "['RF$B', 'RF$C', 'RF$E', 'REXR$C', 'REXR$B', 'RHE$A', 'RDW.W', 'RITM$A']: Exception('%ticker%: No timezone found, symbol may be delisted')\n",
      "['RENE', 'REBN', 'RFAC', 'RDW', 'RDZN', 'RELI', 'REGCP', 'RILYT', 'RFMZ', 'RILYM', 'RERE', 'REGCO', 'RENT', 'RENEU', 'RILYL', 'RILYG', 'REYN', 'REE', 'RGF', 'RFM', 'REAX', 'RFACU', 'RELY', 'REVB', 'RILYZ', 'RGC', 'RGTI', 'REFI', 'RILYK']: Exception(\"%ticker%: Data doesn't exist for startDate = 628491600, endDate = 1580446800\")\n",
      "['RFACR', 'RGTIW', 'REVBW', 'RFACW', 'RELIW', 'RDZNW']: Exception(\"%ticker%: Period 'max' is invalid, must be one of ['1d', '5d']\")\n",
      "[*                      3%%                      ]  3 of 100 completed"
     ]
    },
    {
     "name": "stdout",
     "output_type": "stream",
     "text": [
      "Success:    60/   60 | To go: 00:03:53 (1,774)\n"
     ]
    },
    {
     "name": "stderr",
     "output_type": "stream",
     "text": [
      "[*********************100%%**********************]  100 of 100 completed\n",
      "\n",
      "49 Failed downloads:\n",
      "['RMCOW', 'ROCLW', 'RMGCW']: Exception(\"%ticker%: Period 'max' is invalid, must be one of ['1d', '5d']\")\n",
      "['RSKD', 'RR', 'RIVN', 'RKLB', 'RPRX', 'RNW', 'ROMA', 'ROCL', 'RLYB', 'RRAC', 'RMGCU', 'ROSS', 'RNLX', 'RLX', 'RNWWW', 'RMCO', 'ROCLU', 'RLTY', 'RMGC', 'RNXT', 'RNAZ', 'RPTX', 'ROIV', 'RKT', 'RSI', 'RLAY', 'RMMZ', 'RPHM', 'ROOT', 'ROVR', 'RNA', 'RPID', 'RSVR']: Exception(\"%ticker%: Data doesn't exist for startDate = 628491600, endDate = 1580446800\")\n",
      "['ROSS.W', 'RJF$B', 'RRAC.U', 'RIV$A', 'RITM$B', 'RNR$F', 'ROSS.U', 'RITM$D', 'RMPL$', 'RNR$G', 'RLJ$A', 'RITM$C', 'RRAC.W']: Exception('%ticker%: No timezone found, symbol may be delisted')\n",
      "[*                      2%%                      ]  2 of 100 completed"
     ]
    },
    {
     "name": "stdout",
     "output_type": "stream",
     "text": [
      "Success:    61/   61 | To go: 00:03:39 (1,674)\n"
     ]
    },
    {
     "name": "stderr",
     "output_type": "stream",
     "text": [
      "[*********************100%%**********************]  100 of 100 completed\n",
      "\n",
      "45 Failed downloads:\n",
      "['SABSW', 'SAGAR', 'RWODR', 'RVSNW', 'RWODW', 'SATLW', 'RUMBW', 'SAITW', 'RVMDW', 'RVPHW']: Exception(\"%ticker%: Period 'max' is invalid, must be one of ['1d', '5d']\")\n",
      "['SABS', 'SATL', 'RUM', 'SAJ', 'SAGAU', 'SATX', 'RXO', 'RWAY', 'RWODU', 'RYZB', 'S', 'RVMD', 'RYAN', 'RSVRW', 'SBBA', 'SAVAW', 'SANA', 'SAZ', 'SAY', 'RVSN', 'RXST', 'RWOD', 'SAT', 'SAGA', 'RWAYZ', 'RWAYL', 'RXT', 'RXRX', 'RZC', 'SAI']: Exception(\"%ticker%: Data doesn't exist for startDate = 628491600, endDate = 1580446800\")\n",
      "['SB$C', 'SBEV.W', 'RWT$A', 'SACH$A', 'SB$D']: Exception('%ticker%: No timezone found, symbol may be delisted')\n",
      "[*                      3%%                      ]  3 of 100 completed"
     ]
    },
    {
     "name": "stdout",
     "output_type": "stream",
     "text": [
      "Success:    62/   62 | To go: 00:03:25 (1,574)\n"
     ]
    },
    {
     "name": "stderr",
     "output_type": "stream",
     "text": [
      "[*********************100%%**********************]  100 of 100 completed\n",
      "\n",
      "50 Failed downloads:\n",
      "['SCE$G', 'SCE$M', 'SEAL$B', 'SBXC.U', 'SBXC.W', 'SF$D', 'SCE$H', 'SCE$J', 'SF$B', 'SCE$K', 'SEDA.W', 'SEAL$A', 'SCHW$J', 'SF$C', 'SES.W', 'SCHW$D', 'SCE$L', 'SEDA.U']: Exception('%ticker%: No timezone found, symbol may be delisted')\n",
      "['SEZL', 'SEDA', 'SEER', 'SCCC', 'SDHY', 'SEPAU', 'SEATW', 'SDA', 'SCRM', 'SDRL', 'SEPA', 'SCCE', 'SCRMU', 'SDOT', 'SBXC', 'SDIG', 'SBFM', 'SCCG', 'SEMR', 'SCCF', 'SDGR', 'SDHC', 'SERA', 'SCLX', 'SCCD', 'SES', 'SEAT']: Exception(\"%ticker%: Data doesn't exist for startDate = 628491600, endDate = 1580446800\")\n",
      "['SCRMW', 'SEPAW', 'SCLXW', 'SDAWW', 'SBFMW']: Exception(\"%ticker%: Period 'max' is invalid, must be one of ['1d', '5d']\")\n",
      "[                       0%%                      ]"
     ]
    },
    {
     "name": "stdout",
     "output_type": "stream",
     "text": [
      "Success:    63/   63 | To go: 00:03:12 (1,474)\n"
     ]
    },
    {
     "name": "stderr",
     "output_type": "stream",
     "text": [
      "[*********************100%%**********************]  100 of 100 completed\n",
      "\n",
      "38 Failed downloads:\n",
      "['SHAP', 'SGMT', 'SGE', 'SGHT', 'SIGIP', 'SHLS', 'SKGR', 'SHPH', 'SG', 'SING', 'SHFS', 'SIDU', 'SHIM', 'SFWL', 'SHC', 'SILO', 'SKGRU', 'SKIN', 'SHOT', 'SHCRW', 'SHCR', 'SKGRW', 'SKWD', 'SKLZ', 'SGD', 'SHCO', 'SGN', 'SHLT', 'SGHC']: Exception(\"%ticker%: Data doesn't exist for startDate = 628491600, endDate = 1580446800\")\n",
      "['SHFSW', 'SHPWW', 'SFB', 'SHOTW']: Exception(\"%ticker%: Period 'max' is invalid, must be one of ['1d', '5d']\")\n",
      "['SHO$I', 'SHAP.W', 'SHO$H', 'SHAP.U', 'SITC$A']: Exception('%ticker%: No timezone found, symbol may be delisted')\n",
      "[*                      3%%                      ]  3 of 100 completed"
     ]
    },
    {
     "name": "stdout",
     "output_type": "stream",
     "text": [
      "Success:    64/   64 | To go: 00:02:58 (1,374)\n"
     ]
    },
    {
     "name": "stderr",
     "output_type": "stream",
     "text": [
      "[*********************100%%**********************]  100 of 100 completed\n",
      "\n",
      "41 Failed downloads:\n",
      "['SLAMW', 'SMXWW', 'SLNAW', 'SLACW', 'SLDPW', 'SNAXW']: Exception(\"%ticker%: Period 'max' is invalid, must be one of ['1d', '5d']\")\n",
      "['SMRT', 'SLNA', 'SNMP', 'SLAM', 'SKYX', 'SMR', 'SLNHP', 'SNSE', 'SNPO', 'SNPX', 'SNCRL', 'SNCY', 'SLDP', 'SLAC', 'SLAMU', 'SNCE', 'SLND', 'SNOW', 'SLQT', 'SMWB', 'SLACU', 'SLRN', 'SNTG', 'SMX', 'SLN', 'SLVM', 'SMFL', 'SKYH', 'SNAL', 'SN', 'SKYT']: Exception(\"%ticker%: Data doesn't exist for startDate = 628491600, endDate = 1580446800\")\n",
      "['SKYH.W', 'SLND.W', 'SMR.W', 'SLG$I']: Exception('%ticker%: No timezone found, symbol may be delisted')\n",
      "[*                      2%%                      ]  2 of 100 completed"
     ]
    },
    {
     "name": "stdout",
     "output_type": "stream",
     "text": [
      "Success:    65/   65 | To go: 00:02:45 (1,274)\n"
     ]
    },
    {
     "name": "stderr",
     "output_type": "stream",
     "text": [
      "[*********************100%%**********************]  99 of 100 completed\n",
      "\n",
      "39 Failed downloads:\n",
      "['SPRY', 'SOAR', 'SPKLU', 'SRBK', 'SOUN', 'SPHR', 'SPGC', 'SPKL', 'SPEC', 'SQSP', 'SRFM', 'SPRB', 'SOFI', 'SQFT', 'SNTI', 'SOVO', 'SPPL', 'SPIR', 'SOPH', 'SRAD', 'SQFTP', 'SOJE', 'SPRC', 'SOND', 'SOPA']: Exception(\"%ticker%: Data doesn't exist for startDate = 628491600, endDate = 1580446800\")\n",
      "['SPG$J', 'SPE$C', 'SRG$A', 'SR$A', 'SNV$E', 'SPNT$B', 'SOAR.W', 'SPLP$A', 'SNV$D']: Exception('%ticker%: No timezone found, symbol may be delisted')\n",
      "['SONDW', 'SPKLW', 'SQFTW', 'SPECW', 'SOUNW']: Exception(\"%ticker%: Period 'max' is invalid, must be one of ['1d', '5d']\")\n",
      "[                       0%%                      ]"
     ]
    },
    {
     "name": "stdout",
     "output_type": "stream",
     "text": [
      "Success:    66/   66 | To go: 00:02:32 (1,174)\n"
     ]
    },
    {
     "name": "stderr",
     "output_type": "stream",
     "text": [
      "[*********************100%%**********************]  100 of 100 completed\n",
      "\n",
      "31 Failed downloads:\n",
      "['STSSW', 'SURGW', 'STIXW', 'STRCW', 'SRZNW', 'SVIIW', 'SVIIR']: Exception(\"%ticker%: Period 'max' is invalid, must be one of ['1d', '5d']\")\n",
      "['SSIC', 'STKH', 'SSSSL', 'SRM', 'STRW', 'SSBK', 'STER', 'SVMH', 'STHO', 'STVN', 'STRC', 'STTK', 'STEP', 'SVIIU', 'STBX', 'SVII', 'SST', 'STIX', 'SRZN', 'STSS', 'STEM']: Exception(\"%ticker%: Data doesn't exist for startDate = 628491600, endDate = 1580446800\")\n",
      "['STT$G', 'SST.W', 'STT$D']: Exception('%ticker%: No timezone found, symbol may be delisted')\n",
      "[*                      2%%                      ]  2 of 100 completed"
     ]
    },
    {
     "name": "stdout",
     "output_type": "stream",
     "text": [
      "Success:    67/   67 | To go: 00:02:19 (1,074)\n"
     ]
    },
    {
     "name": "stderr",
     "output_type": "stream",
     "text": [
      "[*********************100%%**********************]  99 of 100 completed\n",
      "\n",
      "47 Failed downloads:\n",
      "['T$A', 'SYF$A', 'T$C', 'TAP.A']: Exception('%ticker%: No timezone found, symbol may be delisted')\n",
      "['TASK', 'SWSS', 'TBIO', 'SWSSU', 'SXTP', 'SWKHL', 'TCN', 'TCBC', 'SYNX', 'TBMCR', 'TBMC', 'SVRE', 'TALK', 'SZZLU', 'SYT', 'SYM', 'TBLA', 'SYTA', 'TCBIO', 'SWVL', 'SYRA', 'TCBS', 'TCBP', 'SVV', 'TBLD', 'TARS', 'TCJH', 'SZZL', 'SWIN', 'SWIM', 'SWAG', 'TCBX']: Exception(\"%ticker%: Data doesn't exist for startDate = 628491600, endDate = 1580446800\")\n",
      "['SWSSW', 'SXTPW', 'TALKW', 'SWAGW', 'TCBPW', 'SVREW', 'SWVLW', 'TBLAW', 'SVMHW', 'SZZLW', 'SYTAW']: Exception(\"%ticker%: Period 'max' is invalid, must be one of ['1d', '5d']\")\n"
     ]
    },
    {
     "name": "stdout",
     "output_type": "stream",
     "text": [
      "Success:    68/   68 | To go: 00:02:06 (  974)\n"
     ]
    },
    {
     "name": "stderr",
     "output_type": "stream",
     "text": [
      "[*********************100%%**********************]  100 of 100 completed\n",
      "\n",
      "40 Failed downloads:\n",
      "['TGL', 'TFPM', 'TDUP', 'TGAN', 'TFINP', 'TELZ', 'TGAA', 'TCOA', 'TENKU', 'TCRX', 'TERN', 'TETE', 'TGVCU', 'TDCX', 'THCH', 'TGVC', 'TGAAU', 'THCP', 'THRD', 'TFSA', 'THCPU', 'TGVCW', 'TENK', 'TETEU', 'THRX', 'THAR']: Exception(\"%ticker%: Data doesn't exist for startDate = 628491600, endDate = 1580446800\")\n",
      "['TENKR', 'THCPW', 'TETEW', 'TGAAW']: Exception(\"%ticker%: Period 'max' is invalid, must be one of ['1d', '5d']\")\n",
      "['TDW.W', 'TFC$O', 'TDS$U', 'TGH$B', 'TCOA.U', 'TFC$R', 'TFC$I', 'TGH$A', 'TCOA.W', 'TDS$V']: Exception('%ticker%: No timezone found, symbol may be delisted')\n",
      "[*                      3%%                      ]  3 of 100 completed"
     ]
    },
    {
     "name": "stdout",
     "output_type": "stream",
     "text": [
      "Success:    69/   69 | To go: 00:01:53 (  874)\n"
     ]
    },
    {
     "name": "stderr",
     "output_type": "stream",
     "text": [
      "[*********************100%%**********************]  100 of 100 completed\n",
      "\n",
      "37 Failed downloads:\n",
      "['TMTCR', 'TLGYW', 'TOIIW', 'TNONW', 'THWWW']: Exception(\"%ticker%: Period 'max' is invalid, must be one of ['1d', '5d']\")\n",
      "['TMC', 'TIL', 'TRINL', 'TMCI', 'TKNO', 'TPG', 'TOST', 'TLGY', 'TRIN', 'TLSI', 'TMTCU', 'TOI', 'TNGX', 'TORO', 'TNYA', 'TLGYU', 'TLS', 'TKLF', 'TRDA', 'TLIS', 'TIRX', 'TIXT', 'TMCWW', 'TPET', 'TLSIW', 'TPTA', 'TMTC', 'TNON', 'TOP', 'TIVC']: Exception(\"%ticker%: Data doesn't exist for startDate = 628491600, endDate = 1580446800\")\n",
      "['TNP$E', 'TNP$F']: Exception('%ticker%: No timezone found, symbol may be delisted')\n",
      "[*                      3%%                      ]  3 of 100 completed"
     ]
    },
    {
     "name": "stdout",
     "output_type": "stream",
     "text": [
      "Success:    70/   70 | To go: 00:01:39 (  774)\n"
     ]
    },
    {
     "name": "stderr",
     "output_type": "stream",
     "text": [
      "[*********************100%%**********************]  100 of 100 completed\n",
      "\n",
      "31 Failed downloads:\n",
      "['TWLVW', 'TRONW']: Exception(\"%ticker%: Period 'max' is invalid, must be one of ['1d', '5d']\")\n",
      "['TRTN$A', 'TWO$A', 'TRTX$C', 'TRTN$D', 'TRTL.U', 'TRTL.W', 'TRTN$B', 'TRTN$C', 'TWO$C', 'TRTN$E', 'TRIS.U', 'TWO$B', 'TRIS.W']: Exception('%ticker%: No timezone found, symbol may be delisted')\n",
      "['TWLVU', 'TRON', 'TURB', 'TRIS', 'TSVT', 'TWKS', 'TSP', 'TRNR', 'TRML', 'TRTL', 'TWOA', 'TRONU', 'TSHA', 'TWLV', 'TUYA', 'TSBX']: Exception(\"%ticker%: Data doesn't exist for startDate = 628491600, endDate = 1580446800\")\n",
      "[                       0%%                      ]"
     ]
    },
    {
     "name": "stdout",
     "output_type": "stream",
     "text": [
      "Success:    71/   71 | To go: 00:01:26 (  674)\n"
     ]
    },
    {
     "name": "stderr",
     "output_type": "stream",
     "text": [
      "[*********************100%%**********************]  100 of 100 completed\n",
      "\n",
      "29 Failed downloads:\n",
      "['TY$', 'UMH$D', 'USB$H', 'USB$Q', 'USB$S', 'USB$A', 'USB$P', 'USB$R']: Exception('%ticker%: No timezone found, symbol may be delisted')\n",
      "['UCAR', 'UPC', 'UROY', 'UPST', 'UGIC', 'U', 'UHG', 'UPXI', 'TYRA', 'UCBIO', 'UCL', 'TYGO', 'ULCC', 'TXO', 'UDMY', 'UP', 'ULY']: Exception(\"%ticker%: Data doesn't exist for startDate = 628491600, endDate = 1580446800\")\n",
      "['UHGWW', 'UKOMW']: Exception(\"%ticker%: Period 'max' is invalid, must be one of ['1d', '5d']\")\n",
      "['UHAL.B']: Exception('%ticker%: No price data found, symbol may be delisted (1d 1989-12-01 -> 2020-1-31)')\n",
      "['UNCY']: Exception('%ticker%: Error occurred while retrieving timeseries from Redis, keys: [RedisKey [key=%ticker%, cluster=finance]]')\n",
      "[*                      3%%                      ]  3 of 100 completed"
     ]
    },
    {
     "name": "stdout",
     "output_type": "stream",
     "text": [
      "Success:    72/   72 | To go: 00:01:13 (  574)\n"
     ]
    },
    {
     "name": "stderr",
     "output_type": "stream",
     "text": [
      "[*********************100%%**********************]  100 of 100 completed\n",
      "\n",
      "36 Failed downloads:\n",
      "['USCTW', 'VERBW', 'VGASW', 'USGOW']: Exception(\"%ticker%: Period 'max' is invalid, must be one of ['1d', '5d']\")\n",
      "['VAXX', 'VGAS', 'VBNK', 'USEA', 'VEEE', 'VIAO', 'VERV', 'VFSWW', 'VFS', 'VALN', 'VHAQ', 'VERA', 'VCXB', 'VAQC', 'USGO', 'UZF', 'USCTU', 'UZD', 'VERX', 'UZE', 'USCT', 'VAL', 'VCSA', 'UWMC', 'USCB', 'VCIG']: Exception(\"%ticker%: Data doesn't exist for startDate = 628491600, endDate = 1580446800\")\n",
      "['VHAQ.U', 'VHAQ.R', 'UWMC.W', 'VCXB.U', 'VCXB.W', 'VAL.W']: Exception('%ticker%: No timezone found, symbol may be delisted')\n",
      "[*                      3%%                      ]  3 of 100 completed"
     ]
    },
    {
     "name": "stdout",
     "output_type": "stream",
     "text": [
      "Success:    73/   73 | To go: 00:01:01 (  474)\n"
     ]
    },
    {
     "name": "stderr",
     "output_type": "stream",
     "text": [
      "[*********************100%%**********************]  100 of 100 completed\n",
      "\n",
      "42 Failed downloads:\n",
      "['VIEWW', 'VSTEW', 'VSACW', 'VMCAW', 'VRMEW']: Exception(\"%ticker%: Period 'max' is invalid, must be one of ['1d', '5d']\")\n",
      "['VSCO', 'VSAC', 'VIEW', 'VSTA', 'VSME', 'VITL', 'VLCN', 'VOR', 'VOXR', 'VMCA', 'VINO', 'VRM', 'VMAR', 'VINP', 'VNT', 'VINE', 'VIRI', 'VRAX', 'VSACU', 'VINC', 'VLN', 'VSTE', 'VMCAU', 'VLTO', 'VRAR', 'VLD', 'VSSYW', 'VMEO', 'VRPX', 'VIGL']: Exception(\"%ticker%: Data doesn't exist for startDate = 628491600, endDate = 1580446800\")\n",
      "['VNO$O', 'VNO$N', 'VOYA$B', 'VNO$M', 'VLN.W', 'VLD.W', 'VNO$L']: Exception('%ticker%: No timezone found, symbol may be delisted')\n"
     ]
    },
    {
     "name": "stdout",
     "output_type": "stream",
     "text": [
      "Success:    74/   74 | To go: 00:00:48 (  374)\n"
     ]
    },
    {
     "name": "stderr",
     "output_type": "stream",
     "text": [
      "[*********************100%%**********************]  100 of 100 completed\n",
      "\n",
      "42 Failed downloads:\n",
      "['VTYX', 'VVOS', 'WAFDP', 'VTRU', 'WAVE', 'WDI', 'WEST', 'WDH', 'WALD', 'VTEX', 'WEL', 'WBUY', 'WAVS', 'WAVSU', 'VSTS', 'WBX', 'WETG', 'VZLA', 'WEAV', 'VWE', 'VTS', 'WALDW', 'VTMX', 'VZIO', 'WFRD']: Exception(\"%ticker%: Data doesn't exist for startDate = 628491600, endDate = 1580446800\")\n",
      "['WFC$R', 'WFC$D', 'WFC$Z', 'WFC$C', 'WAL$A', 'WCC$A', 'WFC$L', 'WBS$G', 'WFC$Y', 'WEL.U', 'WBS$F', 'WEL.W', 'WBX.W', 'WFC$A']: Exception('%ticker%: No timezone found, symbol may be delisted')\n",
      "['WAVSW', 'VWEWW', 'WESTW']: Exception(\"%ticker%: Period 'max' is invalid, must be one of ['1d', '5d']\")\n"
     ]
    },
    {
     "name": "stdout",
     "output_type": "stream",
     "text": [
      "Success:    75/   75 | To go: 00:00:35 (  274)\n"
     ]
    },
    {
     "name": "stderr",
     "output_type": "stream",
     "text": [
      "[*********************100%%**********************]  100 of 100 completed\n",
      "\n",
      "33 Failed downloads:\n",
      "['WHLRL', 'WINVU', 'WS', 'WLGS', 'WINV', 'WISH', 'WSBCP', 'WGS', 'WTFCP', 'WNNR', 'WIMI', 'WOOF', 'WMG', 'WLDS', 'WRBY', 'WRAC', 'WRNT', 'WHFCL', 'WKME', 'WNW']: Exception(\"%ticker%: Data doesn't exist for startDate = 628491600, endDate = 1580446800\")\n",
      "['WRB$G', 'WNNR.U', 'WRB$E', 'WRB$H', 'WRAC.U', 'WSO.B', 'WNNR.W', 'WRB$F']: Exception('%ticker%: No timezone found, symbol may be delisted')\n",
      "['WKSPW', 'WINVR', 'WINVW', 'WGSWW', 'WLDSW']: Exception(\"%ticker%: Period 'max' is invalid, must be one of ['1d', '5d']\")\n",
      "[                       0%%                      ]"
     ]
    },
    {
     "name": "stdout",
     "output_type": "stream",
     "text": [
      "Success:    76/   76 | To go: 00:00:22 (  174)\n"
     ]
    },
    {
     "name": "stderr",
     "output_type": "stream",
     "text": [
      "[*********************100%%**********************]  100 of 100 completed\n",
      "\n",
      "39 Failed downloads:\n",
      "['XPDBW', 'WTMAR', 'XFINW', 'YOTAR', 'XOSWW', 'XBPEW', 'YOTAW']: Exception(\"%ticker%: Period 'max' is invalid, must be one of ['1d', '5d']\")\n",
      "['XPDB', 'WTO', 'XELAP', 'XPER', 'YOU', 'YALA', 'XOS', 'XOMAO', 'XLO', 'WTMA', 'XPOF', 'YQ', 'XBP', 'XMTR', 'YMM', 'YGMZ', 'XOMAP', 'WUCT', 'XPON', 'YS', 'XPEV', 'YOTAU', 'XFINU', 'XRTX', 'XFIN', 'YGF', 'YOSH', 'WTMAU', 'XPDBU', 'YOTA']: Exception(\"%ticker%: Data doesn't exist for startDate = 628491600, endDate = 1580446800\")\n",
      "['YCBD$A', 'XFLT$A']: Exception('%ticker%: No timezone found, symbol may be delisted')\n",
      "[**                     4%%                      ]  3 of 73 completed"
     ]
    },
    {
     "name": "stdout",
     "output_type": "stream",
     "text": [
      "Success:    77/   77 | To go: 00:00:09 (   74)\n"
     ]
    },
    {
     "name": "stderr",
     "output_type": "stream",
     "text": [
      "[*********************100%%**********************]  73 of 73 completed\n",
      "\n",
      "41 Failed downloads:\n",
      "['YSBPW', 'ZCARW', 'ZBZZT', 'ZCZZT', 'ZAZZT', 'ZAPPW', 'ZXZZT', 'ZLSWW', 'ZVV', 'ZURAW', 'ZVZZT', 'ZWZZT', 'ZJZZT']: Exception(\"%ticker%: Period 'max' is invalid, must be one of ['1d', '5d']\")\n",
      "['ZIM', 'ZLSWU', 'ZETA', 'YSG', 'ZENV', 'ZVSA', 'ZFOXW', 'ZLS', 'ZGN', 'ZCAR', 'ZNTL', 'ZVIA', 'ZIMV', 'ZKH', 'ZAPP', 'ZCMD', 'ZFOX', 'ZI', 'ZIP', 'ZH', 'ZJYL', 'ZURA']: Exception(\"%ticker%: Data doesn't exist for startDate = 628491600, endDate = 1580446800\")\n",
      "['ZXYZ.A', 'ZEXIT', 'ZXIET', 'ZIEXT', 'ZBZX', 'ZTEST']: Exception('%ticker%: No timezone found, symbol may be delisted')\n"
     ]
    },
    {
     "name": "stdout",
     "output_type": "stream",
     "text": [
      "Success:    78/   78 | To go: -1:59:57 (  -26)\n"
     ]
    }
   ],
   "source": [
    "prices_adj = []\n",
    "start = time()\n",
    "for i, chunk in enumerate(chunks(all_symbols, 100), 1):\n",
    "    prices_adj.append(yf.download(chunk, start='1989-12-01', end='2020-1-31', auto_adjust=True).stack(-1))\n",
    "\n",
    "    per_ticker = (time()-start) / (i * 100)\n",
    "    to_do = n - (i * 100)\n",
    "    to_go = to_do * per_ticker    \n",
    "    print(f'Success: {len(prices_adj):5,.0f}/{i:5,.0f} | To go: {format_time(to_go)} ({to_do:5,.0f})')"
   ]
  },
  {
   "cell_type": "code",
   "execution_count": 12,
   "metadata": {
    "ExecuteTime": {
     "end_time": "2021-02-24T10:01:19.400460Z",
     "start_time": "2021-02-24T10:00:48.704777Z"
    }
   },
   "outputs": [],
   "source": [
    "prices_adj = (pd.concat(prices_adj)\n",
    "              .dropna(how='all', axis=1)\n",
    "              .rename(columns=str.lower)\n",
    "              .swaplevel())"
   ]
  },
  {
   "cell_type": "code",
   "execution_count": 13,
   "metadata": {
    "ExecuteTime": {
     "end_time": "2021-02-24T10:01:19.403136Z",
     "start_time": "2021-02-24T10:01:19.401480Z"
    }
   },
   "outputs": [],
   "source": [
    "prices_adj.index.names = ['ticker', 'date']"
   ]
  },
  {
   "cell_type": "code",
   "execution_count": 14,
   "metadata": {
    "ExecuteTime": {
     "end_time": "2021-02-24T10:01:19.524404Z",
     "start_time": "2021-02-24T10:01:19.403934Z"
    }
   },
   "outputs": [
    {
     "data": {
      "text/plain": [
       "4615"
      ]
     },
     "execution_count": 14,
     "metadata": {},
     "output_type": "execute_result"
    }
   ],
   "source": [
    "len(prices_adj.index.unique('ticker'))"
   ]
  },
  {
   "cell_type": "code",
   "execution_count": 15,
   "metadata": {},
   "outputs": [],
   "source": [
    "prices_adj.to_hdf(results_path / 'data.h5', 'stocks/prices/adjusted_temp')"
   ]
  },
  {
   "cell_type": "code",
   "execution_count": 6,
   "metadata": {},
   "outputs": [],
   "source": [
    "prices_adj = pd.read_hdf(results_path / 'data.h5', 'stocks/prices/adjusted_temp')"
   ]
  },
  {
   "cell_type": "markdown",
   "metadata": {},
   "source": [
    "### Remove outliers"
   ]
  },
  {
   "cell_type": "code",
   "execution_count": 7,
   "metadata": {
    "ExecuteTime": {
     "end_time": "2021-02-24T10:01:26.721497Z",
     "start_time": "2021-02-24T10:01:19.525371Z"
    }
   },
   "outputs": [
    {
     "data": {
      "text/plain": [
       "555"
      ]
     },
     "execution_count": 7,
     "metadata": {},
     "output_type": "execute_result"
    }
   ],
   "source": [
    "df = prices_adj.close.unstack('ticker')\n",
    "pmax = df.pct_change().max()\n",
    "pmin = df.pct_change().min()\n",
    "to_drop = pmax[pmax > 1].index.union(pmin[pmin<-1].index)\n",
    "len(to_drop)"
   ]
  },
  {
   "cell_type": "code",
   "execution_count": 15,
   "metadata": {
    "ExecuteTime": {
     "end_time": "2021-02-24T10:02:49.069890Z",
     "start_time": "2021-02-24T10:02:48.975147Z"
    }
   },
   "outputs": [
    {
     "data": {
      "text/plain": [
       "4060"
      ]
     },
     "execution_count": 15,
     "metadata": {},
     "output_type": "execute_result"
    }
   ],
   "source": [
    "len(prices_adj.index.unique('ticker'))"
   ]
  },
  {
   "cell_type": "code",
   "execution_count": 16,
   "metadata": {
    "ExecuteTime": {
     "end_time": "2021-02-24T10:02:56.784555Z",
     "start_time": "2021-02-24T10:02:49.070735Z"
    }
   },
   "outputs": [],
   "source": [
    "prices_adj.sort_index().loc[idx[:, '1990': '2019'], :].to_hdf(results_path / 'data.h5', \n",
    "                                                              'stocks/prices/adjusted')"
   ]
  }
 ],
 "metadata": {
  "kernelspec": {
   "display_name": "Python 3 (ipykernel)",
   "language": "python",
   "name": "python3"
  },
  "language_info": {
   "codemirror_mode": {
    "name": "ipython",
    "version": 3
   },
   "file_extension": ".py",
   "mimetype": "text/x-python",
   "name": "python",
   "nbconvert_exporter": "python",
   "pygments_lexer": "ipython3",
   "version": "3.9.7"
  },
  "toc": {
   "base_numbering": 1,
   "nav_menu": {},
   "number_sections": true,
   "sideBar": true,
   "skip_h1_title": true,
   "title_cell": "Table of Contents",
   "title_sidebar": "Contents",
   "toc_cell": false,
   "toc_position": {},
   "toc_section_display": true,
   "toc_window_display": true
  }
 },
 "nbformat": 4,
 "nbformat_minor": 4
}
